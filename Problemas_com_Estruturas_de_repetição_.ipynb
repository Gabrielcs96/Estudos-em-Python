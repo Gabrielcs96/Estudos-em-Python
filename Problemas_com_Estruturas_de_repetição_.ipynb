{
  "nbformat": 4,
  "nbformat_minor": 0,
  "metadata": {
    "colab": {
      "provenance": [],
      "authorship_tag": "ABX9TyPDPN/y2dyDK7OXXoI1xD7E",
      "include_colab_link": true
    },
    "kernelspec": {
      "name": "python3",
      "display_name": "Python 3"
    },
    "language_info": {
      "name": "python"
    }
  },
  "cells": [
    {
      "cell_type": "markdown",
      "metadata": {
        "id": "view-in-github",
        "colab_type": "text"
      },
      "source": [
        "<a href=\"https://colab.research.google.com/github/Gabrielcs96/Estudos-em-Python/blob/main/Problemas_com_Estruturas_de_repeti%C3%A7%C3%A3o_.ipynb\" target=\"_parent\"><img src=\"https://colab.research.google.com/assets/colab-badge.svg\" alt=\"Open In Colab\"/></a>"
      ]
    },
    {
      "cell_type": "code",
      "execution_count": null,
      "metadata": {
        "id": "11YqM4bU13g7"
      },
      "outputs": [],
      "source": [
        "nova_tabuada = \"S\"\n",
        "while nova_tabuada != \"N\" or nova_tabuada != \"NAO\":\n",
        "  numero = int(input(\"Digite um número para ver sua tabuada: \"))\n",
        "  for x in range(0,10+1):\n",
        "      print(x,\" x \",numero, \" = \", x*numero)\n",
        "  nova_tabuada = input(\"Você deseja uma nova tabuada? (Digite 'S' para 'SIM' ou 'N' para NÃO) \")\n",
        "  nova_tabuada =  nova_tabuada.upper()"
      ]
    },
    {
      "cell_type": "code",
      "source": [],
      "metadata": {
        "id": "kJ6s4OX11-Qs"
      },
      "execution_count": null,
      "outputs": []
    },
    {
      "cell_type": "markdown",
      "source": [
        "# CALCULADORA DE MÉDIA\n",
        "\n",
        "O programa deve calcular a média dos números informados pelo usuário; \\\n",
        "Primeiro, o programa perguntará quantos números o usuárioq uer; \\\n",
        "Em seguida, ele pedirá para o usuário entrar com cada um dos números; \\\n",
        "Por fim, o programa iprime a média dos números"
      ],
      "metadata": {
        "id": "WgJ5KleA3Jag"
      }
    },
    {
      "cell_type": "code",
      "source": [
        "  tab = int(int(input(\"Digite a quantidade de números para os quais você quer calcular a média: \")))\n",
        "  soma = 0\n",
        "  for tab in range(1,tab+1):\n",
        "    texto = \"informe o \" + str(tab) + \"° número \"\n",
        "    soma= soma+int(input(texto))\n",
        "\n",
        "print(\" A média é igual a:\", soma/tab)"
      ],
      "metadata": {
        "colab": {
          "base_uri": "https://localhost:8080/"
        },
        "id": "cuI33aFV3kQF",
        "outputId": "937aefe9-90e0-4f36-ca1a-edaa62dcd662"
      },
      "execution_count": 8,
      "outputs": [
        {
          "output_type": "stream",
          "name": "stdout",
          "text": [
            "Digite a quantidade de números para os quais você quer calcular a média: 3\n",
            "informe o 1° número 3\n",
            "informe o 2° número 3\n",
            "informe o 3° número 3\n",
            " A média é igual a: 3.0\n"
          ]
        }
      ]
    },
    {
      "cell_type": "markdown",
      "source": [],
      "metadata": {
        "id": "j4yQDS847boG"
      }
    },
    {
      "cell_type": "markdown",
      "source": [],
      "metadata": {
        "id": "Bx8hdMWf5mqM"
      }
    },
    {
      "cell_type": "code",
      "source": [
        "# Crie um programa que imrpirma os dez primeiros núemros maiores que 50\n",
        "for x in range(51,61):\n",
        "  print(x)"
      ],
      "metadata": {
        "colab": {
          "base_uri": "https://localhost:8080/"
        },
        "id": "wzBi0nXv41-x",
        "outputId": "f64bbd44-42d8-4d89-a979-68a3944692d5"
      },
      "execution_count": 11,
      "outputs": [
        {
          "output_type": "stream",
          "name": "stdout",
          "text": [
            "51\n",
            "52\n",
            "53\n",
            "54\n",
            "55\n",
            "56\n",
            "57\n",
            "58\n",
            "59\n",
            "60\n"
          ]
        }
      ]
    },
    {
      "cell_type": "code",
      "source": [
        "# crie um programa que faça a leitura de 5 núemros inteiros e faça a soma desses números.\n",
        "soma=0\n",
        "x=0\n",
        "while x < 5:\n",
        "  soma = soma+int(input(\"digite o número para interar na soma: \"))\n",
        "  x=x+1\n",
        "\n",
        "print(soma)"
      ],
      "metadata": {
        "colab": {
          "base_uri": "https://localhost:8080/"
        },
        "id": "vu2X0yH87gta",
        "outputId": "3af21a92-4345-4311-fcd4-8c26953e2952"
      },
      "execution_count": 16,
      "outputs": [
        {
          "output_type": "stream",
          "name": "stdout",
          "text": [
            "digite o número para interar na soma4\n",
            "digite o número para interar na soma4\n",
            "digite o número para interar na soma4\n",
            "digite o número para interar na soma4\n",
            "digite o número para interar na soma4\n",
            "20\n"
          ]
        }
      ]
    },
    {
      "cell_type": "code",
      "source": [
        "# Imrpessão de taboada. O programa deve imprimir todas do 1 ao 10, apenas.\n",
        "tab = 1\n",
        "while tab<11:\n",
        "    print(\"--------------------\")\n",
        "    for n in range(1, 11):\n",
        "        resp =  \"|\" +  str(n) +  \" x \" + str(tab) + \" = \" + str( n * tab )\n",
        "        esp = \"  \" * (14 - len(resp)) + \"|\"\n",
        "        print(resp + esp)\n",
        "        if n==10:\n",
        "            tab = tab + 1\n",
        "            break\n",
        "print(\"--------------------\")"
      ],
      "metadata": {
        "colab": {
          "base_uri": "https://localhost:8080/"
        },
        "id": "KLG29xH38HzS",
        "outputId": "072f8731-33b4-4d9c-f261-e850fce8ae08"
      },
      "execution_count": 34,
      "outputs": [
        {
          "output_type": "stream",
          "name": "stdout",
          "text": [
            "--------------------\n",
            "|1 x 1 = 1        |\n",
            "|2 x 1 = 2        |\n",
            "|3 x 1 = 3        |\n",
            "|4 x 1 = 4        |\n",
            "|5 x 1 = 5        |\n",
            "|6 x 1 = 6        |\n",
            "|7 x 1 = 7        |\n",
            "|8 x 1 = 8        |\n",
            "|9 x 1 = 9        |\n",
            "|10 x 1 = 10    |\n",
            "--------------------\n",
            "|1 x 2 = 2        |\n",
            "|2 x 2 = 4        |\n",
            "|3 x 2 = 6        |\n",
            "|4 x 2 = 8        |\n",
            "|5 x 2 = 10      |\n",
            "|6 x 2 = 12      |\n",
            "|7 x 2 = 14      |\n",
            "|8 x 2 = 16      |\n",
            "|9 x 2 = 18      |\n",
            "|10 x 2 = 20    |\n",
            "--------------------\n",
            "|1 x 3 = 3        |\n",
            "|2 x 3 = 6        |\n",
            "|3 x 3 = 9        |\n",
            "|4 x 3 = 12      |\n",
            "|5 x 3 = 15      |\n",
            "|6 x 3 = 18      |\n",
            "|7 x 3 = 21      |\n",
            "|8 x 3 = 24      |\n",
            "|9 x 3 = 27      |\n",
            "|10 x 3 = 30    |\n",
            "--------------------\n",
            "|1 x 4 = 4        |\n",
            "|2 x 4 = 8        |\n",
            "|3 x 4 = 12      |\n",
            "|4 x 4 = 16      |\n",
            "|5 x 4 = 20      |\n",
            "|6 x 4 = 24      |\n",
            "|7 x 4 = 28      |\n",
            "|8 x 4 = 32      |\n",
            "|9 x 4 = 36      |\n",
            "|10 x 4 = 40    |\n",
            "--------------------\n",
            "|1 x 5 = 5        |\n",
            "|2 x 5 = 10      |\n",
            "|3 x 5 = 15      |\n",
            "|4 x 5 = 20      |\n",
            "|5 x 5 = 25      |\n",
            "|6 x 5 = 30      |\n",
            "|7 x 5 = 35      |\n",
            "|8 x 5 = 40      |\n",
            "|9 x 5 = 45      |\n",
            "|10 x 5 = 50    |\n",
            "--------------------\n",
            "|1 x 6 = 6        |\n",
            "|2 x 6 = 12      |\n",
            "|3 x 6 = 18      |\n",
            "|4 x 6 = 24      |\n",
            "|5 x 6 = 30      |\n",
            "|6 x 6 = 36      |\n",
            "|7 x 6 = 42      |\n",
            "|8 x 6 = 48      |\n",
            "|9 x 6 = 54      |\n",
            "|10 x 6 = 60    |\n",
            "--------------------\n",
            "|1 x 7 = 7        |\n",
            "|2 x 7 = 14      |\n",
            "|3 x 7 = 21      |\n",
            "|4 x 7 = 28      |\n",
            "|5 x 7 = 35      |\n",
            "|6 x 7 = 42      |\n",
            "|7 x 7 = 49      |\n",
            "|8 x 7 = 56      |\n",
            "|9 x 7 = 63      |\n",
            "|10 x 7 = 70    |\n",
            "--------------------\n",
            "|1 x 8 = 8        |\n",
            "|2 x 8 = 16      |\n",
            "|3 x 8 = 24      |\n",
            "|4 x 8 = 32      |\n",
            "|5 x 8 = 40      |\n",
            "|6 x 8 = 48      |\n",
            "|7 x 8 = 56      |\n",
            "|8 x 8 = 64      |\n",
            "|9 x 8 = 72      |\n",
            "|10 x 8 = 80    |\n",
            "--------------------\n",
            "|1 x 9 = 9        |\n",
            "|2 x 9 = 18      |\n",
            "|3 x 9 = 27      |\n",
            "|4 x 9 = 36      |\n",
            "|5 x 9 = 45      |\n",
            "|6 x 9 = 54      |\n",
            "|7 x 9 = 63      |\n",
            "|8 x 9 = 72      |\n",
            "|9 x 9 = 81      |\n",
            "|10 x 9 = 90    |\n",
            "--------------------\n",
            "|1 x 10 = 10    |\n",
            "|2 x 10 = 20    |\n",
            "|3 x 10 = 30    |\n",
            "|4 x 10 = 40    |\n",
            "|5 x 10 = 50    |\n",
            "|6 x 10 = 60    |\n",
            "|7 x 10 = 70    |\n",
            "|8 x 10 = 80    |\n",
            "|9 x 10 = 90    |\n",
            "|10 x 10 = 100|\n",
            "--------------------\n"
          ]
        }
      ]
    },
    {
      "cell_type": "code",
      "source": [
        "# Validação de valores\n",
        "# O programa deve solciitar a entrada de dois valores inteiros - O primeiro valor é maior que 10 e o segundo é pelo menos 10 vezes maior que os primeiro valor;\n",
        "# O programa deve imprimir o produto do primeiro valor pelo segundo valor.\n",
        "\n",
        "print(\"Você precisa digitar o primeiro valor maior que 10 e o segundo precisa ser pelo menos 10 vezes maior que o primeiro. \")\n",
        "\n",
        "while primeiro < 10 or segundo < (primeiro * 10):\n",
        "  print(\"Por favor se atente aos pedidos \")\n",
        "  primeiro=int(input(\"Digite o primeiro número: \"))\n",
        "  segundo=int(input(\"Digite o segundo número: \"))\n",
        "\n",
        "print(\"O produto dos dois números é: \", primeiro * segundo)"
      ],
      "metadata": {
        "colab": {
          "base_uri": "https://localhost:8080/"
        },
        "id": "Qp-gCXVs8fmU",
        "outputId": "c2ebc0af-e847-4072-8102-a65068431601"
      },
      "execution_count": 38,
      "outputs": [
        {
          "output_type": "stream",
          "name": "stdout",
          "text": [
            "Você precisa digitar o primeiro valor maior que 10 e o segundo precisa ser pelo menos 10 vezes maior que o primeiro. \n",
            "Por favor se atente aos pedidos \n",
            "Digite o primeiro número: 4\n",
            "Digite o segundo número: 5\n",
            "Por favor se atente aos pedidos \n",
            "Digite o primeiro número: 10\n",
            "Digite o segundo número: 100\n",
            "O produto dos dois números é:  1000\n"
          ]
        }
      ]
    },
    {
      "cell_type": "code",
      "source": [
        "--- O programa"
      ],
      "metadata": {
        "colab": {
          "base_uri": "https://localhost:8080/",
          "height": 106
        },
        "id": "xe8E7sMkAL0E",
        "outputId": "34c2646a-89be-4389-f5eb-1b52a5fde7cc"
      },
      "execution_count": 39,
      "outputs": [
        {
          "output_type": "error",
          "ename": "SyntaxError",
          "evalue": "invalid syntax (<ipython-input-39-83c76478aa1b>, line 1)",
          "traceback": [
            "\u001b[0;36m  File \u001b[0;32m\"<ipython-input-39-83c76478aa1b>\"\u001b[0;36m, line \u001b[0;32m1\u001b[0m\n\u001b[0;31m    --- O programa\u001b[0m\n\u001b[0m          ^\u001b[0m\n\u001b[0;31mSyntaxError\u001b[0m\u001b[0;31m:\u001b[0m invalid syntax\n"
          ]
        }
      ]
    },
    {
      "cell_type": "code",
      "source": [
        "#O programa deve solicitar a entrada de 5 valores inteiros\n",
        "# O programa deverá imprimir:\n",
        "\n",
        "#A quantidade dos valores pares\n",
        "#A soma dos valores pares\n",
        "# O produto dos valores pares\n",
        "\n",
        "count = 0\n",
        "sum = 0\n",
        "product = 1\n",
        "\n",
        "for tab in range(0,5):\n",
        "  print(\"Informe o \"+ str(tab+1)+ \"° número: \")\n",
        "  numero = int(input())\n",
        "  if numero % 2 == 0:\n",
        "    count = count+1\n",
        "    sum = sum+numero\n",
        "    product = product*numero\n",
        "\n",
        "print(\"A quantidade de números pares é: \", count)\n",
        "print(\"A soma dos números pares é: \", soma)\n",
        "print(\"O produto dos números pares é: \", product)\n"
      ],
      "metadata": {
        "colab": {
          "base_uri": "https://localhost:8080/"
        },
        "id": "Mn5Bp5UyA-QH",
        "outputId": "f31d6438-2b76-4f51-9053-a23a1393ccc1"
      },
      "execution_count": 46,
      "outputs": [
        {
          "output_type": "stream",
          "name": "stdout",
          "text": [
            "Informe o 1° número: \n",
            "4\n",
            "Informe o 2° número: \n",
            "5\n",
            "Informe o 3° número: \n",
            "11\n",
            "Informe o 4° número: \n",
            "9\n",
            "Informe o 5° número: \n",
            "44\n",
            "A quantidade de números pares é:  2\n",
            "A soma dos números pares é:  90\n",
            "O produto dos números pares é:  176\n"
          ]
        }
      ]
    },
    {
      "cell_type": "code",
      "source": [],
      "metadata": {
        "id": "Uj0BlIAOBI6W"
      },
      "execution_count": null,
      "outputs": []
    }
  ]
}