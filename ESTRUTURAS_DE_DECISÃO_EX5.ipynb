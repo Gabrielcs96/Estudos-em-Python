{
  "nbformat": 4,
  "nbformat_minor": 0,
  "metadata": {
    "colab": {
      "provenance": [],
      "authorship_tag": "ABX9TyM2iTcsaarFOr3LgJi207f3",
      "include_colab_link": true
    },
    "kernelspec": {
      "name": "python3",
      "display_name": "Python 3"
    },
    "language_info": {
      "name": "python"
    }
  },
  "cells": [
    {
      "cell_type": "markdown",
      "metadata": {
        "id": "view-in-github",
        "colab_type": "text"
      },
      "source": [
        "<a href=\"https://colab.research.google.com/github/Gabrielcs96/Estudos-em-Python/blob/main/ESTRUTURAS_DE_DECIS%C3%83O_EX5.ipynb\" target=\"_parent\"><img src=\"https://colab.research.google.com/assets/colab-badge.svg\" alt=\"Open In Colab\"/></a>"
      ]
    },
    {
      "cell_type": "code",
      "execution_count": null,
      "metadata": {
        "id": "Gjj0vhXUWXDd"
      },
      "outputs": [],
      "source": [
        "# O programa deve ler a quantidade de produtos comprados e o valor total que se pagou pelos produtos. o Programa deverá imprimir o valor total da  compra sem os descontos e depois deve mostrar o valor total aplicando os descontos e também o valor que o cliente economizou, conforme a tabela a seguir:\n",
        "\n",
        "#Quantidade      x        Desconto\n",
        "# 2                         2%\n",
        "# >2 e <=5                  5%\n",
        "# >5 e >=10                 10%"
      ]
    },
    {
      "cell_type": "code",
      "source": [
        "produtos=input(\"Digite a quantidade de produtos comprados: \")\n",
        "valor=input(\"Digite o valor total da compra: \")\n",
        "\n",
        "if int(produtos)<2:\n",
        "  print('O valor total da compra sem os descontos é de R$',valor)\n",
        "  print('O cliente não obteve nenhum desconto')\n",
        "  print('O cliente economizou R$',0)\n",
        "elif int(produtos)>=2 and int(produtos)<=5:\n",
        "  print('O valor total da compra sem os descontos é de R$',valor)\n",
        "  print('O cliente obteve um desconto de 5%')\n",
        "  print('O cliente economizou R$',float(valor)*0.05)\n",
        "  print('O valor total da compra com o desconto é de R$',float(valor)*0.95)\n",
        "elif int(produtos)>5 and int(produtos)<10:\n",
        "  print('O valor total da compra sem os descontos é de R$',valor)\n",
        "  print('O cliente obteve um desconto de 10%')\n",
        "  print('O cliente economizou R$',float(valor)*0.1)\n",
        "  print('O valor total da compra com o desconto é de R$',float(valor)*0.9)\n",
        "else:\n",
        "  print(\"Digite um valor válido\")"
      ],
      "metadata": {
        "colab": {
          "base_uri": "https://localhost:8080/"
        },
        "id": "HAL0av0-Wkim",
        "outputId": "31f26df7-e576-446d-ac65-b9cd0c57d594"
      },
      "execution_count": null,
      "outputs": [
        {
          "output_type": "stream",
          "name": "stdout",
          "text": [
            "Digite a quantidade de produtos comprados: 2\n",
            "Digite o valor total da compra: 100\n",
            "O valor total da compra sem os descontos é de R$ 100\n",
            "O cliente não obteve nenhum desconto\n",
            "O cliente economizou R$ 0\n"
          ]
        }
      ]
    },
    {
      "cell_type": "code",
      "source": [],
      "metadata": {
        "id": "p4a0ri1uYJbe"
      },
      "execution_count": null,
      "outputs": []
    }
  ]
}