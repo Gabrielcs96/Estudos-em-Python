{
  "nbformat": 4,
  "nbformat_minor": 0,
  "metadata": {
    "colab": {
      "provenance": [],
      "authorship_tag": "ABX9TyP0vEEnLkGgO+S7H43LrId/",
      "include_colab_link": true
    },
    "kernelspec": {
      "name": "python3",
      "display_name": "Python 3"
    },
    "language_info": {
      "name": "python"
    }
  },
  "cells": [
    {
      "cell_type": "markdown",
      "metadata": {
        "id": "view-in-github",
        "colab_type": "text"
      },
      "source": [
        "<a href=\"https://colab.research.google.com/github/Gabrielcs96/Estudos-em-Python/blob/main/ESTRUTURAS_DE_DECIS%C3%83O_Ex2.ipynb\" target=\"_parent\"><img src=\"https://colab.research.google.com/assets/colab-badge.svg\" alt=\"Open In Colab\"/></a>"
      ]
    },
    {
      "cell_type": "code",
      "execution_count": null,
      "metadata": {
        "colab": {
          "base_uri": "https://localhost:8080/"
        },
        "id": "-6xy_p9GR4wA",
        "outputId": "23bff90b-36f1-4d47-b672-3f7d8619da36"
      },
      "outputs": [
        {
          "name": "stdout",
          "output_type": "stream",
          "text": [
            "Informe a nota do aluno75\n"
          ]
        }
      ],
      "source": [
        "Nota = float(input(\"Informe a nota do aluno \"))"
      ]
    },
    {
      "cell_type": "code",
      "source": [
        "if Nota >=90:\n",
        "    print(\"Conceito A\")\n",
        "elif Nota >= 80:\n",
        "    print(\"Conceito B\")\n",
        "elif Nota >= 70:\n",
        "    print(\"Conceito C\")\n",
        "elif Nota >= 60:\n",
        "    print(\"Conceito D\")\n",
        "else:\n",
        "    print(\"Conceito F\")\n"
      ],
      "metadata": {
        "colab": {
          "base_uri": "https://localhost:8080/"
        },
        "id": "AVKjPDSDSQ6k",
        "outputId": "1a48d383-16bd-4d1f-c3da-012160fe4a02"
      },
      "execution_count": null,
      "outputs": [
        {
          "output_type": "stream",
          "name": "stdout",
          "text": [
            "Conceito C\n"
          ]
        }
      ]
    },
    {
      "cell_type": "code",
      "source": [],
      "metadata": {
        "id": "ljajHF0ASX92"
      },
      "execution_count": null,
      "outputs": []
    }
  ]
}