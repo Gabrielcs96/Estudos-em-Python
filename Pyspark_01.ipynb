{
  "nbformat": 4,
  "nbformat_minor": 0,
  "metadata": {
    "colab": {
      "provenance": [],
      "authorship_tag": "ABX9TyNPXCHmJuaceg7aYDgQL5pg",
      "include_colab_link": true
    },
    "kernelspec": {
      "name": "python3",
      "display_name": "Python 3"
    },
    "language_info": {
      "name": "python"
    }
  },
  "cells": [
    {
      "cell_type": "markdown",
      "metadata": {
        "id": "view-in-github",
        "colab_type": "text"
      },
      "source": [
        "<a href=\"https://colab.research.google.com/github/Gabrielcs96/Estudos-em-Python/blob/main/Pyspark_01.ipynb\" target=\"_parent\"><img src=\"https://colab.research.google.com/assets/colab-badge.svg\" alt=\"Open In Colab\"/></a>"
      ]
    },
    {
      "cell_type": "code",
      "execution_count": null,
      "metadata": {
        "colab": {
          "base_uri": "https://localhost:8080/"
        },
        "id": "ePP9DfcX5Cty",
        "outputId": "833ae053-352b-4f55-f29e-704df4261dfb"
      },
      "outputs": [
        {
          "output_type": "stream",
          "name": "stdout",
          "text": [
            "Collecting pyspark\n",
            "  Downloading pyspark-3.5.2.tar.gz (317.3 MB)\n",
            "\u001b[2K     \u001b[90m━━━━━━━━━━━━━━━━━━━━━━━━━━━━━━━━━━━━━━━━\u001b[0m \u001b[32m317.3/317.3 MB\u001b[0m \u001b[31m3.0 MB/s\u001b[0m eta \u001b[36m0:00:00\u001b[0m\n",
            "\u001b[?25h  Preparing metadata (setup.py) ... \u001b[?25l\u001b[?25hdone\n",
            "Requirement already satisfied: py4j==0.10.9.7 in /usr/local/lib/python3.10/dist-packages (from pyspark) (0.10.9.7)\n",
            "Building wheels for collected packages: pyspark\n",
            "  Building wheel for pyspark (setup.py) ... \u001b[?25l\u001b[?25hdone\n",
            "  Created wheel for pyspark: filename=pyspark-3.5.2-py2.py3-none-any.whl size=317812365 sha256=12e2d9995b55787843b8b4e9633dd34db55e6203a1d2327b78e181780bc9225b\n",
            "  Stored in directory: /root/.cache/pip/wheels/34/34/bd/03944534c44b677cd5859f248090daa9fb27b3c8f8e5f49574\n",
            "Successfully built pyspark\n",
            "Installing collected packages: pyspark\n",
            "Successfully installed pyspark-3.5.2\n"
          ]
        }
      ],
      "source": [
        "pip install pyspark"
      ]
    },
    {
      "cell_type": "markdown",
      "source": [
        "Importar o Pyspark e suas funções"
      ],
      "metadata": {
        "id": "b3oFojM27KXj"
      }
    },
    {
      "cell_type": "code",
      "source": [
        "from pyspark.sql import SparkSession\n",
        "from pyspark.sql.functions import *\n",
        "from pyspark.sql.types import *"
      ],
      "metadata": {
        "id": "cEIGS8Om5FfE"
      },
      "execution_count": null,
      "outputs": []
    },
    {
      "cell_type": "markdown",
      "source": [
        "Iniciar o Pyspark no local e com o nome de pyspark 01"
      ],
      "metadata": {
        "id": "GZ3U76Yg7PR1"
      }
    },
    {
      "cell_type": "code",
      "source": [
        "spark = (\n",
        "     SparkSession.builder.master('local').appName('Pyspark 01').getOrCreate()\n",
        ")"
      ],
      "metadata": {
        "id": "efcQz94o6R3r"
      },
      "execution_count": null,
      "outputs": []
    },
    {
      "cell_type": "code",
      "source": [
        "from google.colab import drive\n",
        "# Importando o \"drive\" para conseguir ler o arquivo"
      ],
      "metadata": {
        "id": "nuzIUCWb6gUV"
      },
      "execution_count": null,
      "outputs": []
    },
    {
      "cell_type": "code",
      "source": [
        "drive.mount('/content/mount')"
      ],
      "metadata": {
        "colab": {
          "base_uri": "https://localhost:8080/",
          "height": 304
        },
        "id": "YBRXot7dImoz",
        "outputId": "fe566f37-a413-4e35-d52b-ee10ff8a10bd"
      },
      "execution_count": null,
      "outputs": [
        {
          "output_type": "error",
          "ename": "MessageError",
          "evalue": "Error: credential propagation was unsuccessful",
          "traceback": [
            "\u001b[0;31m---------------------------------------------------------------------------\u001b[0m",
            "\u001b[0;31mMessageError\u001b[0m                              Traceback (most recent call last)",
            "\u001b[0;32m<ipython-input-9-27545e48eb7f>\u001b[0m in \u001b[0;36m<cell line: 1>\u001b[0;34m()\u001b[0m\n\u001b[0;32m----> 1\u001b[0;31m \u001b[0mdrive\u001b[0m\u001b[0;34m.\u001b[0m\u001b[0mmount\u001b[0m\u001b[0;34m(\u001b[0m\u001b[0;34m'/content/mount'\u001b[0m\u001b[0;34m)\u001b[0m\u001b[0;34m\u001b[0m\u001b[0;34m\u001b[0m\u001b[0m\n\u001b[0m",
            "\u001b[0;32m/usr/local/lib/python3.10/dist-packages/google/colab/drive.py\u001b[0m in \u001b[0;36mmount\u001b[0;34m(mountpoint, force_remount, timeout_ms, readonly)\u001b[0m\n\u001b[1;32m     98\u001b[0m \u001b[0;32mdef\u001b[0m \u001b[0mmount\u001b[0m\u001b[0;34m(\u001b[0m\u001b[0mmountpoint\u001b[0m\u001b[0;34m,\u001b[0m \u001b[0mforce_remount\u001b[0m\u001b[0;34m=\u001b[0m\u001b[0;32mFalse\u001b[0m\u001b[0;34m,\u001b[0m \u001b[0mtimeout_ms\u001b[0m\u001b[0;34m=\u001b[0m\u001b[0;36m120000\u001b[0m\u001b[0;34m,\u001b[0m \u001b[0mreadonly\u001b[0m\u001b[0;34m=\u001b[0m\u001b[0;32mFalse\u001b[0m\u001b[0;34m)\u001b[0m\u001b[0;34m:\u001b[0m\u001b[0;34m\u001b[0m\u001b[0;34m\u001b[0m\u001b[0m\n\u001b[1;32m     99\u001b[0m   \u001b[0;34m\"\"\"Mount your Google Drive at the specified mountpoint path.\"\"\"\u001b[0m\u001b[0;34m\u001b[0m\u001b[0;34m\u001b[0m\u001b[0m\n\u001b[0;32m--> 100\u001b[0;31m   return _mount(\n\u001b[0m\u001b[1;32m    101\u001b[0m       \u001b[0mmountpoint\u001b[0m\u001b[0;34m,\u001b[0m\u001b[0;34m\u001b[0m\u001b[0;34m\u001b[0m\u001b[0m\n\u001b[1;32m    102\u001b[0m       \u001b[0mforce_remount\u001b[0m\u001b[0;34m=\u001b[0m\u001b[0mforce_remount\u001b[0m\u001b[0;34m,\u001b[0m\u001b[0;34m\u001b[0m\u001b[0;34m\u001b[0m\u001b[0m\n",
            "\u001b[0;32m/usr/local/lib/python3.10/dist-packages/google/colab/drive.py\u001b[0m in \u001b[0;36m_mount\u001b[0;34m(mountpoint, force_remount, timeout_ms, ephemeral, readonly)\u001b[0m\n\u001b[1;32m    135\u001b[0m   )\n\u001b[1;32m    136\u001b[0m   \u001b[0;32mif\u001b[0m \u001b[0mephemeral\u001b[0m\u001b[0;34m:\u001b[0m\u001b[0;34m\u001b[0m\u001b[0;34m\u001b[0m\u001b[0m\n\u001b[0;32m--> 137\u001b[0;31m     _message.blocking_request(\n\u001b[0m\u001b[1;32m    138\u001b[0m         \u001b[0;34m'request_auth'\u001b[0m\u001b[0;34m,\u001b[0m\u001b[0;34m\u001b[0m\u001b[0;34m\u001b[0m\u001b[0m\n\u001b[1;32m    139\u001b[0m         \u001b[0mrequest\u001b[0m\u001b[0;34m=\u001b[0m\u001b[0;34m{\u001b[0m\u001b[0;34m'authType'\u001b[0m\u001b[0;34m:\u001b[0m \u001b[0;34m'dfs_ephemeral'\u001b[0m\u001b[0;34m}\u001b[0m\u001b[0;34m,\u001b[0m\u001b[0;34m\u001b[0m\u001b[0;34m\u001b[0m\u001b[0m\n",
            "\u001b[0;32m/usr/local/lib/python3.10/dist-packages/google/colab/_message.py\u001b[0m in \u001b[0;36mblocking_request\u001b[0;34m(request_type, request, timeout_sec, parent)\u001b[0m\n\u001b[1;32m    174\u001b[0m       \u001b[0mrequest_type\u001b[0m\u001b[0;34m,\u001b[0m \u001b[0mrequest\u001b[0m\u001b[0;34m,\u001b[0m \u001b[0mparent\u001b[0m\u001b[0;34m=\u001b[0m\u001b[0mparent\u001b[0m\u001b[0;34m,\u001b[0m \u001b[0mexpect_reply\u001b[0m\u001b[0;34m=\u001b[0m\u001b[0;32mTrue\u001b[0m\u001b[0;34m\u001b[0m\u001b[0;34m\u001b[0m\u001b[0m\n\u001b[1;32m    175\u001b[0m   )\n\u001b[0;32m--> 176\u001b[0;31m   \u001b[0;32mreturn\u001b[0m \u001b[0mread_reply_from_input\u001b[0m\u001b[0;34m(\u001b[0m\u001b[0mrequest_id\u001b[0m\u001b[0;34m,\u001b[0m \u001b[0mtimeout_sec\u001b[0m\u001b[0;34m)\u001b[0m\u001b[0;34m\u001b[0m\u001b[0;34m\u001b[0m\u001b[0m\n\u001b[0m",
            "\u001b[0;32m/usr/local/lib/python3.10/dist-packages/google/colab/_message.py\u001b[0m in \u001b[0;36mread_reply_from_input\u001b[0;34m(message_id, timeout_sec)\u001b[0m\n\u001b[1;32m    101\u001b[0m     ):\n\u001b[1;32m    102\u001b[0m       \u001b[0;32mif\u001b[0m \u001b[0;34m'error'\u001b[0m \u001b[0;32min\u001b[0m \u001b[0mreply\u001b[0m\u001b[0;34m:\u001b[0m\u001b[0;34m\u001b[0m\u001b[0;34m\u001b[0m\u001b[0m\n\u001b[0;32m--> 103\u001b[0;31m         \u001b[0;32mraise\u001b[0m \u001b[0mMessageError\u001b[0m\u001b[0;34m(\u001b[0m\u001b[0mreply\u001b[0m\u001b[0;34m[\u001b[0m\u001b[0;34m'error'\u001b[0m\u001b[0;34m]\u001b[0m\u001b[0;34m)\u001b[0m\u001b[0;34m\u001b[0m\u001b[0;34m\u001b[0m\u001b[0m\n\u001b[0m\u001b[1;32m    104\u001b[0m       \u001b[0;32mreturn\u001b[0m \u001b[0mreply\u001b[0m\u001b[0;34m.\u001b[0m\u001b[0mget\u001b[0m\u001b[0;34m(\u001b[0m\u001b[0;34m'data'\u001b[0m\u001b[0;34m,\u001b[0m \u001b[0;32mNone\u001b[0m\u001b[0;34m)\u001b[0m\u001b[0;34m\u001b[0m\u001b[0;34m\u001b[0m\u001b[0m\n\u001b[1;32m    105\u001b[0m \u001b[0;34m\u001b[0m\u001b[0m\n",
            "\u001b[0;31mMessageError\u001b[0m: Error: credential propagation was unsuccessful"
          ]
        }
      ]
    },
    {
      "cell_type": "code",
      "source": [
        "df = spark.read.csv('/content/mount/MyDrive/wc2018-players.csv', header = True)"
      ],
      "metadata": {
        "id": "jkzS3-3SJEiR",
        "colab": {
          "base_uri": "https://localhost:8080/",
          "height": 287
        },
        "outputId": "4344bb4f-1297-48d9-bd18-2ea638050dc6"
      },
      "execution_count": null,
      "outputs": [
        {
          "output_type": "error",
          "ename": "AnalysisException",
          "evalue": "[PATH_NOT_FOUND] Path does not exist: file:/content/mount/MyDrive/wc2018-players.csv.",
          "traceback": [
            "\u001b[0;31m---------------------------------------------------------------------------\u001b[0m",
            "\u001b[0;31mAnalysisException\u001b[0m                         Traceback (most recent call last)",
            "\u001b[0;32m<ipython-input-5-5bd1fb6d06b1>\u001b[0m in \u001b[0;36m<cell line: 1>\u001b[0;34m()\u001b[0m\n\u001b[0;32m----> 1\u001b[0;31m \u001b[0mdf\u001b[0m \u001b[0;34m=\u001b[0m \u001b[0mspark\u001b[0m\u001b[0;34m.\u001b[0m\u001b[0mread\u001b[0m\u001b[0;34m.\u001b[0m\u001b[0mcsv\u001b[0m\u001b[0;34m(\u001b[0m\u001b[0;34m'/content/mount/MyDrive/wc2018-players.csv'\u001b[0m\u001b[0;34m,\u001b[0m \u001b[0mheader\u001b[0m \u001b[0;34m=\u001b[0m \u001b[0;32mTrue\u001b[0m\u001b[0;34m)\u001b[0m\u001b[0;34m\u001b[0m\u001b[0;34m\u001b[0m\u001b[0m\n\u001b[0m",
            "\u001b[0;32m/usr/local/lib/python3.10/dist-packages/pyspark/sql/readwriter.py\u001b[0m in \u001b[0;36mcsv\u001b[0;34m(self, path, schema, sep, encoding, quote, escape, comment, header, inferSchema, ignoreLeadingWhiteSpace, ignoreTrailingWhiteSpace, nullValue, nanValue, positiveInf, negativeInf, dateFormat, timestampFormat, maxColumns, maxCharsPerColumn, maxMalformedLogPerPartition, mode, columnNameOfCorruptRecord, multiLine, charToEscapeQuoteEscaping, samplingRatio, enforceSchema, emptyValue, locale, lineSep, pathGlobFilter, recursiveFileLookup, modifiedBefore, modifiedAfter, unescapedQuoteHandling)\u001b[0m\n\u001b[1;32m    738\u001b[0m         \u001b[0;32mif\u001b[0m \u001b[0mtype\u001b[0m\u001b[0;34m(\u001b[0m\u001b[0mpath\u001b[0m\u001b[0;34m)\u001b[0m \u001b[0;34m==\u001b[0m \u001b[0mlist\u001b[0m\u001b[0;34m:\u001b[0m\u001b[0;34m\u001b[0m\u001b[0;34m\u001b[0m\u001b[0m\n\u001b[1;32m    739\u001b[0m             \u001b[0;32massert\u001b[0m \u001b[0mself\u001b[0m\u001b[0;34m.\u001b[0m\u001b[0m_spark\u001b[0m\u001b[0;34m.\u001b[0m\u001b[0m_sc\u001b[0m\u001b[0;34m.\u001b[0m\u001b[0m_jvm\u001b[0m \u001b[0;32mis\u001b[0m \u001b[0;32mnot\u001b[0m \u001b[0;32mNone\u001b[0m\u001b[0;34m\u001b[0m\u001b[0;34m\u001b[0m\u001b[0m\n\u001b[0;32m--> 740\u001b[0;31m             \u001b[0;32mreturn\u001b[0m \u001b[0mself\u001b[0m\u001b[0;34m.\u001b[0m\u001b[0m_df\u001b[0m\u001b[0;34m(\u001b[0m\u001b[0mself\u001b[0m\u001b[0;34m.\u001b[0m\u001b[0m_jreader\u001b[0m\u001b[0;34m.\u001b[0m\u001b[0mcsv\u001b[0m\u001b[0;34m(\u001b[0m\u001b[0mself\u001b[0m\u001b[0;34m.\u001b[0m\u001b[0m_spark\u001b[0m\u001b[0;34m.\u001b[0m\u001b[0m_sc\u001b[0m\u001b[0;34m.\u001b[0m\u001b[0m_jvm\u001b[0m\u001b[0;34m.\u001b[0m\u001b[0mPythonUtils\u001b[0m\u001b[0;34m.\u001b[0m\u001b[0mtoSeq\u001b[0m\u001b[0;34m(\u001b[0m\u001b[0mpath\u001b[0m\u001b[0;34m)\u001b[0m\u001b[0;34m)\u001b[0m\u001b[0;34m)\u001b[0m\u001b[0;34m\u001b[0m\u001b[0;34m\u001b[0m\u001b[0m\n\u001b[0m\u001b[1;32m    741\u001b[0m         \u001b[0;32melif\u001b[0m \u001b[0misinstance\u001b[0m\u001b[0;34m(\u001b[0m\u001b[0mpath\u001b[0m\u001b[0;34m,\u001b[0m \u001b[0mRDD\u001b[0m\u001b[0;34m)\u001b[0m\u001b[0;34m:\u001b[0m\u001b[0;34m\u001b[0m\u001b[0;34m\u001b[0m\u001b[0m\n\u001b[1;32m    742\u001b[0m \u001b[0;34m\u001b[0m\u001b[0m\n",
            "\u001b[0;32m/usr/local/lib/python3.10/dist-packages/py4j/java_gateway.py\u001b[0m in \u001b[0;36m__call__\u001b[0;34m(self, *args)\u001b[0m\n\u001b[1;32m   1320\u001b[0m \u001b[0;34m\u001b[0m\u001b[0m\n\u001b[1;32m   1321\u001b[0m         \u001b[0manswer\u001b[0m \u001b[0;34m=\u001b[0m \u001b[0mself\u001b[0m\u001b[0;34m.\u001b[0m\u001b[0mgateway_client\u001b[0m\u001b[0;34m.\u001b[0m\u001b[0msend_command\u001b[0m\u001b[0;34m(\u001b[0m\u001b[0mcommand\u001b[0m\u001b[0;34m)\u001b[0m\u001b[0;34m\u001b[0m\u001b[0;34m\u001b[0m\u001b[0m\n\u001b[0;32m-> 1322\u001b[0;31m         return_value = get_return_value(\n\u001b[0m\u001b[1;32m   1323\u001b[0m             answer, self.gateway_client, self.target_id, self.name)\n\u001b[1;32m   1324\u001b[0m \u001b[0;34m\u001b[0m\u001b[0m\n",
            "\u001b[0;32m/usr/local/lib/python3.10/dist-packages/pyspark/errors/exceptions/captured.py\u001b[0m in \u001b[0;36mdeco\u001b[0;34m(*a, **kw)\u001b[0m\n\u001b[1;32m    183\u001b[0m                 \u001b[0;31m# Hide where the exception came from that shows a non-Pythonic\u001b[0m\u001b[0;34m\u001b[0m\u001b[0;34m\u001b[0m\u001b[0m\n\u001b[1;32m    184\u001b[0m                 \u001b[0;31m# JVM exception message.\u001b[0m\u001b[0;34m\u001b[0m\u001b[0;34m\u001b[0m\u001b[0m\n\u001b[0;32m--> 185\u001b[0;31m                 \u001b[0;32mraise\u001b[0m \u001b[0mconverted\u001b[0m \u001b[0;32mfrom\u001b[0m \u001b[0;32mNone\u001b[0m\u001b[0;34m\u001b[0m\u001b[0;34m\u001b[0m\u001b[0m\n\u001b[0m\u001b[1;32m    186\u001b[0m             \u001b[0;32melse\u001b[0m\u001b[0;34m:\u001b[0m\u001b[0;34m\u001b[0m\u001b[0;34m\u001b[0m\u001b[0m\n\u001b[1;32m    187\u001b[0m                 \u001b[0;32mraise\u001b[0m\u001b[0;34m\u001b[0m\u001b[0;34m\u001b[0m\u001b[0m\n",
            "\u001b[0;31mAnalysisException\u001b[0m: [PATH_NOT_FOUND] Path does not exist: file:/content/mount/MyDrive/wc2018-players.csv."
          ]
        }
      ]
    },
    {
      "cell_type": "code",
      "source": [
        "df.show()"
      ],
      "metadata": {
        "colab": {
          "base_uri": "https://localhost:8080/",
          "height": 141
        },
        "id": "5FGwnt02KXxH",
        "outputId": "a4bf9f44-82ea-47cd-d959-b2808226c09c"
      },
      "execution_count": null,
      "outputs": [
        {
          "output_type": "error",
          "ename": "AttributeError",
          "evalue": "'NoneType' object has no attribute 'show'",
          "traceback": [
            "\u001b[0;31m---------------------------------------------------------------------------\u001b[0m",
            "\u001b[0;31mAttributeError\u001b[0m                            Traceback (most recent call last)",
            "\u001b[0;32m<ipython-input-147-1a6ce2362cd4>\u001b[0m in \u001b[0;36m<cell line: 1>\u001b[0;34m()\u001b[0m\n\u001b[0;32m----> 1\u001b[0;31m \u001b[0mdf\u001b[0m\u001b[0;34m.\u001b[0m\u001b[0mshow\u001b[0m\u001b[0;34m(\u001b[0m\u001b[0;34m)\u001b[0m\u001b[0;34m\u001b[0m\u001b[0;34m\u001b[0m\u001b[0m\n\u001b[0m",
            "\u001b[0;31mAttributeError\u001b[0m: 'NoneType' object has no attribute 'show'"
          ]
        }
      ]
    },
    {
      "cell_type": "code",
      "source": [
        "from google.colab import files"
      ],
      "metadata": {
        "id": "tSmTzsgkKqAy"
      },
      "execution_count": null,
      "outputs": []
    },
    {
      "cell_type": "code",
      "source": [
        "files.upload()"
      ],
      "metadata": {
        "colab": {
          "base_uri": "https://localhost:8080/",
          "height": 1000
        },
        "id": "4GpHYQx7L7JG",
        "outputId": "94035f9a-d798-413c-ddf1-edd7133706f5"
      },
      "execution_count": null,
      "outputs": [
        {
          "output_type": "display_data",
          "data": {
            "text/plain": [
              "<IPython.core.display.HTML object>"
            ],
            "text/html": [
              "\n",
              "     <input type=\"file\" id=\"files-d2c5a339-753b-4b5c-988e-423f515e66b8\" name=\"files[]\" multiple disabled\n",
              "        style=\"border:none\" />\n",
              "     <output id=\"result-d2c5a339-753b-4b5c-988e-423f515e66b8\">\n",
              "      Upload widget is only available when the cell has been executed in the\n",
              "      current browser session. Please rerun this cell to enable.\n",
              "      </output>\n",
              "      <script>// Copyright 2017 Google LLC\n",
              "//\n",
              "// Licensed under the Apache License, Version 2.0 (the \"License\");\n",
              "// you may not use this file except in compliance with the License.\n",
              "// You may obtain a copy of the License at\n",
              "//\n",
              "//      http://www.apache.org/licenses/LICENSE-2.0\n",
              "//\n",
              "// Unless required by applicable law or agreed to in writing, software\n",
              "// distributed under the License is distributed on an \"AS IS\" BASIS,\n",
              "// WITHOUT WARRANTIES OR CONDITIONS OF ANY KIND, either express or implied.\n",
              "// See the License for the specific language governing permissions and\n",
              "// limitations under the License.\n",
              "\n",
              "/**\n",
              " * @fileoverview Helpers for google.colab Python module.\n",
              " */\n",
              "(function(scope) {\n",
              "function span(text, styleAttributes = {}) {\n",
              "  const element = document.createElement('span');\n",
              "  element.textContent = text;\n",
              "  for (const key of Object.keys(styleAttributes)) {\n",
              "    element.style[key] = styleAttributes[key];\n",
              "  }\n",
              "  return element;\n",
              "}\n",
              "\n",
              "// Max number of bytes which will be uploaded at a time.\n",
              "const MAX_PAYLOAD_SIZE = 100 * 1024;\n",
              "\n",
              "function _uploadFiles(inputId, outputId) {\n",
              "  const steps = uploadFilesStep(inputId, outputId);\n",
              "  const outputElement = document.getElementById(outputId);\n",
              "  // Cache steps on the outputElement to make it available for the next call\n",
              "  // to uploadFilesContinue from Python.\n",
              "  outputElement.steps = steps;\n",
              "\n",
              "  return _uploadFilesContinue(outputId);\n",
              "}\n",
              "\n",
              "// This is roughly an async generator (not supported in the browser yet),\n",
              "// where there are multiple asynchronous steps and the Python side is going\n",
              "// to poll for completion of each step.\n",
              "// This uses a Promise to block the python side on completion of each step,\n",
              "// then passes the result of the previous step as the input to the next step.\n",
              "function _uploadFilesContinue(outputId) {\n",
              "  const outputElement = document.getElementById(outputId);\n",
              "  const steps = outputElement.steps;\n",
              "\n",
              "  const next = steps.next(outputElement.lastPromiseValue);\n",
              "  return Promise.resolve(next.value.promise).then((value) => {\n",
              "    // Cache the last promise value to make it available to the next\n",
              "    // step of the generator.\n",
              "    outputElement.lastPromiseValue = value;\n",
              "    return next.value.response;\n",
              "  });\n",
              "}\n",
              "\n",
              "/**\n",
              " * Generator function which is called between each async step of the upload\n",
              " * process.\n",
              " * @param {string} inputId Element ID of the input file picker element.\n",
              " * @param {string} outputId Element ID of the output display.\n",
              " * @return {!Iterable<!Object>} Iterable of next steps.\n",
              " */\n",
              "function* uploadFilesStep(inputId, outputId) {\n",
              "  const inputElement = document.getElementById(inputId);\n",
              "  inputElement.disabled = false;\n",
              "\n",
              "  const outputElement = document.getElementById(outputId);\n",
              "  outputElement.innerHTML = '';\n",
              "\n",
              "  const pickedPromise = new Promise((resolve) => {\n",
              "    inputElement.addEventListener('change', (e) => {\n",
              "      resolve(e.target.files);\n",
              "    });\n",
              "  });\n",
              "\n",
              "  const cancel = document.createElement('button');\n",
              "  inputElement.parentElement.appendChild(cancel);\n",
              "  cancel.textContent = 'Cancel upload';\n",
              "  const cancelPromise = new Promise((resolve) => {\n",
              "    cancel.onclick = () => {\n",
              "      resolve(null);\n",
              "    };\n",
              "  });\n",
              "\n",
              "  // Wait for the user to pick the files.\n",
              "  const files = yield {\n",
              "    promise: Promise.race([pickedPromise, cancelPromise]),\n",
              "    response: {\n",
              "      action: 'starting',\n",
              "    }\n",
              "  };\n",
              "\n",
              "  cancel.remove();\n",
              "\n",
              "  // Disable the input element since further picks are not allowed.\n",
              "  inputElement.disabled = true;\n",
              "\n",
              "  if (!files) {\n",
              "    return {\n",
              "      response: {\n",
              "        action: 'complete',\n",
              "      }\n",
              "    };\n",
              "  }\n",
              "\n",
              "  for (const file of files) {\n",
              "    const li = document.createElement('li');\n",
              "    li.append(span(file.name, {fontWeight: 'bold'}));\n",
              "    li.append(span(\n",
              "        `(${file.type || 'n/a'}) - ${file.size} bytes, ` +\n",
              "        `last modified: ${\n",
              "            file.lastModifiedDate ? file.lastModifiedDate.toLocaleDateString() :\n",
              "                                    'n/a'} - `));\n",
              "    const percent = span('0% done');\n",
              "    li.appendChild(percent);\n",
              "\n",
              "    outputElement.appendChild(li);\n",
              "\n",
              "    const fileDataPromise = new Promise((resolve) => {\n",
              "      const reader = new FileReader();\n",
              "      reader.onload = (e) => {\n",
              "        resolve(e.target.result);\n",
              "      };\n",
              "      reader.readAsArrayBuffer(file);\n",
              "    });\n",
              "    // Wait for the data to be ready.\n",
              "    let fileData = yield {\n",
              "      promise: fileDataPromise,\n",
              "      response: {\n",
              "        action: 'continue',\n",
              "      }\n",
              "    };\n",
              "\n",
              "    // Use a chunked sending to avoid message size limits. See b/62115660.\n",
              "    let position = 0;\n",
              "    do {\n",
              "      const length = Math.min(fileData.byteLength - position, MAX_PAYLOAD_SIZE);\n",
              "      const chunk = new Uint8Array(fileData, position, length);\n",
              "      position += length;\n",
              "\n",
              "      const base64 = btoa(String.fromCharCode.apply(null, chunk));\n",
              "      yield {\n",
              "        response: {\n",
              "          action: 'append',\n",
              "          file: file.name,\n",
              "          data: base64,\n",
              "        },\n",
              "      };\n",
              "\n",
              "      let percentDone = fileData.byteLength === 0 ?\n",
              "          100 :\n",
              "          Math.round((position / fileData.byteLength) * 100);\n",
              "      percent.textContent = `${percentDone}% done`;\n",
              "\n",
              "    } while (position < fileData.byteLength);\n",
              "  }\n",
              "\n",
              "  // All done.\n",
              "  yield {\n",
              "    response: {\n",
              "      action: 'complete',\n",
              "    }\n",
              "  };\n",
              "}\n",
              "\n",
              "scope.google = scope.google || {};\n",
              "scope.google.colab = scope.google.colab || {};\n",
              "scope.google.colab._files = {\n",
              "  _uploadFiles,\n",
              "  _uploadFilesContinue,\n",
              "};\n",
              "})(self);\n",
              "</script> "
            ]
          },
          "metadata": {}
        },
        {
          "output_type": "stream",
          "name": "stdout",
          "text": [
            "Saving wc2018-players.csv to wc2018-players.csv\n"
          ]
        },
        {
          "output_type": "execute_result",
          "data": {
            "text/plain": [
              "{'wc2018-players.csv': b\"\\xef\\xbb\\xbfTeam,#,Pos.,FIFA Popular Name,Birth Date,Shirt Name,Club,Height,Weight\\r\\nArgentina,3,DF,TAGLIAFICO Nicolas,31.08.1992,TAGLIAFICO,AFC Ajax (NED),169,65\\r\\nArgentina,22,MF,PAVON Cristian,21.01.1996,PAV\\xc3\\x93N,CA Boca Juniors (ARG),169,65\\r\\nArgentina,15,MF,LANZINI Manuel,15.02.1993,LANZINI,West Ham United FC (ENG),167,66\\r\\nArgentina,18,DF,SALVIO Eduardo,13.07.1990,SALVIO,SL Benfica (POR),167,69\\r\\nArgentina,10,FW,MESSI Lionel,24.06.1987,MESSI,FC Barcelona (ESP),170,72\\r\\nArgentina,4,DF,ANSALDI Cristian,20.09.1986,ANSALDI,Torino FC (ITA),181,73\\r\\nArgentina,5,MF,BIGLIA Lucas,30.01.1986,BIGLIA,AC Milan (ITA),175,73\\r\\nArgentina,7,MF,BANEGA Ever,29.06.1988,BANEGA,Sevilla FC (ESP),175,73\\r\\nArgentina,14,DF,MASCHERANO Javier,08.06.1984,MASCHERANO,Hebei China Fortune FC (CHN),174,73\\r\\nArgentina,21,FW,DYBALA Paulo,15.11.1993,DYBALA,Juventus FC (ITA),177,73\\r\\nArgentina,19,FW,AGUERO Sergio,02.06.1988,AG\\xc3\\x9cERO,Manchester City FC (ENG),172,74\\r\\nArgentina,9,FW,HIGUAIN Gonzalo,10.12.1987,HIGUA\\xc3\\x8dN,Juventus FC (ITA),184,75\\r\\nArgentina,11,MF,DI MARIA Angel,14.02.1988,DI MAR\\xc3\\x8dA,Paris Saint-Germain FC (FRA),178,75\\r\\nArgentina,20,MF,LO CELSO Giovani,09.04.1996,LO CELSO,Paris Saint-Germain FC (FRA),177,75\\r\\nArgentina,13,MF,MEZA Maximiliano,15.12.1992,MEZA,CA Independiente (ARG),180,76\\r\\nArgentina,8,DF,ACUNA Marcos,28.10.1991,ACU\\xc3\\x91A,Sporting CP (POR),172,77\\r\\nArgentina,23,GK,CABALLERO Wilfredo,28.09.1981,CABALLERO,Chelsea FC (ENG),186,80\\r\\nArgentina,2,DF,MERCADO Gabriel,18.03.1987,MERCADO,Sevilla FC (ESP),181,81\\r\\nArgentina,17,DF,OTAMENDI Nicolas,12.02.1988,OTAMENDI,Manchester City FC (ENG),181,81\\r\\nArgentina,16,DF,ROJO Marcos,20.03.1990,ROJO,Manchester United FC (ENG),189,82\\r\\nArgentina,6,DF,FAZIO Federico,17.03.1987,FAZIO,AS Roma (ITA),199,85\\r\\nArgentina,12,GK,ARMANI Franco,16.10.1986,ARMANI,CA River Plate (ARG),189,85\\r\\nArgentina,1,GK,GUZMAN Nahuel,10.02.1986,GUZM\\xc3\\x81N,Tigres UANL (MEX),192,90\\r\\nAustralia,16,DF,BEHICH Aziz,16.12.1990,BEHICH,Bursaspor (TUR),170,63\\r\\nAustralia,10,FW,KRUSE Robbie,05.10.1988,KRUSE,VfL Bochum (GER),180,66\\r\\nAustralia,19,DF,RISDON Joshua,27.07.1992,RISDON,WS Wanderers FC (AUS),169,70\\r\\nAustralia,3,DF,MEREDITH James,05.04.1988,MEREDITH,Millwall FC (ENG),179,71\\r\\nAustralia,13,MF,MOOY Aaron,15.09.1990,MOOY,Huddersfield Town FC (ENG),173,72\\r\\nAustralia,14,FW,MacLAREN Jamie,29.07.1993,MACLAREN,Hibernian FC (SCO),178,72\\r\\nAustralia,21,FW,PETRATOS Dimitrios,10.11.1992,PETRATOS,Newcastle United Jets FC (AUS),176,72\\r\\nAustralia,17,FW,ARZANI Daniel,04.01.1999,ARZANI,Melbourne City FC (AUS),171,73\\r\\nAustralia,4,FW,CAHILL Tim,06.12.1979,CAHILL,Millwall FC (ENG),180,76\\r\\nAustralia,8,MF,LUONGO Massimo,25.09.1992,LUONGO,Queens Park Rangers FC (ENG),176,76\\r\\nAustralia,20,DF,SAINSBURY Trent,05.01.1992,SAINSBURY,Grasshopper Club (SUI),183,76\\r\\nAustralia,22,MF,IRVINE Jackson,07.03.1993,IRVINE,Hull City FC (ENG),180,77\\r\\nAustralia,5,DF,MILLIGAN Mark,04.08.1985,MILLIGAN,Al Ahli SC (KSA),178,78\\r\\nAustralia,15,MF,JEDINAK Mile,03.08.1984,JEDINAK,Aston Villa FC (ENG),188,78\\r\\nAustralia,9,FW,JURIC Tomi,22.07.1991,JURIC,FC Luzern (SUI),190,80\\r\\nAustralia,1,GK,RYAN Mathew,08.04.1992,RYAN,Brighton & Hove Albion FC (ENG),184,82\\r\\nAustralia,6,DF,JURMAN Matthew,08.12.1989,JURMAN,Suwon Samsung Bluewings FC (KOR),190,83\\r\\nAustralia,7,FW,LECKIE Mathew,04.02.1991,LECKIE,Hertha BSC (GER),181,84\\r\\nAustralia,2,DF,DEGENEK Milos,28.04.1994,DEGENEK,Yokohama F-Marinos (JPN),187,85\\r\\nAustralia,11,FW,NABBOUT Andrew,17.12.1992,NABBOUT,Urawa Reds (JPN),178,85\\r\\nAustralia,12,GK,JONES Brad,19.03.1982,JONES,Feyenoord Rotterdam (NED),193,87\\r\\nAustralia,23,MF,ROGIC Tom,16.12.1992,ROGIC,Celtic FC (SCO),189,88\\r\\nAustralia,18,GK,VUKOVIC Danny,27.03.1985,VUKOVIC,KRC Genk (BEL),187,94\\r\\nBelgium,14,FW,MERTENS Dries,06.05.1987,MERTENS,SSC Napoli (ITA),169,61\\r\\nBelgium,11,MF,CARRASCO Yannick,04.09.1993,CARRASCO,Dalian Yifang FC (CHN),180,67\\r\\nBelgium,7,MF,DE BRUYNE Kevin,28.06.1991,DE BRUYNE,Manchester City FC (ENG),181,70\\r\\nBelgium,16,MF,HAZARD Thorgan,29.03.1993,T. HAZARD,VfL Borussia M\\xc3\\xb6nchengladbach (GER),174,70\\r\\nBelgium,17,MF,TIELEMANS Youri,07.05.1997,TIELEMANS,AS Monaco (FRA),176,72\\r\\nBelgium,6,MF,WITSEL Axel,12.01.1989,WITSEL,Tianjin Quanjian FC (CHN),186,73\\r\\nBelgium,10,FW,HAZARD Eden,07.01.1991,E. HAZARD,Chelsea FC (ENG),173,74\\r\\nBelgium,18,FW,JANUZAJ Adnan,05.02.1995,JANUZAJ,Real Sociedad (ESP),180,75\\r\\nBelgium,23,DF,DENDONCKER Leander,15.04.1995,DENDONCKER,RSC Anderlecht (BEL),188,76\\r\\nBelgium,21,FW,BATSHUAYI Michy,02.10.1993,BATSHUAYI,Borussia Dortmund (GER),185,78\\r\\nBelgium,3,DF,VERMAELEN Thomas,14.11.1985,VERMAELEN,FC Barcelona (ESP),183,80\\r\\nBelgium,2,DF,ALDERWEIRELD Toby,02.03.1989,ALDERWEIRELD,Tottenham Hotspur FC (ENG),186,81\\r\\nBelgium,19,MF,DEMBELE Moussa,16.07.1987,DEMBELE,Tottenham Hotspur FC (ENG),185,82\\r\\nBelgium,20,DF,BOYATA Dedryck,28.11.1990,BOYATA,Celtic FC (SCO),188,84\\r\\nBelgium,4,DF,KOMPANY Vincent,10.04.1986,KOMPANY,Manchester City FC (ENG),190,85\\r\\nBelgium,8,MF,FELLAINI Marouane,22.11.1987,FELLAINI,Manchester United FC (ENG),194,85\\r\\nBelgium,22,MF,CHADLI Nacer,02.08.1989,CHADLI,West Bromwich Albion FC (ENG),187,85\\r\\nBelgium,5,DF,VERTONGHEN Jan,24.04.1987,VERTONGHEN,Tottenham Hotspur FC (ENG),189,86\\r\\nBelgium,13,GK,CASTEELS Koen,25.06.1992,CASTEELS,VfL Wolfsburg (GER),197,86\\r\\nBelgium,12,GK,MIGNOLET Simon,06.03.1988,MIGNOLET,Liverpool FC (ENG),193,87\\r\\nBelgium,15,DF,MEUNIER Thomas,12.09.1991,MEUNIER,Paris Saint-Germain FC (FRA),190,88\\r\\nBelgium,1,GK,COURTOIS Thibaut,11.05.1992,COURTOIS,Chelsea FC (ENG),199,91\\r\\nBelgium,9,FW,LUKAKU Romelu,13.05.1993,R. LUKAKU,Manchester United FC (ENG),190,94\\r\\nBrazil,18,MF,FRED,05.03.1993,FRED,FC Shakhtar Donetsk (UKR),169,64\\r\\nBrazil,21,FW,TAISON,13.01.1988,TAISON,FC Shakhtar Donetsk (UKR),172,64\\r\\nBrazil,17,MF,FERNANDINHO,04.05.1985,FERNANDINHO,Manchester City FC (ENG),179,67\\r\\nBrazil,22,DF,FAGNER,11.06.1989,FAGNER,SC Corinthians (BRA),168,67\\r\\nBrazil,10,FW,NEYMAR,05.02.1992,NEYMAR JR,Paris Saint-Germain FC (FRA),175,68\\r\\nBrazil,11,MF,PHILIPPE COUTINHO,12.06.1992,P. COUTINHO,FC Barcelona (ESP),172,68\\r\\nBrazil,7,FW,DOUGLAS COSTA,14.09.1990,D. COSTA,Juventus FC (ITA),182,70\\r\\nBrazil,6,DF,FILIPE LUIS,09.08.1985,FILIPE LUIS,Atletico Madrid (ESP),182,73\\r\\nBrazil,9,FW,GABRIEL JESUS,03.04.1997,G. JESUS,Manchester City FC (ENG),175,73\\r\\nBrazil,13,DF,MARQUINHOS,14.05.1994,MARQUINHOS,Paris Saint-Germain FC (FRA),183,75\\r\\nBrazil,20,FW,ROBERTO FIRMINO,02.10.1991,FIRMINO,Liverpool FC (ENG),181,76\\r\\nBrazil,19,MF,WILLIAN,09.08.1988,WILLIAN,Chelsea FC (ENG),175,77\\r\\nBrazil,3,DF,MIRANDA,07.09.1984,MIRANDA,FC Internazionale (ITA),186,78\\r\\nBrazil,14,DF,DANILO,15.07.1991,DANILO,Manchester City FC (ENG),184,78\\r\\nBrazil,2,DF,THIAGO SILVA,22.09.1984,T. SILVA,Paris Saint-Germain FC (FRA),183,79\\r\\nBrazil,12,DF,MARCELO,12.05.1988,MARCELO,Real Madrid CF (ESP),174,80\\r\\nBrazil,15,MF,PAULINHO,25.07.1988,PAULINHO,FC Barcelona (ESP),181,81\\r\\nBrazil,4,DF,PEDRO GEROMEL,21.09.1985,GEROMEL,Gr\\xc3\\xaamio FBPA (BRA),190,84\\r\\nBrazil,5,MF,CASEMIRO,23.02.1992,CASEMIRO,Real Madrid CF (ESP),185,84\\r\\nBrazil,8,MF,RENATO AUGUSTO,08.02.1988,R. AUGUSTO,Beijing Guoan (CHN),186,86\\r\\nBrazil,23,GK,EDERSON,17.08.1993,EDERSON,Manchester City FC (ENG),188,86\\r\\nBrazil,1,GK,ALISSON,02.10.1992,A. BECKER,AS Roma (ITA),193,91\\r\\nBrazil,16,GK,CASSIO,06.06.1987,CASSIO,SC Corinthians (BRA),195,92\\r\\nColombia,20,MF,QUINTERO Juan,18.01.1993,J. QUINTERO,CA River Plate (ARG),169,64\\r\\nColombia,17,DF,MOJICA Johan,21.08.1992,J. MOJICA,Girona FC (ESP),185,66\\r\\nColombia,16,MF,LERMA Jefferson,25.10.1994,J. LERMA,Levante UD (ESP),179,70\\r\\nColombia,4,DF,ARIAS Santiago,13.01.1992,ARIAS,PSV Eindhoven (NED),177,71\\r\\nColombia,15,MF,URIBE Mateus,21.03.1991,M. URIBE,Club Am\\xc3\\xa9rica (MEX),182,71\\r\\nColombia,9,FW,FALCAO Radamel,10.02.1986,FALCAO,AS Monaco (FRA),177,72\\r\\nColombia,11,MF,CUADRADO Juan,26.05.1988,CUADRADO,Juventus FC (ITA),179,72\\r\\nColombia,18,DF,FABRA Frank,22.02.1991,FABRA,CA Boca Juniors (ARG),172,72\\r\\nColombia,21,FW,IZQUIERDO Jose,07.07.1992,IZQUIERDO,Brighton & Hove Albion FC (ENG),171,73\\r\\nColombia,5,MF,BARRIOS  Wilmar,16.10.1993,BARRIOS,CA Boca Juniors (ARG),178,74\\r\\nColombia,19,FW,BORJA Miguel,26.01.1993,M. BORJA,SE Palmeiras (BRA),183,74\\r\\nColombia,10,MF,RODRIGUEZ James,12.07.1991,JAMES,FC Bayern M\\xc3\\xbcnchen (GER),180,75\\r\\nColombia,7,FW,BACCA Carlos,08.09.1986,BACCA,Villarreal CF (ESP),181,77\\r\\nColombia,14,FW,MURIEL Luis,16.04.1991,L. MURIEL,Sevilla FC (ESP),178,79\\r\\nColombia,1,GK,OSPINA David,31.08.1988,OSPINA,Arsenal FC (ENG),183,80\\r\\nColombia,3,DF,MURILLO Oscar,18.04.1988,O. MURILLO,CF Pachuca (MEX),184,80\\r\\nColombia,12,GK,VARGAS Camilo,09.03.1989,C. VARGAS,AC Deportivo Cali (COL),185,80\\r\\nColombia,22,GK,CUADRADO Jose,01.06.1985,J.F. CUADRADO,CD Once Caldas (COL),180,80\\r\\nColombia,23,DF,SANCHEZ Davinson,12.06.1996,D. SANCHEZ,Tottenham Hotspur FC (ENG),187,81\\r\\nColombia,2,DF,ZAPATA Cristian,30.09.1986,C. ZAPATA,AC Milan (ITA),187,82\\r\\nColombia,6,MF,SANCHEZ Carlos,06.02.1986,C. SANCHEZ,RCD Espanyol (ESP),182,82\\r\\nColombia,8,MF,AGUILAR Abel,06.01.1985,AGUILAR T.,AC Deportivo Cali (COL),185,82\\r\\nColombia,13,DF,MINA Yerry,23.09.1994,Y. MINA,FC Barcelona (ESP),194,95\\r\\nCosta Rica,7,MF,BOLANOS Christian,17.05.1984,C. BOLA\\xc3\\x91OS,Deportivo Saprissa (CRC),178,67\\r\\nCosta Rica,16,DF,GAMBOA Cristian,24.10.1989,C. GAMBOA,Celtic FC (SCO),175,67\\r\\nCosta Rica,17,MF,TEJEDA Yeltsin,17.03.1992,Y. TEJEDA,FC Lausanne-Sport (SUI),179,67\\r\\nCosta Rica,4,DF,SMITH Ian,06.03.1998,I. SMITH,IFK Norrkoping FK (SWE),177,68\\r\\nCosta Rica,8,DF,OVIEDO Bryan,18.02.1990,B. OVIEDO,Sunderland AFC (ENG),172,70\\r\\nCosta Rica,13,MF,WALLACE Rodney,17.06.1988,R. WALLACE,New York City FC (USA),180,70\\r\\nCosta Rica,21,FW,URENA Marcos,05.03.1990,M. URE\\xc3\\x91A,Los Angeles FC (USA),181,70\\r\\nCosta Rica,22,DF,MATARRITA Ronald,09.07.1994,R. MATARRITA,New York City FC (USA),175,70\\r\\nCosta Rica,23,GK,MOREIRA Leonel,02.04.1990,L. MOREIRA,CS Herediano (CRC),179,70\\r\\nCosta Rica,12,FW,CAMPBELL Joel,26.06.1992,J. CAMPBELL,Real Betis (ESP),178,71\\r\\nCosta Rica,18,GK,PEMBERTON Patrick,24.04.1982,P. PEMBERTON,LD Alajuelense (CRC),178,72\\r\\nCosta Rica,10,MF,RUIZ Bryan,18.08.1985,BRYAN,Sporting CP (POR),187,73\\r\\nCosta Rica,2,DF,ACOSTA Johnny,21.07.1983,J. ACOSTA,Rionegro \\xc3\\x81guilas (COL),176,75\\r\\nCosta Rica,9,MF,COLINDRES Daniel,10.01.1985,D. COLINDRES,Deportivo Saprissa (CRC),180,75\\r\\nCosta Rica,11,FW,VENEGAS Johan,27.11.1988,J. VENEGAS,Deportivo Saprissa (CRC),183,76\\r\\nCosta Rica,3,DF,GONZALEZ Giancarlo,08.02.1988,G. GONZALEZ,Bologna FC (ITA),186,78\\r\\nCosta Rica,15,DF,CALVO Francisco,08.07.1992,F. CALVO,Minnesota United FC (USA),180,78\\r\\nCosta Rica,20,MF,GUZMAN David,18.02.1990,D. GUZMAN,Portland Timbers (USA),176,78\\r\\nCosta Rica,5,MF,BORGES Celso,27.05.1988,C. BORGES,Deportivo La Coru\\xc3\\xb1a (ESP),187,79\\r\\nCosta Rica,1,GK,NAVAS Keylor,15.12.1986,K. NAVAS,Real Madrid CF (ESP),185,80\\r\\nCosta Rica,6,DF,DUARTE Oscar,03.06.1989,O. DUARTE,RCD Espanyol (ESP),186,81\\r\\nCosta Rica,14,MF,AZOFEIFA Randall,30.12.1984,R. AZOFEIFA,CS Herediano (CRC),182,83\\r\\nCosta Rica,19,DF,WASTON Kendall,01.01.1988,K. WASTON,Vancouver Whitecaps FC (CAN),196,87\\r\\nCroatia,10,MF,MODRIC Luka,09.09.1985,MODRI\\xc4\\x86,Real Madrid CF (ESP),172,66\\r\\nCroatia,11,MF,BROZOVIC Marcelo,16.11.1992,BROZOVI\\xc4\\x86,FC Internazionale (ITA),181,68\\r\\nCroatia,22,DF,PIVARIC Josip,30.01.1989,PIVARI\\xc4\\x86,FC Dynamo Kyiv (UKR),176,69\\r\\nCroatia,9,FW,KRAMARIC Andrej,19.06.1991,KRAMARI\\xc4\\x86,TSG 1899 Hoffenheim (GER),177,73\\r\\nCroatia,2,DF,VRSALJKO Sime,10.01.1992,VRSALJKO,Atletico Madrid (ESP),181,76\\r\\nCroatia,19,MF,BADELJ Milan,25.02.1989,BADELJ,ACF Fiorentina (ITA),186,76\\r\\nCroatia,21,DF,VIDA Domagoj,29.04.1989,VIDA,Besiktas JK (TUR),184,76\\r\\nCroatia,3,DF,STRINIC Ivan,17.07.1987,STRINI\\xc4\\x86,UC Sampdoria (ITA),186,78\\r\\nCroatia,7,MF,RAKITIC Ivan,10.03.1988,RAKITI\\xc4\\x86,FC Barcelona (ESP),184,78\\r\\nCroatia,8,MF,KOVACIC Mateo,06.05.1994,KOVA\\xc4\\x8cI\\xc4\\x86,Real Madrid CF (ESP),178,78\\r\\nCroatia,14,MF,BRADARIC Filip,11.01.1992,BRADARI\\xc4\\x86,HNK Rijeka (CRO),186,78\\r\\nCroatia,18,FW,REBIC Ante,21.09.1993,REBI\\xc4\\x86,Eintracht Frankfurt (GER),185,78\\r\\nCroatia,4,FW,PERISIC Ivan,02.02.1989,PERI\\xc5\\xa0I\\xc4\\x86,FC Internazionale (ITA),186,81\\r\\nCroatia,13,DF,JEDVAJ Tin,28.11.1995,JEDVAJ,Bayer 04 Leverkusen (GER),184,81\\r\\nCroatia,16,FW,KALINIC Nikola,05.01.1988,N. KALINI\\xc4\\x86,AC Milan (ITA),187,81\\r\\nCroatia,1,GK,LIVAKOVIC Dominik,09.01.1995,LIVAKOVI\\xc4\\x86,GNK Dinamo Zagreb (CRO),188,82\\r\\nCroatia,20,FW,PJACA Marko,06.05.1995,PJACA,FC Schalke 04 (GER),186,83\\r\\nCroatia,5,DF,CORLUKA Vedran,05.02.1986,\\xc4\\x86ORLUKA,FC Lokomotiv Moscow (RUS),192,84\\r\\nCroatia,6,DF,LOVREN Dejan,05.07.1989,LOVREN,Liverpool FC (ENG),188,84\\r\\nCroatia,23,GK,SUBASIC Danijel,27.10.1984,SUBA\\xc5\\xa0I\\xc4\\x86,AS Monaco (FRA),191,84\\r\\nCroatia,17,FW,MANDZUKIC Mario,21.05.1986,MAND\\xc5\\xbdUKI\\xc4\\x86,Juventus FC (ITA),190,85\\r\\nCroatia,15,DF,CALETA-CAR Duje,17.09.1996,\\xc4\\x86ALETA-CAR,FC Red Bull Salzburg (AUT),192,89\\r\\nCroatia,12,GK,KALINIC Lovre,03.04.1990,L. KALINI\\xc4\\x86,KAA Gent (BEL),201,96\\r\\nDenmark,2,MF,KROHN-DEHLI Michael,06.06.1983,KROHN-DEHLI,Deportivo La Coru\\xc3\\xb1a (ESP),171,69\\r\\nDenmark,23,FW,SISTO Pione,04.02.1995,SISTO,Celta Vigo (ESP),173,69\\r\\nDenmark,11,FW,BRAITHWAITE Martin,05.06.1991,BRAITHWAITE,FC Girondins Bordeaux (FRA),180,73\\r\\nDenmark,10,MF,ERIKSEN Christian,14.02.1992,ERIKSEN,Tottenham Hotspur FC (ENG),181,76\\r\\nDenmark,8,MF,DELANEY Thomas,03.09.1991,DELANEY,SV Werder Bremen (GER),180,78\\r\\nDenmark,7,MF,KVIST William,24.02.1985,KVIST,FC Kobenhavn (DEN),185,80\\r\\nDenmark,15,FW,FISCHER Viktor,09.06.1994,FISCHER,FC Kobenhavn (DEN),181,80\\r\\nDenmark,19,MF,SCHONE Lasse,27.05.1986,SCH\\xc3\\x96NE,AFC Ajax (NED),178,80\\r\\nDenmark,14,DF,DALSGAARD Henrik,27.07.1989,DALSGAARD,Brentford FC (ENG),190,81\\r\\nDenmark,5,DF,KNUDSEN Jonas,16.09.1992,KNUDSEN,Ipswich Town FC (ENG),187,82\\r\\nDenmark,17,DF,STRYGER LARSEN Jens,21.02.1991,STRYGER,Udinese Calcio (ITA),182,82\\r\\nDenmark,4,DF,KJAER Simon,26.03.1989,KJ\\xc3\\x86R,Sevilla FC (ESP),191,84\\r\\nDenmark,20,FW,POULSEN Yussuf Yurary,15.06.1994,YURARY,RB Leipzig (GER),193,84\\r\\nDenmark,6,DF,CHRISTENSEN Andreas,10.04.1996,CHRISTENSEN,Chelsea FC (ENG),192,85\\r\\nDenmark,12,FW,DOLBERG Kasper,06.10.1997,DOLBERG,AFC Ajax (NED),187,85\\r\\nDenmark,13,DF,JORGENSEN Mathias,23.04.1990,M. J\\xc3\\x98RGENSEN,Huddersfield Town FC (ENG),191,85\\r\\nDenmark,18,MF,LERAGER Lukas,12.07.1993,LERAGER,FC Girondins Bordeaux (FRA),186,85\\r\\nDenmark,22,GK,RONNOW Frederik,04.08.1992,R\\xc3\\x98NNOW,Brondby IF (DEN),190,85\\r\\nDenmark,9,FW,JORGENSEN Nicolai,15.01.1991,N. J\\xc3\\x98RGENSEN,Feyenoord Rotterdam (NED),194,86\\r\\nDenmark,16,GK,LOSSL Jonas,01.02.1989,L\\xc3\\x96SSL,Huddersfield Town FC (ENG),195,90\\r\\nDenmark,21,FW,CORNELIUS Andreas,16.03.1993,CORNELIUS,Atalanta Bergamo (ITA),195,91\\r\\nDenmark,1,GK,SCHMEICHEL Kasper,05.11.1986,SCHMEICHEL,Leicester City FC (ENG),190,92\\r\\nDenmark,3,DF,VESTERGAARD Jannik,03.08.1992,VESTERGAARD,VfL Borussia M\\xc3\\xb6nchengladbach (GER),200,98\\r\\nEgypt,8,MF,TAREK HAMED,24.10.1988,TAREK HAMED,Zamalek (EGY),169,67\\r\\nEgypt,4,MF,OMAR GABER,30.01.1992,O. GABER,Los Angeles FC (USA),175,71\\r\\nEgypt,10,FW,MOHAMED SALAH,15.06.1992,M SALAH,Liverpool FC (ENG),175,71\\r\\nEgypt,13,DF,MOHAMED ABDELSHAFY,01.07.1985,ABDELSHAFY,Al Fateh FC (KSA),171,72\\r\\nEgypt,15,DF,MAHMOUD HAMDY,01.06.1995,M. HAMDY,Zamalek (EGY),173,72\\r\\nEgypt,12,DF,AYMAN ASHRAF,09.04.1991,A. ASHRAF,Al Ahly SC (EGY),176,73\\r\\nEgypt,17,MF,MOHAMED ELNENY,11.07.1992,M. ELNENY,Arsenal FC (ENG),181,74\\r\\nEgypt,5,MF,SAM MORSY,10.09.1991,MORSY,Wigan Athletic FC (ENG),173,75\\r\\nEgypt,19,MF,ABDALLA SAID,13.07.1985,ABDALLA,Kuopion PS (FIN),176,75\\r\\nEgypt,3,DF,AHMED ELMOHAMADY,09.09.1987,ELMOHAMADY,Aston Villa FC (ENG),183,76\\r\\nEgypt,7,DF,AHMED FATHI,10.11.1984,A. FATHI,Al Ahly SC (EGY),176,76\\r\\nEgypt,11,FW,KAHRABA,13.04.1994,M. KAHRABA,Al-Ittihad FC (KSA),182,76\\r\\nEgypt,14,FW,RAMADAN SOBHY,23.01.1997,RAMADAN,Stoke City FC (ENG),183,77\\r\\nEgypt,21,MF,TREZEGUET,01.10.1994,M. TREZEGUET,Kasimpasa SK (TUR),181,77\\r\\nEgypt,22,FW,AMR WARDA,17.09.1993,WARDA,Atromitos FC (GRE),179,77\\r\\nEgypt,18,FW,SHIKABALA,05.03.1986,SHIKABALA,Al Raed SC (KSA),183,80\\r\\nEgypt,9,FW,MARWAN MOHSEN,26.02.1989,MARWAN,Al Ahly SC (EGY),185,81\\r\\nEgypt,20,DF,SAMIR SAAD,01.04.1989,S. SAMIR,Al Ahly SC (EGY),183,82\\r\\nEgypt,23,GK,MOHAMED ELSHENAWY,18.12.1988,M. ELSHENAWY,Al Ahly SC (EGY),191,86\\r\\nEgypt,2,DF,ALI GABR,01.01.1989,ALI GABR,West Bromwich Albion FC (ENG),191,88\\r\\nEgypt,1,GK,ESSAM EL HADARY,15.01.1973,ELHADARY,Al Taawoun FC (KSA),190,90\\r\\nEgypt,16,GK,SHERIF EKRAMY,10.07.1983,EKRAMY,Al Ahly SC (EGY),193,93\\r\\nEgypt,6,DF,AHMED HEGAZY,25.01.1991,A. HEGAZY,West Bromwich Albion FC (ENG),194,95\\r\\nEngland,7,MF,LINGARD Jesse,15.12.1992,LINGARD,Manchester United FC (ENG),175,60\\r\\nEngland,10,FW,STERLING Raheem,08.12.1994,STERLING,Manchester City FC (ENG),170,70\\r\\nEngland,22,DF,ALEXANDER-ARNOLD Trent,07.10.1998,ALEXANDER-ARNOLD,Liverpool FC (ENG),175,70\\r\\nEngland,1,GK,PICKFORD Jordan,07.03.1994,PICKFORD,Everton FC (ENG),185,72\\r\\nEngland,5,DF,STONES John,28.05.1994,STONES,Manchester City FC (ENG),188,72\\r\\nEngland,12,DF,TRIPPIER Kieran,19.09.1990,TRIPPIER,Tottenham Hotspur FC (ENG),178,72\\r\\nEngland,16,DF,JONES Phil,21.02.1992,JONES,Manchester United FC (ENG),182,72\\r\\nEngland,21,MF,LOFTUS-CHEEK Ruben,23.01.1996,LOFTUS-CHEEK,Chelsea FC (ENG),190,73\\r\\nEngland,3,DF,ROSE Danny,02.07.1990,ROSE,Tottenham Hotspur FC (ENG),173,76\\r\\nEngland,20,MF,ALLI Dele,11.04.1996,DELE,Tottenham Hotspur FC (ENG),188,76\\r\\nEngland,23,GK,POPE Nick,19.04.1992,POPE,Burnley FC (ENG),191,76\\r\\nEngland,14,FW,WELBECK Danny,26.11.1990,WELBECK,Arsenal FC (ENG),184,78\\r\\nEngland,17,DF,DELPH Fabian,21.11.1989,DELPH,Manchester City FC (ENG),174,78\\r\\nEngland,18,DF,YOUNG Ashley,09.07.1985,YOUNG,Manchester United FC (ENG),175,78\\r\\nEngland,19,FW,RASHFORD Marcus,31.10.1997,RASHFORD,Manchester United FC (ENG),180,78\\r\\nEngland,11,FW,VARDY Jamie,11.01.1987,VARDY,Leicester City FC (ENG),178,80\\r\\nEngland,8,MF,HENDERSON Jordan,17.06.1990,HENDERSON,Liverpool FC (ENG),183,82\\r\\nEngland,2,DF,WALKER Kyle,28.05.1990,WALKER,Manchester City FC (ENG),178,83\\r\\nEngland,15,DF,CAHILL Gary,19.12.1985,CAHILL,Chelsea FC (ENG),191,85\\r\\nEngland,4,MF,DIER Eric,15.01.1994,DIER,Tottenham Hotspur FC (ENG),188,90\\r\\nEngland,13,GK,BUTLAND Jack,10.03.1993,BUTLAND,Stoke City FC (ENG),196,96\\r\\nEngland,6,DF,MAGUIRE Harry,05.03.1993,MAGUIRE,Leicester City FC (ENG),193,98\\r\\nEngland,9,FW,KANE Harry,28.07.1993,KANE,Tottenham Hotspur FC (ENG),188,98\\r\\nFrance,8,FW,LEMAR Thomas,12.11.1995,LEMAR,AS Monaco (FRA),172,65\\r\\nFrance,11,FW,DEMBELE Ousmane,15.05.1997,DEMBELE,FC Barcelona (ESP),178,70\\r\\nFrance,13,MF,KANTE Ngolo,29.03.1991,KANTE,Chelsea FC (ENG),168,70\\r\\nFrance,7,FW,GRIEZMANN Antoine,21.03.1991,GRIEZMANN,Atletico Madrid (ESP),174,72\\r\\nFrance,14,MF,MATUIDI Blaise,09.04.1987,MATUIDI,Juventus FC (ITA),180,74\\r\\nFrance,2,DF,PAVARD Benjamin,28.03.1996,PAVARD,VfB Stuttgart (GER),186,76\\r\\nFrance,18,FW,FEKIR Nabil,18.07.1993,FEKIR,Olympique Lyon (FRA),173,76\\r\\nFrance,20,FW,THAUVIN Florian,26.01.1993,THAUVIN,Olympique Marseille (FRA),180,76\\r\\nFrance,21,DF,HERNANDEZ Lucas,14.02.1996,HERNANDEZ,Atletico Madrid (ESP),183,76\\r\\nFrance,3,DF,KIMPEMBE Presnel,13.08.1995,KIMPEMBE,Paris Saint-Germain FC (FRA),182,78\\r\\nFrance,10,FW,MBAPPE Kylian,20.12.1998,MBAPPE,Paris Saint-Germain FC (FRA),178,78\\r\\nFrance,4,DF,VARANE Raphael,25.04.1993,VARANE,Real Madrid CF (ESP),191,79\\r\\nFrance,19,DF,SIDIBE Djibril,29.07.1992,SIDIBE,AS Monaco (FRA),184,81\\r\\nFrance,1,GK,LLORIS Hugo,26.12.1986,LLORIS,Tottenham Hotspur FC (ENG),188,82\\r\\nFrance,12,MF,TOLISSO Corentin,03.08.1994,TOLISSO,FC Bayern M\\xc3\\xbcnchen (GER),180,82\\r\\nFrance,5,DF,UMTITI Samuel,14.11.1993,UMTITI,FC Barcelona (ESP),183,84\\r\\nFrance,22,DF,MENDY Benjamin,17.07.1994,MENDY,Manchester City FC (ENG),183,84\\r\\nFrance,6,MF,POGBA Paul,15.03.1993,POGBA,Manchester United FC (ENG),191,86\\r\\nFrance,15,MF,NZONZI Steven,15.12.1988,NZONZI,Sevilla FC (ESP),197,87\\r\\nFrance,16,GK,MANDANDA Steve,28.03.1985,MANDANDA,Olympique Marseille (FRA),187,88\\r\\nFrance,17,DF,RAMI Adil,27.12.1985,RAMI,Olympique Marseille (FRA),190,90\\r\\nFrance,9,FW,GIROUD Olivier,30.09.1986,GIROUD,Chelsea FC (ENG),193,91\\r\\nFrance,23,GK,AREOLA Alphonse,27.02.1993,AREOLA,Paris Saint-Germain FC (FRA),195,95\\r\\nGermany,11,FW,REUS Marco,31.05.1989,REUS,Borussia Dortmund (GER),180,67\\r\\nGermany,10,MF,OEZIL Mesut,15.10.1988,\\xc3\\x96ZIL,Arsenal FC (ENG),180,70\\r\\nGermany,18,DF,KIMMICH Joshua,08.02.1995,KIMMICH,FC Bayern M\\xc3\\xbcnchen (GER),176,72\\r\\nGermany,7,MF,DRAXLER Julian,20.09.1993,DRAXLER,Paris Saint-Germain FC (FRA),185,74\\r\\nGermany,19,MF,RUDY Sebastian,28.02.1990,RUDY,FC Bayern M\\xc3\\xbcnchen (GER),179,74\\r\\nGermany,3,DF,HECTOR Jonas,27.05.1990,HECTOR,1. FC K\\xc3\\xb6ln (GER),185,75\\r\\nGermany,9,FW,WERNER Timo,06.03.1996,WERNER,RB Leipzig (GER),181,75\\r\\nGermany,13,MF,MUELLER Thomas,13.09.1989,M\\xc3\\x9cLLER,FC Bayern M\\xc3\\xbcnchen (GER),186,75\\r\\nGermany,2,DF,PLATTENHARDT Marvin,26.01.1992,PLATTENHARDT,Hertha BSC (GER),181,76\\r\\nGermany,14,MF,GORETZKA Leon,06.02.1995,GORETZKA,FC Schalke 04 (GER),189,76\\r\\nGermany,8,MF,KROOS Toni,04.01.1990,KROOS,Real Madrid CF (ESP),182,78\\r\\nGermany,21,MF,GUENDOGAN Ilkay,24.10.1990,G\\xc3\\x9cNDOGAN,Manchester City FC (ENG),180,79\\r\\nGermany,6,DF,KHEDIRA Sami,04.04.1987,KHEDIRA,Juventus FC (ITA),189,81\\r\\nGermany,20,MF,BRANDT Julian,02.05.1996,BRANDT,Bayer 04 Leverkusen (GER),183,82\\r\\nGermany,23,FW,GOMEZ Mario,10.07.1985,GOMEZ,VfB Stuttgart (GER),189,82\\r\\nGermany,4,DF,GINTER Matthias,19.01.1994,GINTER,VfL Borussia M\\xc3\\xb6nchengladbach (GER),189,85\\r\\nGermany,16,DF,RUEDIGER Antonio,03.03.1993,R\\xc3\\x9cDIGER,Chelsea FC (ENG),191,85\\r\\nGermany,22,GK,TER STEGEN Marc-Andre,30.04.1992,TER STEGEN,FC Barcelona (ESP),187,85\\r\\nGermany,12,GK,TRAPP Kevin,08.07.1990,TRAPP,Paris Saint-Germain FC (FRA),189,88\\r\\nGermany,15,DF,SUELE Niklas,03.09.1995,S\\xc3\\x9cLE,FC Bayern M\\xc3\\xbcnchen (GER),195,89\\r\\nGermany,5,DF,HUMMELS Mats,16.12.1988,HUMMELS,FC Bayern M\\xc3\\xbcnchen (GER),192,90\\r\\nGermany,17,DF,BOATENG Jerome,03.09.1988,BOATENG,FC Bayern M\\xc3\\xbcnchen (GER),192,90\\r\\nGermany,1,GK,NEUER Manuel,27.03.1986,NEUER,FC Bayern M\\xc3\\xbcnchen (GER),193,93\\r\\nIceland,23,DF,SKULASON Ari,14.05.1987,A. SK\\xc3\\x9aLASON,KSC Lokeren (BEL),170,63\\r\\nIceland,21,MF,TRAUSTASON Arnor,30.04.1993,TRAUSTASON,Malm\\xc3\\xb6 FF (SWE),183,73\\r\\nIceland,2,DF,SAEVARSSON Birkir,11.11.1984,S\\xc3\\x86VARSSON,Valur Reykjavik (ISL),186,75\\r\\nIceland,13,GK,RUNARSSON Runar,18.02.1995,R\\xc3\\x9aNARSSON,FC Nordsjaelland (DEN),186,76\\r\\nIceland,7,MF,GUDMUNDSSON Johann,27.10.1990,J. GUDMUNDSSON,Burnley FC (ENG),179,77\\r\\nIceland,8,MF,BJARNASON Birkir,27.05.1988,B. BJARNASON,Aston Villa FC (ENG),183,77\\r\\nIceland,3,MF,FRIDJONSSON Samuel,22.02.1996,FRIDJ\\xc3\\x93NSSON,Valerenga IF (NOR),185,78\\r\\nIceland,19,MF,GISLASON Rurik,25.02.1988,GISLASON,SV Sandhausen (GER),184,78\\r\\nIceland,11,FW,FINNBOGASON Alfred,01.02.1989,FINNBOGASON,FC Augsburg (GER),185,79\\r\\nIceland,16,MF,SKULASON Olafur,01.04.1983,\\xc3\\x93. SK\\xc3\\x9aLASON,Karabukspor (TUR),184,79\\r\\nIceland,4,MF,GUDMUNDSSON Albert,15.06.1997,A. GUDMUNDSSON,PSV Eindhoven (NED),177,80\\r\\nIceland,5,DF,INGASON Sverrir,05.08.1993,INGASON,FC Rostov (RUS),188,80\\r\\nIceland,15,DF,EYJOLFSSON Holmar,06.08.1990,EYJ\\xc3\\x93LFSSON,Levski Sofia (BUL),188,81\\r\\nIceland,10,MF,SIGURDSSON Gylfi,08.09.1989,G. SIGURDSSON,Everton FC (ENG),186,82\\r\\nIceland,14,DF,ARNASON Kari,13.10.1982,ARNASON,Aberdeen FC (SCO),191,82\\r\\nIceland,9,FW,SIGURDARSON Bjorn,26.02.1991,SIGURDARSON,FC Rostov (RUS),187,85\\r\\nIceland,18,DF,MAGNUSSON Hordur,11.02.1993,MAGN\\xc3\\x9aSSON,Bristol City FC (ENG),191,85\\r\\nIceland,6,DF,SIGURDSSON Ragnar,19.06.1986,R. SIGURDSSON,FC Rostov (RUS),187,86\\r\\nIceland,17,MF,GUNNARSSON Aron,22.04.1989,GUNNARSSON,Cardiff City FC (WAL),181,86\\r\\nIceland,20,MF,HALLFREDSSON Emil,29.06.1984,HALLFREDSSON,Udinese Calcio (ITA),186,86\\r\\nIceland,1,GK,HALLDORSSON Hannes,27.04.1984,HALLDORSSON,Randers FC (DEN),193,88\\r\\nIceland,22,FW,BODVARSSON Jon,25.05.1992,B\\xc3\\x96DVARSSON,Reading FC (ENG),189,89\\r\\nIceland,12,GK,SCHRAM Frederik,19.01.1995,SCHRAM,Roskilde BK (DEN),198,92\\r\\nIR Iran,5,DF,MOHAMMADI Milad,29.09.1993,M. MOHAMMADI,FC Akhmat Grozny (RUS),178,69\\r\\nIR Iran,2,MF,TORABI Mehdi,10.09.1994,M. TORABI,Saipa Alborz FC (IRN),185,71\\r\\nIR Iran,11,MF,AMIRI Vahid,02.04.1988,V. AMIRI,Persepolis FC (IRN),179,71\\r\\nIR Iran,3,DF,HAJI SAFI Ehsan,25.02.1990,HAJI SAFI,Olympiacos Piraeus FC (GRE),178,75\\r\\nIR Iran,9,MF,EBRAHIMI Omid,16.09.1987,OMID,Esteghlal Tehran FC (IRN),178,75\\r\\nIR Iran,23,DF,REZAEIAN Ramin,21.03.1990,RAMIN,KV Oostende (BEL),185,75\\r\\nIR Iran,15,DF,MONTAZERI Pejman,06.09.1983,P. MONTAZERI,Esteghlal Tehran FC (IRN),185,77\\r\\nIR Iran,18,FW,JAHANBAKHSH Alireza,11.08.1993,A. JAHANBAKHSH,AZ Alkmaar (NED),180,77\\r\\nIR Iran,19,DF,HOSSEINI Majid,20.06.1996,M. HOSSEINI,Esteghlal Tehran FC (IRN),183,78\\r\\nIR Iran,21,FW,DEJAGAH Ashkan,05.07.1986,DEJAGAH,Nottingham Forest FC (ENG),181,78\\r\\nIR Iran,7,MF,SHOJAEI Masoud,09.06.1984,SHOJAEI M.,AEK Athens (GRE),187,79\\r\\nIR Iran,14,FW,GHODDOS  Saman,06.09.1993,GHODDOS,IFK \\xc3\\x96stersund FK (SWE),177,79\\r\\nIR Iran,16,FW,GHOOCHANNEJHAD Reza,20.09.1987,REZA,SC Heerenveen (NED),180,79\\r\\nIR Iran,4,DF,CHESHMI Roozbeh,24.07.1993,R. CHESHMI,Esteghlal Tehran FC (IRN),192,80\\r\\nIR Iran,10,FW,ANSARIFARD Karim,03.04.1990,KARIM,Olympiacos Piraeus FC (GRE),187,80\\r\\nIR Iran,13,DF,KHANZADEH Mohammad Reza,11.05.1991,M.R. KHANZADEH,Padideh FC (IRN),186,80\\r\\nIR Iran,17,FW,TAREMI Mehdi,18.07.1992,MEHDI,Al Gharafa SC (QAT),187,80\\r\\nIR Iran,20,FW,AZMOUN Sardar,01.01.1995,SARDAR,FC Rubin Kazan (RUS),186,80\\r\\nIR Iran,22,GK,ABEDZADEH Amir,26.04.1993,ABEDZADEH,CS Maritimo (POR),186,80\\r\\nIR Iran,6,MF,EZATOLAHI Saeid,01.10.1996,S. EZATOLAHI,FK Amkar Perm (RUS),190,82\\r\\nIR Iran,8,DF,POURALIGANJI Morteza,19.04.1992,M. POURALIGANJI,Al Sadd SC (QAT),187,83\\r\\nIR Iran,12,GK,MAZAHERI Rashid,18.05.1989,RASHID,Zob Ahan Isfahan FC (IRN),192,84\\r\\nIR Iran,1,GK,BEIRANVAND Ali,21.09.1992,A. BEIRANVAND,Persepolis FC (IRN),194,85\\r\\nJapan,14,MF,INUI Takashi,02.06.1988,INUI,SD Eibar (ESP),169,59\\r\\nJapan,7,MF,SHIBASAKI Gaku,28.05.1992,SHIBASAKI,Getafe CF (ESP),175,64\\r\\nJapan,18,MF,OSHIMA Ryota,23.01.1993,OHSHIMA,Kawasaki Frontale (JPN),168,64\\r\\nJapan,5,DF,NAGATOMO Yuto,12.09.1986,NAGATOMO,Galatasaray SK (TUR),170,68\\r\\nJapan,8,MF,HARAGUCHI Genki,09.05.1991,HARAGUCHI,Fortuna D\\xc3\\xbcsseldorf (GER),178,68\\r\\nJapan,10,MF,KAGAWA Shinji,17.03.1989,KAGAWA,Borussia Dortmund (GER),175,68\\r\\nJapan,9,FW,OKAZAKI Shinji,16.04.1986,OKAZAKI,Leicester City FC (ENG),174,70\\r\\nJapan,19,DF,SAKAI Hiroki,12.04.1990,H. SAKAI,Olympique Marseille (FRA),183,70\\r\\nJapan,15,FW,OSAKO Yuya,18.05.1990,OSAKO,1. FC K\\xc3\\xb6ln (GER),182,71\\r\\nJapan,11,MF,USAMI Takashi,06.05.1992,USAMI,Fortuna D\\xc3\\xbcsseldorf (GER),178,72\\r\\nJapan,13,FW,MUTO Yoshinori,15.07.1992,MUTO,FSV Mainz 05 (GER),179,72\\r\\nJapan,16,MF,YAMAGUCHI Hotaru,06.10.1990,YAMAGUCHI,Cerezo Osaka (JPN),173,72\\r\\nJapan,17,MF,HASEBE Makoto,18.01.1984,HASEBE,Eintracht Frankfurt (GER),180,72\\r\\nJapan,23,GK,NAKAMURA Kosuke,27.02.1995,NAKAMURA,Kashiwa Reysol (JPN),184,72\\r\\nJapan,1,GK,KAWASHIMA Eiji,20.03.1983,KAWASHIMA,FC Metz (FRA),185,74\\r\\nJapan,3,DF,SHOJI Gen,11.12.1992,SHOJI,Kashima Antlers (JPN),182,74\\r\\nJapan,4,MF,HONDA Keisuke,13.06.1986,HONDA,CF Pachuca (MEX),182,74\\r\\nJapan,21,DF,SAKAI Gotoku,14.03.1991,G. SAKAI,Hamburger SV (GER),176,74\\r\\nJapan,6,DF,ENDO Wataru,09.02.1993,ENDO,Urawa Reds (JPN),178,75\\r\\nJapan,20,DF,MAKINO Tomoaki,11.05.1987,MAKINO,Urawa Reds (JPN),182,77\\r\\nJapan,12,GK,HIGASHIGUCHI Masaaki,12.05.1986,HIGASHIGUCHI,Gamba Osaka (JPN),184,78\\r\\nJapan,22,DF,YOSHIDA Maya,24.08.1988,YOSHIDA,Southampton FC (ENG),189,78\\r\\nJapan,2,DF,UEDA Naomichi,24.10.1994,UEDA,Kashima Antlers (JPN),186,79\\r\\nKorea Republic,10,MF,LEE Seungwoo,06.01.1998,S W LEE,Hellas Verona FC (ITA),170,63\\r\\nKorea Republic,22,DF,GO Yohan,10.03.1988,Y H GO,FC Seoul (KOR),170,65\\r\\nKorea Republic,14,DF,HONG Chul,17.09.1990,C HONG,Sangju Sangmu FC (KOR),176,67\\r\\nKorea Republic,18,MF,MOON Seonmin,09.06.1992,S M MOON,Incheon United FC (KOR),172,68\\r\\nKorea Republic,12,DF,KIM Minwoo,25.02.1990,M W KIM,Sangju Sangmu FC (KOR),172,69\\r\\nKorea Republic,8,MF,JU Sejong,30.10.1990,S J JU,Asan Mugunghwa FC (KOR),176,70\\r\\nKorea Republic,17,MF,LEE Jaesung,10.08.1992,J S LEE,Jeonbuk Hyundai (KOR),180,70\\r\\nKorea Republic,6,DF,PARK Jooho,16.01.1987,J H PARK,Ulsan Hyundai FC (KOR),174,71\\r\\nKorea Republic,13,MF,KOO Jacheol,27.02.1989,J C KOO,FC Augsburg (GER),182,73\\r\\nKorea Republic,2,DF,LEE Yong,24.12.1986,Y LEE,Jeonbuk Hyundai (KOR),180,74\\r\\nKorea Republic,3,DF,JUNG Seunghyun,03.04.1994,S H JUNG,Sagan Tosu FC (JPN),188,74\\r\\nKorea Republic,19,DF,KIM Younggwon,27.02.1990,Y G KIM,Guangzhou Evergrande FC (CHN),184,74\\r\\nKorea Republic,16,MF,KI Sungyueng,24.01.1989,S Y KI,Swansea City AFC (WAL),186,75\\r\\nKorea Republic,23,GK,JO Hyeonwoo,25.09.1991,H W JO,Daegu FC (KOR),189,75\\r\\nKorea Republic,7,FW,SON Heungmin,08.07.1992,H M SON,Tottenham Hotspur FC (ENG),183,76\\r\\nKorea Republic,11,FW,HWANG Heechan,26.01.1996,H C HWANG,FC Red Bull Salzburg (AUT),177,77\\r\\nKorea Republic,20,DF,JANG Hyunsoo,28.09.1991,H S JANG,FC Tokyo (JPN),187,77\\r\\nKorea Republic,5,DF,YUN Youngsun,04.10.1988,Y S YUN,Seongnam FC (KOR),185,78\\r\\nKorea Republic,15,MF,JUNG Wooyoung,14.12.1989,W Y JUNG,Vissel Kobe (JPN),186,78\\r\\nKorea Republic,4,DF,OH Bansuk,20.05.1988,B S OH,Jeju United (KOR),189,79\\r\\nKorea Republic,1,GK,KIM Seunggyu,30.09.1990,S G KIM,Vissel Kobe (JPN),187,80\\r\\nKorea Republic,21,GK,KIM Jinhyeon,06.07.1987,J H KIM,Cerezo Osaka (JPN),193,82\\r\\nKorea Republic,9,FW,KIM Shinwook,14.04.1988,S W KIM,Jeonbuk Hyundai (KOR),197,97\\r\\nMexico,20,MF,AQUINO Javier,11.02.1990,J. AQUINO,Tigres UANL (MEX),166,59\\r\\nMexico,18,MF,GUARDADO Andres,28.09.1986,A. GUARDADO,Real Betis (ESP),167,63\\r\\nMexico,22,FW,LOZANO Hirving,30.07.1995,H. LOZANO,PSV Eindhoven (NED),176,66\\r\\nMexico,6,MF,DOS SANTOS Jonathan,26.04.1990,J. DOS SANTOS,LA Galaxy (USA),173,69\\r\\nMexico,17,MF,CORONA Jesus,06.01.1993,JES\\xc3\\x9aS C.,FC Porto (POR),174,69\\r\\nMexico,8,FW,FABIAN Marco,21.07.1989,M. FABI\\xc3\\x81N,Eintracht Frankfurt (GER),171,70\\r\\nMexico,10,MF,DOS SANTOS Giovani,11.05.1989,G. DOS SANTOS,LA Galaxy (USA),178,70\\r\\nMexico,14,FW,HERNANDEZ Javier,01.06.1988,J. HERN\\xc3\\x81NDEZ,West Ham United FC (ENG),175,71\\r\\nMexico,7,MF,LAYUN Miguel,25.06.1988,M. LAY\\xc3\\x9aN,Sevilla FC (ESP),180,72\\r\\nMexico,19,FW,PERALTA Oribe,12.01.1984,O. PERALTA,Club Am\\xc3\\xa9rica (MEX),178,72\\r\\nMexico,21,FW,ALVAREZ Edson,24.10.1997,E. \\xc3\\x81LVAREZ,Club Am\\xc3\\xa9rica (MEX),186,72\\r\\nMexico,23,MF,GALLARDO Jesus,15.08.1994,J. GALLARDO,Pumas UNAM (MEX),177,74\\r\\nMexico,13,GK,OCHOA Guillermo,13.07.1985,G. OCHOA,Standard Li\\xc3\\xa8ge (BEL),185,76\\r\\nMexico,4,DF,MARQUEZ Rafael,13.02.1979,R. M\\xc3\\x81RQUEZ,CF Atlas (MEX),184,77\\r\\nMexico,5,DF,REYES Diego,19.09.1992,D. REYES,FC Porto (POR),190,77\\r\\nMexico,11,FW,VELA Carlos,01.03.1989,CARLOS V,Los Angeles FC (USA),178,78\\r\\nMexico,9,FW,JIMENEZ Raul,05.05.1991,RA\\xc3\\x9aL,SL Benfica (POR),188,79\\r\\nMexico,16,DF,HERRERA Hector,19.04.1990,H. HERRERA,FC Porto (POR),180,79\\r\\nMexico,1,GK,CORONA Jose,26.01.1981,J. CORONA,Cruz Azul (MEX),182,80\\r\\nMexico,2,DF,AYALA Hugo,31.03.1987,H. AYALA,Tigres UANL (MEX),188,82\\r\\nMexico,15,DF,MORENO Hector,17.01.1988,H. MORENO,Real Sociedad (ESP),182,82\\r\\nMexico,3,DF,SALCEDO Carlos,29.09.1993,C. SALCEDO,Eintracht Frankfurt (GER),189,83\\r\\nMexico,12,GK,TALAVERA Alfredo,18.09.1982,A. TALAVERA,Deportivo Toluca FC (MEX),188,84\\r\\nMorocco,14,MF,BOUSSOUFA Mbark,15.08.1984,BOUSSOUFA,Al Jazira (UAE),167,59\\r\\nMorocco,2,DF,HAKIMI Achraf,04.11.1998,HAKIMI,Real Madrid CF (ESP),179,65\\r\\nMorocco,18,MF,HARIT Amine,18.06.1997,HARIT,FC Schalke 04 (GER),179,66\\r\\nMorocco,23,MF,CARCELA Mehdi,01.07.1989,CARCELA,Standard Li\\xc3\\xa8ge (BEL),176,67\\r\\nMorocco,3,DF,MENDYL Hamza,21.10.1997,MENDYL,Lille OSC (FRA),179,70\\r\\nMorocco,7,MF,ZIYACH Hakim,19.03.1993,ZIYACH,AFC Ajax (NED),180,70\\r\\nMorocco,22,GK,TAGNAOUTI Ahmed,05.04.1996,TAGNAOUTI,IRT Tanger (MAR),186,70\\r\\nMorocco,9,FW,EL KAABI Ayoub,25.06.1993,EL KAABI,RS Berkane (MAR),182,72\\r\\nMorocco,11,MF,FAJR Faycal,01.08.1988,FAJR,Getafe CF (ESP),178,72\\r\\nMorocco,10,MF,BELHANDA Younes,25.02.1990,BELHANDA,Galatasaray SK (TUR),174,75\\r\\nMorocco,15,MF,AIT BENNASSER Youssef,07.07.1996,AIT BENNASSER,SM Caen (FRA),184,75\\r\\nMorocco,19,FW,EN NESYRI Youssef,01.06.1997,EN-NESYRI,Malaga CF (ESP),188,75\\r\\nMorocco,6,DF,SAISS Romain,26.03.1990,SAISS,Wolverhampton Wanderers FC (ENG),190,76\\r\\nMorocco,1,GK,BOUNOU Yassine,05.04.1991,BOUNOU,Girona FC (ESP),190,77\\r\\nMorocco,16,MF,AMRABAT Noureddine,31.03.1987,N. AMRABAT,CD Legan\\xc3\\xa9s (ESP),178,77\\r\\nMorocco,21,MF,AMRABAT Sofyan,21.08.1996,S. AMRABAT,Feyenoord Rotterdam (NED),183,77\\r\\nMorocco,4,DF,DA COSTA Manuel,06.05.1986,DA COSTA,Istanbul Ba\\xc5\\x9fak\\xc5\\x9fehir FK (TUR),187,78\\r\\nMorocco,8,MF,EL AHMADI Karim,27.01.1985,EL AHMADI,Feyenoord Rotterdam (NED),179,78\\r\\nMorocco,13,FW,BOUTAIB Khalid,24.04.1987,BOUTAIB,Yeni Malatyaspor (TUR),190,80\\r\\nMorocco,20,FW,BOUHADDOUZ Aziz,30.03.1987,BOUHADDOUZ,FC St. Pauli (GER),188,80\\r\\nMorocco,17,DF,DIRAR Nabil,25.02.1986,DIRAR,Fenerbahce SK (TUR),187,82\\r\\nMorocco,5,DF,BENATIA Mehdi,17.04.1987,BENATIA,Juventus FC (ITA),188,88\\r\\nMorocco,12,GK,EL KAJOUI Monir,10.05.1989,EL KAJOUI,CD Numancia (ESP),190,88\\r\\nNigeria,7,FW,MUSA Ahmed,14.10.1992,MUSA,CSKA Moscow (RUS),173,65\\r\\nNigeria,4,MF,NDIDI Onyinye,16.12.1996,NDIDI,Leicester City FC (ENG),184,73\\r\\nNigeria,8,MF,ETEBO Oghenekaro,09.11.1995,ETEBO,UD Las Palmas (ESP),174,74\\r\\nNigeria,17,MF,ONAZI Ogenyi,25.12.1992,ONAZI,Trabzonspor (TUR),172,74\\r\\nNigeria,21,DF,EBUEHI Tyronne,16.12.1995,EBUEHI,ADO Den Haag (NED),187,74\\r\\nNigeria,2,DF,IDOWU Bryan,18.05.1992,IDOWU,FK Amkar Perm (RUS),179,75\\r\\nNigeria,11,FW,MOSES Victor,12.12.1990,MOSES,Chelsea FC (ENG),177,75\\r\\nNigeria,12,DF,SHEHU Abdullahi,12.03.1993,SHEHU,Bursaspor (TUR),182,75\\r\\nNigeria,20,DF,AWAZIEM Chidozie,01.01.1997,AWAZIEM,FC Nantes (FRA),192,76\\r\\nNigeria,15,MF,OBI Joel,22.05.1991,OBI,Torino FC (ITA),177,77\\r\\nNigeria,1,GK,EZENWA Ikechukwu,16.10.1988,EZENWA,Enyimba FC (NGA),181,80\\r\\nNigeria,14,FW,IHEANACHO Kelechi,10.03.1996,IHEANACHO,Leicester City FC (ENG),183,80\\r\\nNigeria,3,DF,ECHIEJILE Elderson,20.01.1988,ECHIEJILE,Cercle Brugge (BEL),185,82\\r\\nNigeria,10,MF,MIKEL John Obi,22.04.1987,MIKEL,Tianjin Teda (CHN),188,82\\r\\nNigeria,22,DF,OMERUO Kenneth,17.10.1993,OMERUO,Kasimpasa SK (TUR),185,82\\r\\nNigeria,9,FW,IGHALO Odion,16.06.1989,IGHALO,Changchun Yatai (CHN),188,83\\r\\nNigeria,5,DF,EKONG William,01.09.1993,EKONG,Bursaspor (TUR),191,85\\r\\nNigeria,18,FW,IWOBI Alex,03.05.1996,IWOBI,Arsenal FC (ENG),185,86\\r\\nNigeria,6,DF,BALOGUN Leon,28.06.1988,BALOGUN,FSV Mainz 05 (GER),190,89\\r\\nNigeria,13,FW,NWANKWO Simeon,07.05.1992,NWANKWO,FC Crotone (ITA),197,89\\r\\nNigeria,19,MF,OGU John,20.04.1988,OGU,Hapoel Be'er Sheva FC (ISR),191,90\\r\\nNigeria,23,GK,UZOHO Francis,28.10.1998,UZOHO,Deportivo La Coru\\xc3\\xb1a (ESP),196,91\\r\\nNigeria,16,GK,AKPEYI Daniel,08.03.1986,AKPEYI,Chippa United FC (RSA),187,94\\r\\nPanama,19,MF,QUINTERO Alberto,18.12.1987,QUINTERO,Universitario Lima (PER),165,62\\r\\nPanama,1,GK,PENEDO Jaime,26.09.1981,PENEDO,Dinamo Bucharest (ROU),183,70\\r\\nPanama,8,MF,BARCENAS Edgar,23.10.1993,BARCENAS,Cafetaleros de Tapachula (MEX),175,72\\r\\nPanama,10,FW,DIAZ Ismael,12.05.1997,DIAZ,Deportivo La Coru\\xc3\\xb1a (ESP),181,72\\r\\nPanama,11,MF,COOPER Armando,26.11.1987,COOPER,Club Universidad de Chile (CHI),173,72\\r\\nPanama,17,DF,OVALLE Luis,07.09.1988,OVALLE,CD Olimpia (HON),178,75\\r\\nPanama,9,FW,TORRES Gabriel,31.10.1988,G. TORRES,CD Huachipato (CHI),180,77\\r\\nPanama,21,MF,RODRIGUEZ Jose Luis,19.06.1998,J. RODRIGUEZ,KAA Gent (BEL),180,77\\r\\nPanama,2,DF,MURILLO Michael,11.02.1996,MURILLO,New York Red Bulls (USA),183,78\\r\\nPanama,13,DF,MACHADO Adolfo,14.02.1985,MACHADO,Houston Dynamo (USA),182,78\\r\\nPanama,14,MF,PIMENTEL Valentin,30.05.1991,PIMENTEL,Plaza Amador (PAN),189,80\\r\\nPanama,15,DF,DAVIS Eric,31.03.1991,DAVIS,DAC Dunajska Streda (SVK),180,81\\r\\nPanama,4,DF,ESCOBAR Fidel,09.01.1995,ESCOBAR,New York Red Bulls (USA),182,82\\r\\nPanama,6,MF,GOMEZ Gabriel,29.05.1984,GOMEZ,Atl\\xc3\\xa9tico Bucaramanga (COL),183,82\\r\\nPanama,16,FW,ARROYO Abdiel,13.12.1993,ARROYO,LD Alajuelense (CRC),183,82\\r\\nPanama,20,MF,GODOY Anibal,10.02.1990,GODOY,San Jose Earthquakes (USA),183,82\\r\\nPanama,7,FW,PEREZ Blas,13.03.1981,PEREZ,CSD Municipal (GUA),187,83\\r\\nPanama,22,GK,RODRIGUEZ Alex,05.08.1990,RODRIGUEZ,San Francisco FC (PAN),197,83\\r\\nPanama,12,GK,CALDERON Jose,14.08.1985,CALDERON,Chorrillo FC (PAN),187,87\\r\\nPanama,18,FW,TEJADA Luis,28.03.1982,TEJADA,Sport Boys (PER),183,87\\r\\nPanama,23,DF,BALOY Felipe,24.02.1981,BALOY,CSD Municipal (GUA),185,87\\r\\nPanama,3,DF,CUMMINGS Harold,01.03.1992,CUMMINGS,San Jose Earthquakes (USA),183,92\\r\\nPanama,5,DF,TORRES Roman,20.03.1986,R. TORRES,Seattle Sounders FC (USA),188,99\\r\\nPeru,7,MF,HURTADO Paolo,27.07.1990,HURTADO,Vitoria Guimaraes (POR),174,66\\r\\nPeru,11,FW,RUIDIAZ Raul,25.07.1990,RUIDIAZ,CA Monarcas Morelia (MEX),169,67\\r\\nPeru,22,DF,LOYOLA Nilson,26.10.1994,LOYOLA,FBC Melgar (PER),179,68\\r\\nPeru,8,MF,CUEVA Christian,23.11.1991,CUEVA,Sao Paulo FC (BRA),169,69\\r\\nPeru,19,MF,YOTUN Yoshimar,07.04.1990,YOTUN,Orlando City SC (USA),172,69\\r\\nPeru,14,MF,POLO Andy,29.09.1994,POLO,Portland Timbers (USA),174,71\\r\\nPeru,23,MF,AQUINO Pedro,13.04.1995,AQUINO,Lobos BUAP (MEX),174,71\\r\\nPeru,15,DF,RAMOS Christian,04.11.1988,RAMOS,CD Tiburones Rojos de Veracruz (MEX),182,72\\r\\nPeru,20,FW,FLORES Edison,14.05.1994,FLORES,Aalborg BK (DEN),170,72\\r\\nPeru,6,DF,TRAUCO Miguel,25.08.1992,TRAUCO,CR Flamengo (BRA),169,74\\r\\nPeru,3,DF,CORZO Aldo,20.05.1989,CORZO,Universitario Lima (PER),172,75\\r\\nPeru,16,MF,CARTAGENA Wilder,23.09.1994,CARTAGENA,CD Tiburones Rojos de Veracruz (MEX),179,76\\r\\nPeru,5,DF,ARAUJO Miguel,24.10.1994,ARAUJO,Alianza Lima (PER),178,77\\r\\nPeru,18,FW,CARRILLO Andre,14.06.1991,CARRILLO,Watford FC (ENG),182,77\\r\\nPeru,2,DF,RODRIGUEZ Alberto,31.03.1984,RODRIGUEZ,Atletico Junior (COL),179,78\\r\\nPeru,12,GK,CACEDA Carlos,27.09.1991,CACEDA,Deportivo Municipal (PER),184,78\\r\\nPeru,1,GK,GALLESE Pedro,23.02.1990,GALLESE,CD Tiburones Rojos de Veracruz (MEX),189,79\\r\\nPeru,17,DF,ADVINCULA Luis,02.03.1990,ADVINCULA,Lobos BUAP (MEX),178,80\\r\\nPeru,4,DF,SANTAMARIA Anderson,10.01.1992,SANTAMARIA,Puebla FC (MEX),183,84\\r\\nPeru,21,GK,CARVALLO Jose,01.03.1986,CARVALLO,Universidad T\\xc3\\xa9cnica de Cajamarca (PER),182,84\\r\\nPeru,10,FW,FARFAN Jefferson,26.10.1984,FARFAN,FC Lokomotiv Moscow (RUS),177,85\\r\\nPeru,13,MF,TAPIA Renato,28.07.1995,TAPIA,Feyenoord Rotterdam (NED),185,85\\r\\nPeru,9,FW,GUERRERO Paolo,01.01.1984,GUERRERO,CR Flamengo (BRA),185,88\\r\\nPoland,19,MF,ZIELINSKI Piotr,20.05.1994,ZIELINSKI,SSC Napoli (ITA),177,64\\r\\nPoland,6,MF,GORALSKI Jacek,21.09.1992,GORALSKI,PFC Ludogorets Razgrad (BUL),172,66\\r\\nPoland,17,MF,PESZKO Slawomir,19.02.1985,PESZKO,Lechia Gdansk (POL),173,68\\r\\nPoland,16,MF,BLASZCZYKOWSKI Jakub,14.12.1985,BLASZCZYKOWSKI,VfL Wolfsburg (GER),175,71\\r\\nPoland,18,DF,BERESZYNSKI Bartosz,12.07.1992,BERESZYNSKI,UC Sampdoria (ITA),182,72\\r\\nPoland,8,MF,LINETTY Karol,02.02.1995,LINETTY,UC Sampdoria (ITA),176,73\\r\\nPoland,21,MF,KURZAWA Rafal,29.01.1993,KURZAWA,Gornik Zabrze (POL),182,73\\r\\nPoland,13,MF,RYBUS Maciej,19.08.1989,RYBUS,FC Lokomotiv Moscow (RUS),173,75\\r\\nPoland,23,FW,KOWNACKI Dawid,14.03.1997,KOWNACKI,UC Sampdoria (ITA),185,75\\r\\nPoland,5,DF,BEDNAREK Jan,12.04.1996,BEDNAREK,Southampton FC (ENG),189,77\\r\\nPoland,2,DF,PAZDAN Michal,21.09.1987,PAZDAN,Legia Warsaw (POL),181,78\\r\\nPoland,3,DF,JEDRZEJCZYK Artur,04.11.1987,JEDRZEJCZYK,Legia Warsaw (POL),189,78\\r\\nPoland,11,MF,GROSICKI Kamil,08.06.1988,GROSICKI,Hull City FC (ENG),180,78\\r\\nPoland,14,FW,TEODORCZYK Lukasz,03.06.1991,TEODORCZYK,RSC Anderlecht (BEL),185,78\\r\\nPoland,9,FW,LEWANDOWSKI Robert,21.08.1988,LEWANDOWSKI,FC Bayern M\\xc3\\xbcnchen (GER),185,79\\r\\nPoland,20,DF,PISZCZEK Lukasz,03.06.1985,PISZCZEK,Borussia Dortmund (GER),184,79\\r\\nPoland,15,DF,GLIK Kamil,03.02.1988,GLIK,AS Monaco (FRA),190,80\\r\\nPoland,4,DF,CIONEK Thiago,21.04.1986,CIONEK,SPAL Ferrara (ITA),184,81\\r\\nPoland,7,FW,MILIK Arkadiusz,28.02.1994,MILIK,SSC Napoli (ITA),186,81\\r\\nPoland,10,MF,KRYCHOWIAK Grzegorz,29.01.1990,KRYCHOWIAK,West Bromwich Albion FC (ENG),186,83\\r\\nPoland,12,GK,BIALKOWSKI Bartosz,06.07.1987,BIALKOWSKI,Ipswich Town FC (ENG),194,83\\r\\nPoland,22,GK,FABIANSKI Lukasz,18.04.1985,FABIANSKI,Swansea City AFC (WAL),190,83\\r\\nPoland,1,GK,SZCZESNY Wojciech,18.04.1990,SZCZESNY,Juventus FC (ITA),195,84\\r\\nPortugal,8,MF,JOAO MOUTINHO,08.09.1986,J. MOUTINHO,AS Monaco (FRA),170,61\\r\\nPortugal,18,FW,GELSON MARTINS,11.05.1995,GELSON,Sporting CP (POR),173,63\\r\\nPortugal,5,DF,RAPHAEL GUERREIRO,22.12.1993,RAPHAEL,Borussia Dortmund (GER),170,64\\r\\nPortugal,16,MF,BRUNO FERNANDES,08.09.1994,B. FERNANDES,Sporting CP (POR),183,64\\r\\nPortugal,11,MF,BERNARDO SILVA,10.08.1994,BERNARDO,Manchester City FC (ENG),173,65\\r\\nPortugal,19,DF,MARIO RUI,27.05.1991,M\\xc3\\x81RIO RUI,SSC Napoli (ITA),168,67\\r\\nPortugal,21,DF,CEDRIC,31.08.1991,C\\xc3\\x89DRIC,Southampton FC (ENG),172,67\\r\\nPortugal,4,MF,MANUEL FERNANDES,05.02.1986,M. FERNANDES,FC Lokomotiv Moscow (RUS),174,69\\r\\nPortugal,15,DF,RICARDO,06.10.1993,RICARDO,FC Porto (POR),174,70\\r\\nPortugal,17,FW,GONCALO GUEDES,29.11.1996,G. GUEDES,Valencia CF (ESP),179,72\\r\\nPortugal,23,MF,ADRIEN SILVA,15.03.1989,ADRIEN,Leicester City FC (ENG),176,72\\r\\nPortugal,10,MF,JOAO MARIO,19.01.1993,J. M\\xc3\\x81RIO,West Ham United FC (ENG),179,73\\r\\nPortugal,20,FW,RICARDO QUARESMA,26.09.1983,QUARESMA,Besiktas JK (TUR),175,73\\r\\nPortugal,9,FW,ANDRE SILVA,06.11.1995,ANDR\\xc3\\x89 SILVA,AC Milan (ITA),184,78\\r\\nPortugal,22,GK,BETO,01.05.1982,BETO,Goztepe SK (TUR),183,79\\r\\nPortugal,7,FW,CRISTIANO RONALDO,05.02.1985,RONALDO,Real Madrid CF (ESP),185,80\\r\\nPortugal,14,MF,WILLIAM,07.04.1992,WILLIAM,Sporting CP (POR),190,80\\r\\nPortugal,3,DF,PEPE,26.02.1983,PEPE,Besiktas JK (TUR),188,81\\r\\nPortugal,12,GK,ANTHONY LOPES,01.10.1990,LOPES,Olympique Lyon (FRA),184,81\\r\\nPortugal,2,DF,BRUNO ALVES,27.11.1981,B. ALVES,Rangers FC (SCO),187,83\\r\\nPortugal,13,DF,RUBEN DIAS,14.05.1997,RUBEN DIAS,SL Benfica (POR),187,83\\r\\nPortugal,1,GK,RUI PATRICIO,15.02.1988,RUI PATRICIO,Sporting CP (POR),189,84\\r\\nPortugal,6,DF,JOSE FONTE,22.12.1983,FONTE,Dalian Yifang FC (CHN),191,84\\r\\nRussia,16,MF,MIRANCHUK Anton,17.10.1995,MIRANCHUK AN.,FC Lokomotiv Moscow (RUS),182,67\\r\\nRussia,6,MF,CHERYSHEV Denis,26.12.1990,CHERYSHEV,Villarreal CF (ESP),173,68\\r\\nRussia,17,MF,GOLOVIN Aleksandr,30.05.1996,GOLOVIN,CSKA Moscow (RUS),178,70\\r\\nRussia,23,DF,SMOLNIKOV Igor,08.08.1988,SMOLNIKOV,FC Zenit St. Petersburg (RUS),179,72\\r\\nRussia,9,MF,DZAGOEV Alan,17.06.1990,DZAGOEV,CSKA Moscow (RUS),178,73\\r\\nRussia,7,MF,KUZIAEV Daler,15.01.1993,KUZIAEV,FC Zenit St. Petersburg (RUS),182,74\\r\\nRussia,19,MF,SAMEDOV Alexander,19.07.1984,SAMEDOV,FC Spartak Moscow (RUS),178,74\\r\\nRussia,8,MF,GAZINSKY Iury,20.07.1989,GAZINSKII,FC Krasnodar (RUS),180,75\\r\\nRussia,18,MF,ZHIRKOV Yury,20.08.1983,ZHIRKOV,FC Zenit St. Petersburg (RUS),180,76\\r\\nRussia,11,MF,ZOBNIN Roman,11.02.1994,ZOBNIN,FC Spartak Moscow (RUS),185,77\\r\\nRussia,15,MF,MIRANCHUK Alexey,17.10.1995,MIRANCHUK AL.,FC Lokomotiv Moscow (RUS),185,77\\r\\nRussia,13,DF,KUDRIASHOV Fedor,05.04.1987,KUDRIASHOV,FC Rubin Kazan (RUS),187,78\\r\\nRussia,2,DF,MARIO FERNANDES,19.09.1990,FERNANDES,CSKA Moscow (RUS),187,79\\r\\nRussia,10,FW,SMOLOV Fedor,09.02.1990,SMOLOV,FC Krasnodar (RUS),185,79\\r\\nRussia,21,MF,EROKHIN Aleksandr,13.10.1989,EROKHIN,FC Zenit St. Petersburg (RUS),191,79\\r\\nRussia,12,GK,LUNEV Andrei,13.11.1991,LUNEV,FC Zenit St. Petersburg (RUS),189,80\\r\\nRussia,14,DF,GRANAT Vladimir,22.05.1987,GRANAT,FC Rubin Kazan (RUS),184,80\\r\\nRussia,20,GK,GABULOV Vladimir,19.10.1983,GABULOV,Club Brugge KV (BEL),190,81\\r\\nRussia,3,DF,KUTEPOV Ilya,29.07.1993,KUTEPOV,FC Spartak Moscow (RUS),190,82\\r\\nRussia,1,GK,AKINFEEV Igor,08.04.1986,AKINFEEV,CSKA Moscow (RUS),185,83\\r\\nRussia,4,DF,IGNASHEVICH Sergey,14.07.1979,IGNASHEVICH,CSKA Moscow (RUS),186,84\\r\\nRussia,5,DF,SEMENOV Andrey,24.03.1989,SEMENOV,FC Akhmat Grozny (RUS),191,87\\r\\nRussia,22,FW,DZYUBA Artem,22.08.1988,DZYUBA,FC Arsenal Tula (RUS),196,90\\r\\nSaudi Arabia,6,DF,MOHAMMED ALBURAYK,15.09.1992,ALBURAYK,Al Hilal SFC (KSA),173,61\\r\\nSaudi Arabia,7,MF,SALMAN ALFARAJ,01.08.1989,SALMAN,Al Hilal SFC (KSA),179,63\\r\\nSaudi Arabia,8,MF,YAHIA ALSHEHRI,26.06.1990,YAHIA,CD Legan\\xc3\\xa9s (ESP),165,63\\r\\nSaudi Arabia,13,DF,YASIR ALSHAHRANI,25.05.1992,YASIR,Al Hilal SFC (KSA),170,63\\r\\nSaudi Arabia,19,FW,FAHAD ALMUWALLAD,14.09.1994,FAHAD,Levante UD (ESP),168,65\\r\\nSaudi Arabia,9,MF,HATAN BAHBIR,16.07.1992,HATAN,Al Shabab FC (KSA),170,66\\r\\nSaudi Arabia,14,MF,ABDULLAH OTAYF,03.08.1992,OTAYF,Al Hilal SFC (KSA),177,66\\r\\nSaudi Arabia,15,MF,ABDULLAH ALKHAIBARI,16.08.1996,ALKHAIBARI,Al Shabab FC (KSA),175,66\\r\\nSaudi Arabia,2,DF,MANSOUR ALHARBI,19.10.1987,MANSOUR,Al Ahli SC (KSA),173,68\\r\\nSaudi Arabia,18,MF,SALEM ALDAWSARI,19.08.1991,SALEM,Villarreal CF (ESP),174,68\\r\\nSaudi Arabia,17,MF,TAISEER ALJASSAM,25.07.1984,TAISEER,Al Ahli SC (KSA),169,69\\r\\nSaudi Arabia,11,MF,ABDULMALEK ALKHAIBRI,13.03.1986,ABDULMALEK,Al Hilal SFC (KSA),177,73\\r\\nSaudi Arabia,12,MF,MOHAMED KANNO,22.09.1994,KANNO,Al Hilal SFC (KSA),192,73\\r\\nSaudi Arabia,10,FW,MOHAMMED ALSAHLAWI,10.01.1987,ALSAHLAWI,Al Nassr FC (KSA),179,75\\r\\nSaudi Arabia,5,DF,OMAR OTHMAN,27.09.1985,OMAR,Al Nassr FC (KSA),185,76\\r\\nSaudi Arabia,16,MF,HUSSAIN ALMOQAHWI,24.03.1988,HUSSAIN,Al Ahli SC (KSA),174,76\\r\\nSaudi Arabia,20,FW,MUHANNAD ASIRI,14.10.1986,MUHANNAD,Al Ahli SC (KSA),185,79\\r\\nSaudi Arabia,22,GK,MOHAMMED ALOWAIS,10.10.1991,ALOWAIS,Al Ahli SC (KSA),187,79\\r\\nSaudi Arabia,23,DF,MOTAZ HAWSAWI,17.02.1992,MOTAZ,Al Ahli SC (KSA),180,79\\r\\nSaudi Arabia,3,DF,OSAMA HAWSAWI,31.03.1984,OSAMA,Al Hilal SFC (KSA),188,83\\r\\nSaudi Arabia,4,DF,ALI ALBULAYHI,21.11.1989,ALI,Al Hilal SFC (KSA),182,83\\r\\nSaudi Arabia,21,GK,YASSER ALMOSAILEM,27.02.1984,ALMOSAILEM,Al Ahli SC (KSA),186,88\\r\\nSaudi Arabia,1,GK,ABDULLAH ALMUAIOUF,23.01.1987,ABDULLAH,Al Hilal SFC (KSA),178,98\\r\\nSenegal,5,MF,GUEYE Idrissa Gana,26.09.1989,GANA,Everton FC (ENG),174,64\\r\\nSenegal,2,DF,CISS Saliou,15.06.1989,CISS,Valenciennes FC (FRA),173,69\\r\\nSenegal,10,FW,MANE Sadio,10.04.1992,MANE,Liverpool FC (ENG),175,69\\r\\nSenegal,18,FW,SARR Ismaila,25.02.1998,ISMA\\xc3\\x8fLA,Stade Rennais FC (FRA),175,70\\r\\nSenegal,22,DF,WAGUE Moussa,04.10.1998,M. WAGUE,KAS Eupen (BEL),177,70\\r\\nSenegal,12,DF,SABALY Youssouf,05.03.1993,SABALY,FC Girondins Bordeaux (FRA),174,71\\r\\nSenegal,17,MF,NDIAYE Pape Alioune,27.10.1990,P.A. NDIAYE,Stoke City FC (ENG),181,74\\r\\nSenegal,19,FW,NIANG Mbaye,19.12.1994,NIANG,Torino FC (ITA),184,74\\r\\nSenegal,21,DF,GASSAMA Lamine,20.10.1989,GASSAMA,Adanaspor (TUR),181,74\\r\\nSenegal,7,FW,SOW Moussa,19.01.1986,SOW,Bursaspor (TUR),180,75\\r\\nSenegal,8,MF,KOUYATE Cheikhou,21.12.1989,C. KOUYATE,West Ham United FC (ENG),189,75\\r\\nSenegal,20,FW,BALDE Keita,08.03.1995,KE\\xc3\\x8fTA BALDE,AS Monaco (FRA),181,77\\r\\nSenegal,14,FW,KONATE Moussa,03.04.1993,KONATE,Amiens SC (FRA),180,78\\r\\nSenegal,1,GK,DIALLO Abdoulaye,30.03.1992,DIALLO,Stade Rennais FC (FRA),189,79\\r\\nSenegal,15,FW,SAKHO Diafra,24.12.1989,SAKHO,Stade Rennais FC (FRA),184,79\\r\\nSenegal,13,MF,NDIAYE Alfred,06.03.1990,A. NDIAYE,Wolverhampton Wanderers FC (ENG),186,80\\r\\nSenegal,16,GK,NDIAYE Khadim,05.04.1985,KH. NDIAYE,Horoya AC (GUI),185,80\\r\\nSenegal,23,GK,GOMIS Alfred,05.09.1993,GOMIS,SPAL Ferrara (ITA),196,80\\r\\nSenegal,9,FW,DIOUF Mame,16.12.1987,M. DIOUF,Stoke City FC (ENG),185,81\\r\\nSenegal,6,MF,SANE Salif,25.08.1990,S. SANE,Hannover 96 (GER),196,84\\r\\nSenegal,4,DF,MBODJI Kara,22.11.1989,KARA,RSC Anderlecht (BEL),192,85\\r\\nSenegal,3,DF,KOULIBALY Kalidou,20.06.1991,KOULIBALY,SSC Napoli (ITA),195,89\\r\\nSenegal,11,MF,NDOYE Cheikh,29.03.1986,CH. NDOYE,Birmingham City FC (ENG),192,90\\r\\nSerbia,7,MF,ZIVKOVIC Andrija,11.07.1996,\\xc5\\xbdIVKOVI\\xc4\\x86,SL Benfica (POR),169,68\\r\\nSerbia,14,DF,RODIC Milan,02.04.1991,RODI\\xc4\\x86,FK Crvena Zvezda (SRB),185,69\\r\\nSerbia,2,DF,RUKAVINA Antonio,26.01.1984,RUKAVINA,Villarreal CF (ESP),177,71\\r\\nSerbia,22,MF,LJAJIC Adem,29.09.1991,LJAJI\\xc4\\x86,Torino FC (ITA),182,74\\r\\nSerbia,19,FW,JOVIC Luka,23.12.1997,JOVI\\xc4\\x86,Eintracht Frankfurt (GER),181,75\\r\\nSerbia,10,MF,TADIC Dusan,20.11.1988,TADI\\xc4\\x86,Southampton FC (ENG),181,76\\r\\nSerbia,18,FW,RADONJIC Nemanja,15.02.1996,RADONJI\\xc4\\x86,FK Crvena Zvezda (SRB),185,76\\r\\nSerbia,20,MF,MILINKOVIC-SAVIC Sergej,27.02.1995,SERGEJ,SS Lazio (ITA),192,76\\r\\nSerbia,13,DF,VELJKOVIC Milos,26.09.1995,VELJKOVI\\xc4\\x86,SV Werder Bremen (GER),188,77\\r\\nSerbia,3,DF,TOSIC Dusko,19.01.1985,TO\\xc5\\xa0I\\xc4\\x86,Besiktas JK (TUR),185,79\\r\\nSerbia,4,MF,MILIVOJEVIC Luka,07.04.1991,MILIVOJEVI\\xc4\\x86,Crystal Palace FC (ENG),186,80\\r\\nSerbia,5,DF,SPAJIC Uros,13.02.1993,SPAJI\\xc4\\x86,RSC Anderlecht (BEL),188,82\\r\\nSerbia,9,FW,MITROVIC Aleksandar,16.09.1994,MITROVI\\xc4\\x86,Fulham FC (ENG),189,82\\r\\nSerbia,16,MF,GRUJIC Marko,13.04.1996,GRUJI\\xc4\\x86,Cardiff City FC (WAL),190,82\\r\\nSerbia,17,MF,KOSTIC Filip,01.11.1992,KOSTI\\xc4\\x86,Hamburger SV (GER),184,82\\r\\nSerbia,11,DF,KOLAROV Aleksandar,10.11.1985,KOLAROV,AS Roma (ITA),187,83\\r\\nSerbia,12,GK,RAJKOVIC Predrag,31.10.1995,RAJKOVI\\xc4\\x86,Maccabi Tel-Aviv FC (ISR),191,85\\r\\nSerbia,21,MF,MATIC Nemanja,01.08.1988,MATI\\xc4\\x86,Manchester United FC (ENG),194,86\\r\\nSerbia,8,FW,PRIJOVIC Aleksandar,21.04.1990,PRIJOVI\\xc4\\x86,PAOK FC (GRE),191,88\\r\\nSerbia,6,DF,IVANOVIC Branislav,22.02.1984,IVANOVI\\xc4\\x86,FC Zenit St. Petersburg (RUS),185,89\\r\\nSerbia,15,DF,MILENKOVIC Nikola,12.10.1997,MILENKOVI\\xc4\\x86,ACF Fiorentina (ITA),195,90\\r\\nSerbia,23,GK,DMITROVIC Marko,24.01.1992,DMITROVI\\xc4\\x86,SD Eibar (ESP),194,90\\r\\nSerbia,1,GK,STOJKOVIC Vladimir,28.07.1983,STOJKOVI\\xc4\\x86,FK Partizan (SRB),195,92\\r\\nSpain,12,DF,ODRIOZOLA Alvaro,14.12.1995,ODRIOZOLA,Real Sociedad (ESP),178,67\\r\\nSpain,17,FW,ASPAS Iago,01.08.1987,IAGO ASPAS,Celta Vigo (ESP),176,67\\r\\nSpain,21,FW,SILVA David,08.01.1986,SILVA,Manchester City FC (ENG),170,67\\r\\nSpain,6,MF,INIESTA Andres,11.05.1984,A. INIESTA,FC Barcelona (ESP),171,68\\r\\nSpain,18,DF,ALBA Jordi,21.03.1989,JORDI ALBA,FC Barcelona (ESP),170,68\\r\\nSpain,10,MF,THIAGO,11.04.1991,THIAGO,FC Bayern M\\xc3\\xbcnchen (GER),174,70\\r\\nSpain,11,FW,VAZQUEZ Lucas,01.07.1991,LUCAS V.,Real Madrid CF (ESP),173,70\\r\\nSpain,1,GK,DE GEA David,07.11.1990,DE GEA,Manchester United FC (ENG),190,71\\r\\nSpain,9,FW,RODRIGO,06.03.1991,RODRIGO M.,Valencia CF (ESP),182,72\\r\\nSpain,16,DF,MONREAL Nacho,26.02.1986,MONREAL,Arsenal FC (ENG),179,72\\r\\nSpain,2,DF,CARVAJAL Dani,11.01.1992,CARVAJAL,Real Madrid CF (ESP),173,73\\r\\nSpain,8,MF,KOKE,08.01.1992,KOKE,Atletico Madrid (ESP),176,73\\r\\nSpain,22,MF,ISCO,21.04.1992,ISCO,Real Madrid CF (ESP),176,74\\r\\nSpain,15,DF,RAMOS Sergio,30.03.1986,RAMOS,Real Madrid CF (ESP),183,75\\r\\nSpain,7,MF,SAUL,21.11.1994,SA\\xc3\\x9aL,Atletico Madrid (ESP),183,76\\r\\nSpain,20,MF,ASENSIO Marco,21.01.1996,ASENSIO,Real Madrid CF (ESP),182,76\\r\\nSpain,4,DF,NACHO,18.01.1990,NACHO,Real Madrid CF (ESP),179,77\\r\\nSpain,5,MF,BUSQUETS Sergio,16.07.1988,SERGIO,FC Barcelona (ESP),189,78\\r\\nSpain,14,DF,AZPILICUETA Cesar,28.08.1989,AZPILICUETA,Chelsea FC (ENG),178,78\\r\\nSpain,13,GK,ARRIZABALAGA Kepa,03.10.1994,ARRIZABALAGA,Athletic Bilbao (ESP),189,84\\r\\nSpain,3,DF,PIQUE Gerard,02.02.1987,PIQU\\xc3\\x89,FC Barcelona (ESP),194,85\\r\\nSpain,19,FW,COSTA Diego,07.10.1988,DIEGO COSTA,Atletico Madrid (ESP),185,86\\r\\nSpain,23,GK,REINA Pepe,31.08.1982,REINA,SSC Napoli (ITA),188,92\\r\\nSweden,21,MF,DURMAZ Jimmy,22.03.1989,DURMAZ,Toulouse FC (FRA),180,69\\r\\nSweden,7,MF,LARSSON Sebastian,06.06.1985,LARSSON,Hull City FC (ENG),178,70\\r\\nSweden,16,DF,KRAFTH Emil,02.08.1994,KRAFTH,Bologna FC (ITA),181,72\\r\\nSweden,15,MF,HILJEMARK Oscar,28.06.1992,HILJEMARK,Genoa CFC (ITA),184,73\\r\\nSweden,8,MF,EKDAL Albin,28.07.1989,EKDAL,Hamburger SV (GER),186,75\\r\\nSweden,6,DF,AUGUSTINSSON Ludwig,21.04.1994,AUGUSTINSSON,SV Werder Bremen (GER),181,76\\r\\nSweden,9,FW,BERG Marcus,17.08.1986,BERG,Al Ain FC (UAE),183,76\\r\\nSweden,19,MF,ROHDEN Marcus,11.05.1991,ROHD\\xc3\\x89N,FC Crotone (ITA),182,76\\r\\nSweden,2,DF,LUSTIG Mikael,13.12.1986,LUSTIG,Celtic FC (SCO),189,77\\r\\nSweden,13,MF,SVENSSON Gustav,07.02.1987,SVENSSON,Seattle Sounders FC (USA),183,77\\r\\nSweden,10,MF,FORSBERG Emil,23.10.1991,FORSBERG,RB Leipzig (GER),179,78\\r\\nSweden,20,FW,TOIVONEN Ola,03.07.1986,TOIVONEN,Toulouse FC (FRA),192,78\\r\\nSweden,11,FW,GUIDETTI John,15.04.1992,GUIDETTI,Deportivo Alav\\xc3\\xa9s (ESP),185,79\\r\\nSweden,17,MF,CLAESSON Viktor,02.01.1992,CLAESSON,FC Krasnodar (RUS),183,79\\r\\nSweden,3,DF,LINDELOF Victor,17.07.1994,LINDEL\\xc3\\x96F,Manchester United FC (ENG),187,81\\r\\nSweden,5,DF,OLSSON Martin,17.05.1988,OLSSON,Swansea City AFC (WAL),177,81\\r\\nSweden,12,GK,JOHNSSON Karl-Johan,28.01.1990,JOHNSSON,EA Guingamp (FRA),187,83\\r\\nSweden,14,DF,HELANDER Filip,22.04.1993,HELANDER,Bologna FC (ITA),192,83\\r\\nSweden,22,FW,THELIN Isaac Kiese,24.06.1992,KIESE THELIN,KV Waasland-Beveren (BEL),189,83\\r\\nSweden,4,DF,GRANQVIST Andreas,16.04.1985,GRANQVIST,FC Krasnodar (RUS),192,84\\r\\nSweden,23,GK,NORDFELDT Kristoffer,23.06.1989,NORDFELDT,Swansea City AFC (WAL),190,85\\r\\nSweden,1,GK,OLSEN Robin,08.01.1990,OLSEN,FC Kobenhavn (DEN),198,89\\r\\nSweden,18,DF,JANSSON Pontus,13.02.1991,JANSSON,Leeds United FC (ENG),194,89\\r\\nSwitzerland,16,MF,FERNANDES Gelson,02.09.1986,G. FERNANDES,Eintracht Frankfurt (GER),180,72\\r\\nSwitzerland,8,MF,FREULER Remo,15.04.1992,FREULER,Atalanta Bergamo (ITA),181,75\\r\\nSwitzerland,18,FW,GAVRANOVIC Mario,24.11.1989,GAVRANOVIC,GNK Dinamo Zagreb (CRO),175,75\\r\\nSwitzerland,3,DF,MOUBANDJE Francois,21.06.1990,MOUBANDJE,Toulouse FC (FRA),180,76\\r\\nSwitzerland,2,DF,LICHTSTEINER Stephan,16.01.1984,LICHTSTEINER,Juventus FC (ITA),181,77\\r\\nSwitzerland,4,DF,ELVEDI Nico,30.09.1996,ELVEDI,VfL Borussia M\\xc3\\xb6nchengladbach (GER),187,77\\r\\nSwitzerland,15,MF,DZEMAILI Blerim,12.04.1986,DZEMAILI,Bologna FC (ITA),180,77\\r\\nSwitzerland,17,MF,ZAKARIA Denis,20.11.1996,ZAKARIA,VfL Borussia M\\xc3\\xb6nchengladbach (GER),189,77\\r\\nSwitzerland,6,DF,LANG Michael,08.02.1991,LANG,FC Basel (SUI),185,78\\r\\nSwitzerland,11,MF,BEHRAMI Valon,19.04.1985,BEHRAMI,Udinese Calcio (ITA),184,78\\r\\nSwitzerland,19,FW,DRMIC Josip,08.08.1992,DRMIC,VfL Borussia M\\xc3\\xb6nchengladbach (GER),184,78\\r\\nSwitzerland,23,MF,SHAQIRI Xherdan,10.10.1991,SHAQIRI,Stoke City FC (ENG),165,78\\r\\nSwitzerland,13,DF,RODRIGUEZ Ricardo,25.08.1992,RODRIGUEZ,AC Milan (ITA),180,79\\r\\nSwitzerland,14,MF,ZUBER Steven,17.08.1991,ZUBER,TSG 1899 Hoffenheim (GER),182,79\\r\\nSwitzerland,1,GK,SOMMER Yann,17.12.1988,SOMMER,VfL Borussia M\\xc3\\xb6nchengladbach (GER),183,81\\r\\nSwitzerland,10,MF,XHAKA Granit,27.09.1992,XHAKA,Arsenal FC (ENG),183,82\\r\\nSwitzerland,21,GK,BUERKI Roman,14.11.1990,B\\xc3\\x9cRKI,Borussia Dortmund (GER),188,83\\r\\nSwitzerland,22,DF,SCHAER Fabian,20.12.1991,SCH\\xc3\\x84R,Deportivo La Coru\\xc3\\xb1a (ESP),186,83\\r\\nSwitzerland,12,GK,MVOGO Yvon,06.06.1994,MVOGO,RB Leipzig (GER),186,84\\r\\nSwitzerland,5,DF,AKANJI Manuel,19.07.1995,AKANJI,Borussia Dortmund (GER),186,85\\r\\nSwitzerland,7,FW,EMBOLO Breel,14.02.1997,EMBOLO,FC Schalke 04 (GER),184,86\\r\\nSwitzerland,9,FW,SEFEROVIC Haris,22.02.1992,SEFEROVIC,SL Benfica (POR),186,88\\r\\nSwitzerland,20,DF,DJOUROU Johan,18.01.1987,DJOUROU,Antalyaspor AS (TUR),192,90\\r\\nTunisia,23,FW,SLITI Naim,27.07.1992,SLITI,Dijon FCO (FRA),173,65\\r\\nTunisia,17,MF,SKHIRI Ellyes,10.05.1995,SKHIRI JORIS,Montpellier HSC (FRA),185,69\\r\\nTunisia,4,DF,MERIAH Yassine,02.07.1993,MERIAH,CS Sfaxien (TUN),183,70\\r\\nTunisia,9,MF,BADRI Anice,18.09.1990,BADRI,ES Tunis (TUN),178,70\\r\\nTunisia,20,FW,CHAALELI Ghaylen,28.02.1994,CHAALELI,ES Tunis (TUN),179,70\\r\\nTunisia,22,GK,HASSEN Mouez,05.03.1995,HASSEN,LB Chateauroux (FRA),186,70\\r\\nTunisia,18,FW,SRARFI Bassem,25.06.1997,SRARFI,OGC Nice (FRA),176,71\\r\\nTunisia,12,DF,MAALOUL Ali,01.01.1990,MAALOUL,Al Ahly SC (EGY),170,72\\r\\nTunisia,19,FW,KHALIFA Saber,14.10.1986,KHALIFA,Club Africain (TUN),185,72\\r\\nTunisia,3,DF,BEN ALOUANE Yohan,28.03.1987,BEN ALOUANE,Leicester City FC (ENG),185,75\\r\\nTunisia,11,DF,BRONN Dylan,19.06.1995,BRONN,KAA Gent (BEL),186,75\\r\\nTunisia,14,MF,BEN AMOR Mohamed,03.05.1992,BEN AMOR,Al Ahli SC (KSA),180,75\\r\\nTunisia,15,FW,KHALIL Ahmed,21.12.1994,KHALIL,Club Africain (TUN),187,75\\r\\nTunisia,21,DF,NAGUEZ Hamdi,28.10.1992,NAGUEZ,Zamalek (EGY),186,75\\r\\nTunisia,5,DF,HADDADI Oussama,28.01.1992,HADDADI,Dijon FCO (FRA),185,76\\r\\nTunisia,7,FW,KHAOUI Saifeddine,27.04.1995,KHAOUI,ES Troyes (FRA),180,76\\r\\nTunisia,10,FW,KHAZRI Wahbi,08.02.1991,KHAZRI,Stade Rennais FC (FRA),182,76\\r\\nTunisia,6,DF,BEDOUI Rami,19.01.1990,BEDOUI,\\xc3\\x89toile du Sahel (TUN),187,77\\r\\nTunisia,8,FW,BEN YOUSSEF Fakhreddine,23.06.1991,BEN YOUSSEF .F,Al Ittifaq FC (KSA),189,80\\r\\nTunisia,13,MF,SASSI Ferjani,18.03.1992,SASSI,Al Nassr FC (KSA),186,80\\r\\nTunisia,16,GK,MATHLOUTHI Aymen,14.09.1984,MATHLOUTHI .A,Al Batin FC (KSA),182,84\\r\\nTunisia,1,GK,BEN MUSTAPHA Farouk,01.07.1989,BEN MUSTAPHA,Al Shabab FC (KSA),192,85\\r\\nTunisia,2,DF,BEN YOUSSEF Syam,31.03.1989,BEN YOUSSEF .S,Kasimpasa SK (TUR),189,87\\r\\nUruguay,8,MF,NANDEZ Nahitan,28.12.1995,NANDEZ,CA Boca Juniors (ARG),171,61\\r\\nUruguay,14,MF,TORREIRA Lucas,11.02.1996,TORREIRA,UC Sampdoria (ITA),168,61\\r\\nUruguay,10,FW,DE ARRASCAETA Giorgian,01.06.1994,DE ARRASCAETA,Cruzeiro EC (BRA),172,64\\r\\nUruguay,17,MF,LAXALT Diego,07.02.1993,LAXALT,Genoa CFC (ITA),178,66\\r\\nUruguay,20,FW,URRETAVISCAYA Jonathan,19.03.1990,URRETAVISCAYA,CF Monterrey (MEX),172,66\\r\\nUruguay,4,DF,VARELA Guillermo,24.03.1993,VARELA,CA Penarol (URU),173,70\\r\\nUruguay,3,DF,GODIN Diego,16.02.1986,GODIN,Atletico Madrid (ESP),185,73\\r\\nUruguay,6,MF,BENTANCUR Rodrigo,25.06.1997,BENTANCUR,Juventus FC (ITA),187,73\\r\\nUruguay,16,DF,PEREIRA Maximiliano,08.06.1984,M. PEREIRA,FC Porto (POR),173,73\\r\\nUruguay,1,GK,MUSLERA Fernando,16.06.1986,MUSLERA,Galatasaray SK (TUR),190,74\\r\\nUruguay,5,MF,SANCHEZ Carlos,02.12.1984,SANCHEZ,CF Monterrey (MEX),171,74\\r\\nUruguay,13,DF,SILVA Gaston,05.03.1994,G. SILVA,CA Independiente (ARG),185,74\\r\\nUruguay,22,DF,CACERES Martin,07.04.1987,CACERES,SS Lazio (ITA),178,75\\r\\nUruguay,2,DF,GIMENEZ Jose,20.01.1995,J.M. GIMENEZ,Atletico Madrid (ESP),185,77\\r\\nUruguay,11,FW,STUANI Cristhian,12.10.1986,STUANI,Girona FC (ESP),186,78\\r\\nUruguay,21,FW,CAVANI Edinson,14.02.1987,CAVANI,Paris Saint-Germain FC (FRA),188,78\\r\\nUruguay,7,MF,RODRIGUEZ Cristian,30.09.1985,C. RODRIGUEZ,CA Penarol (URU),178,79\\r\\nUruguay,12,GK,CAMPANA Martin,29.05.1989,CAMPA\\xc3\\x91A,CA Independiente (ARG),184,79\\r\\nUruguay,15,MF,VECINO Matias,24.08.1991,VECINO,FC Internazionale (ITA),189,80\\r\\nUruguay,23,GK,SILVA Martin,25.03.1983,M. SILVA,CR Vasco da Gama (BRA),187,82\\r\\nUruguay,9,FW,SUAREZ Luis,24.01.1987,SUAREZ,FC Barcelona (ESP),182,85\\r\\nUruguay,18,FW,GOMEZ Maximiliano,14.08.1996,M. GOMEZ,Celta Vigo (ESP),186,85\\r\\nUruguay,19,DF,COATES Sebastian,07.10.1990,COATES,Sporting CP (POR),196,89\"}"
            ]
          },
          "metadata": {},
          "execution_count": 8
        }
      ]
    },
    {
      "cell_type": "code",
      "source": [
        "df = spark.read.csv('wc2018-players.csv', header = True, inferSchema=True)"
      ],
      "metadata": {
        "id": "gm_90llKL9dS"
      },
      "execution_count": null,
      "outputs": []
    },
    {
      "cell_type": "markdown",
      "source": [
        "Esse DF.show() é tipo o head do pandas tb"
      ],
      "metadata": {
        "id": "r32OoexkNCdV"
      }
    },
    {
      "cell_type": "code",
      "source": [],
      "metadata": {
        "id": "Ba7eb65yNBgu"
      },
      "execution_count": null,
      "outputs": []
    },
    {
      "cell_type": "code",
      "source": [
        "df.show()"
      ],
      "metadata": {
        "colab": {
          "base_uri": "https://localhost:8080/"
        },
        "id": "Lp8VadRXMR0j",
        "outputId": "4a22ec33-0d57-4350-d56e-b79ed7d202f8"
      },
      "execution_count": null,
      "outputs": [
        {
          "output_type": "stream",
          "name": "stdout",
          "text": [
            "+---------+---+----+------------------+----------+----------+--------------------+------+------+\n",
            "|     Team|  #|Pos.| FIFA Popular Name|Birth Date|Shirt Name|                Club|Height|Weight|\n",
            "+---------+---+----+------------------+----------+----------+--------------------+------+------+\n",
            "|Argentina|  3|  DF|TAGLIAFICO Nicolas|31.08.1992|TAGLIAFICO|      AFC Ajax (NED)|   169|    65|\n",
            "|Argentina| 22|  MF|    PAVON Cristian|21.01.1996|     PAVÓN|CA Boca Juniors (...|   169|    65|\n",
            "|Argentina| 15|  MF|    LANZINI Manuel|15.02.1993|   LANZINI|West Ham United F...|   167|    66|\n",
            "|Argentina| 18|  DF|    SALVIO Eduardo|13.07.1990|    SALVIO|    SL Benfica (POR)|   167|    69|\n",
            "|Argentina| 10|  FW|      MESSI Lionel|24.06.1987|     MESSI|  FC Barcelona (ESP)|   170|    72|\n",
            "|Argentina|  4|  DF|  ANSALDI Cristian|20.09.1986|   ANSALDI|     Torino FC (ITA)|   181|    73|\n",
            "|Argentina|  5|  MF|      BIGLIA Lucas|30.01.1986|    BIGLIA|      AC Milan (ITA)|   175|    73|\n",
            "|Argentina|  7|  MF|       BANEGA Ever|29.06.1988|    BANEGA|    Sevilla FC (ESP)|   175|    73|\n",
            "|Argentina| 14|  DF| MASCHERANO Javier|08.06.1984|MASCHERANO|Hebei China Fortu...|   174|    73|\n",
            "|Argentina| 21|  FW|      DYBALA Paulo|15.11.1993|    DYBALA|   Juventus FC (ITA)|   177|    73|\n",
            "|Argentina| 19|  FW|     AGUERO Sergio|02.06.1988|    AGÜERO|Manchester City F...|   172|    74|\n",
            "|Argentina|  9|  FW|   HIGUAIN Gonzalo|10.12.1987|   HIGUAÍN|   Juventus FC (ITA)|   184|    75|\n",
            "|Argentina| 11|  MF|    DI MARIA Angel|14.02.1988|  DI MARÍA|Paris Saint-Germa...|   178|    75|\n",
            "|Argentina| 20|  MF|  LO CELSO Giovani|09.04.1996|  LO CELSO|Paris Saint-Germa...|   177|    75|\n",
            "|Argentina| 13|  MF|  MEZA Maximiliano|15.12.1992|      MEZA|CA Independiente ...|   180|    76|\n",
            "|Argentina|  8|  DF|      ACUNA Marcos|28.10.1991|     ACUÑA|   Sporting CP (POR)|   172|    77|\n",
            "|Argentina| 23|  GK|CABALLERO Wilfredo|28.09.1981| CABALLERO|    Chelsea FC (ENG)|   186|    80|\n",
            "|Argentina|  2|  DF|   MERCADO Gabriel|18.03.1987|   MERCADO|    Sevilla FC (ESP)|   181|    81|\n",
            "|Argentina| 17|  DF|  OTAMENDI Nicolas|12.02.1988|  OTAMENDI|Manchester City F...|   181|    81|\n",
            "|Argentina| 16|  DF|       ROJO Marcos|20.03.1990|      ROJO|Manchester United...|   189|    82|\n",
            "+---------+---+----+------------------+----------+----------+--------------------+------+------+\n",
            "only showing top 20 rows\n",
            "\n"
          ]
        }
      ]
    },
    {
      "cell_type": "markdown",
      "source": [
        "Esse df.printSchema É bem parecido com o DF.Info do pandas !\n",
        "\n"
      ],
      "metadata": {
        "id": "lmnmb9srM07I"
      }
    },
    {
      "cell_type": "code",
      "source": [
        "df.printSchema()"
      ],
      "metadata": {
        "colab": {
          "base_uri": "https://localhost:8080/"
        },
        "id": "m8alcGRKMQmW",
        "outputId": "65ea3c29-9afd-4390-f612-ef4a8ca7eee6"
      },
      "execution_count": null,
      "outputs": [
        {
          "output_type": "stream",
          "name": "stdout",
          "text": [
            "root\n",
            " |-- Team: string (nullable = true)\n",
            " |-- #: integer (nullable = true)\n",
            " |-- Pos.: string (nullable = true)\n",
            " |-- FIFA Popular Name: string (nullable = true)\n",
            " |-- Birth Date: string (nullable = true)\n",
            " |-- Shirt Name: string (nullable = true)\n",
            " |-- Club: string (nullable = true)\n",
            " |-- Height: integer (nullable = true)\n",
            " |-- Weight: integer (nullable = true)\n",
            "\n"
          ]
        }
      ]
    },
    {
      "cell_type": "markdown",
      "source": [
        "Verificando dados nulos - transforma pra pandas ( se o dataset for pequeno ) e conta os nulos"
      ],
      "metadata": {
        "id": "4QKmVVkkNM5y"
      }
    },
    {
      "cell_type": "code",
      "source": [
        "df.toPandas().isnull().sum()"
      ],
      "metadata": {
        "colab": {
          "base_uri": "https://localhost:8080/",
          "height": 366
        },
        "id": "i5mBPpwQMX_h",
        "outputId": "20254f45-6455-4eb2-b7d7-4ca7d3851269"
      },
      "execution_count": null,
      "outputs": [
        {
          "output_type": "execute_result",
          "data": {
            "text/plain": [
              "Team                 0\n",
              "#                    0\n",
              "Pos.                 0\n",
              "FIFA Popular Name    0\n",
              "Birth Date           0\n",
              "Shirt Name           0\n",
              "Club                 0\n",
              "Height               0\n",
              "Weight               0\n",
              "dtype: int64"
            ],
            "text/html": [
              "<div>\n",
              "<style scoped>\n",
              "    .dataframe tbody tr th:only-of-type {\n",
              "        vertical-align: middle;\n",
              "    }\n",
              "\n",
              "    .dataframe tbody tr th {\n",
              "        vertical-align: top;\n",
              "    }\n",
              "\n",
              "    .dataframe thead th {\n",
              "        text-align: right;\n",
              "    }\n",
              "</style>\n",
              "<table border=\"1\" class=\"dataframe\">\n",
              "  <thead>\n",
              "    <tr style=\"text-align: right;\">\n",
              "      <th></th>\n",
              "      <th>0</th>\n",
              "    </tr>\n",
              "  </thead>\n",
              "  <tbody>\n",
              "    <tr>\n",
              "      <th>Team</th>\n",
              "      <td>0</td>\n",
              "    </tr>\n",
              "    <tr>\n",
              "      <th>#</th>\n",
              "      <td>0</td>\n",
              "    </tr>\n",
              "    <tr>\n",
              "      <th>Pos.</th>\n",
              "      <td>0</td>\n",
              "    </tr>\n",
              "    <tr>\n",
              "      <th>FIFA Popular Name</th>\n",
              "      <td>0</td>\n",
              "    </tr>\n",
              "    <tr>\n",
              "      <th>Birth Date</th>\n",
              "      <td>0</td>\n",
              "    </tr>\n",
              "    <tr>\n",
              "      <th>Shirt Name</th>\n",
              "      <td>0</td>\n",
              "    </tr>\n",
              "    <tr>\n",
              "      <th>Club</th>\n",
              "      <td>0</td>\n",
              "    </tr>\n",
              "    <tr>\n",
              "      <th>Height</th>\n",
              "      <td>0</td>\n",
              "    </tr>\n",
              "    <tr>\n",
              "      <th>Weight</th>\n",
              "      <td>0</td>\n",
              "    </tr>\n",
              "  </tbody>\n",
              "</table>\n",
              "</div><br><label><b>dtype:</b> int64</label>"
            ]
          },
          "metadata": {},
          "execution_count": 12
        }
      ]
    },
    {
      "cell_type": "markdown",
      "source": [
        "Se o DF for mt grande, aí tem que usar um FOr para cada coluna e contar tudo o que for nulo"
      ],
      "metadata": {
        "id": "IzSWPVrPNaVE"
      }
    },
    {
      "cell_type": "code",
      "source": [
        "for coluna in df.columns:\n",
        "  print(coluna, df.filter(df[coluna].isNull()).count())"
      ],
      "metadata": {
        "colab": {
          "base_uri": "https://localhost:8080/",
          "height": 339
        },
        "id": "q67Qf5zPNU9v",
        "outputId": "21d82591-ee31-4bc9-bd80-f2d4482b1561"
      },
      "execution_count": null,
      "outputs": [
        {
          "output_type": "stream",
          "name": "stdout",
          "text": [
            "Team 0\n",
            "# 0\n"
          ]
        },
        {
          "output_type": "error",
          "ename": "AnalysisException",
          "evalue": "Syntax error in attribute name: Pos..",
          "traceback": [
            "\u001b[0;31m---------------------------------------------------------------------------\u001b[0m",
            "\u001b[0;31mAnalysisException\u001b[0m                         Traceback (most recent call last)",
            "\u001b[0;32m<ipython-input-13-cc511427157b>\u001b[0m in \u001b[0;36m<cell line: 1>\u001b[0;34m()\u001b[0m\n\u001b[1;32m      1\u001b[0m \u001b[0;32mfor\u001b[0m \u001b[0mcoluna\u001b[0m \u001b[0;32min\u001b[0m \u001b[0mdf\u001b[0m\u001b[0;34m.\u001b[0m\u001b[0mcolumns\u001b[0m\u001b[0;34m:\u001b[0m\u001b[0;34m\u001b[0m\u001b[0;34m\u001b[0m\u001b[0m\n\u001b[0;32m----> 2\u001b[0;31m   \u001b[0mprint\u001b[0m\u001b[0;34m(\u001b[0m\u001b[0mcoluna\u001b[0m\u001b[0;34m,\u001b[0m \u001b[0mdf\u001b[0m\u001b[0;34m.\u001b[0m\u001b[0mfilter\u001b[0m\u001b[0;34m(\u001b[0m\u001b[0mdf\u001b[0m\u001b[0;34m[\u001b[0m\u001b[0mcoluna\u001b[0m\u001b[0;34m]\u001b[0m\u001b[0;34m.\u001b[0m\u001b[0misNull\u001b[0m\u001b[0;34m(\u001b[0m\u001b[0;34m)\u001b[0m\u001b[0;34m)\u001b[0m\u001b[0;34m.\u001b[0m\u001b[0mcount\u001b[0m\u001b[0;34m(\u001b[0m\u001b[0;34m)\u001b[0m\u001b[0;34m)\u001b[0m\u001b[0;34m\u001b[0m\u001b[0;34m\u001b[0m\u001b[0m\n\u001b[0m",
            "\u001b[0;32m/usr/local/lib/python3.10/dist-packages/pyspark/sql/dataframe.py\u001b[0m in \u001b[0;36m__getitem__\u001b[0;34m(self, item)\u001b[0m\n\u001b[1;32m   3078\u001b[0m         \"\"\"\n\u001b[1;32m   3079\u001b[0m         \u001b[0;32mif\u001b[0m \u001b[0misinstance\u001b[0m\u001b[0;34m(\u001b[0m\u001b[0mitem\u001b[0m\u001b[0;34m,\u001b[0m \u001b[0mstr\u001b[0m\u001b[0;34m)\u001b[0m\u001b[0;34m:\u001b[0m\u001b[0;34m\u001b[0m\u001b[0;34m\u001b[0m\u001b[0m\n\u001b[0;32m-> 3080\u001b[0;31m             \u001b[0mjc\u001b[0m \u001b[0;34m=\u001b[0m \u001b[0mself\u001b[0m\u001b[0;34m.\u001b[0m\u001b[0m_jdf\u001b[0m\u001b[0;34m.\u001b[0m\u001b[0mapply\u001b[0m\u001b[0;34m(\u001b[0m\u001b[0mitem\u001b[0m\u001b[0;34m)\u001b[0m\u001b[0;34m\u001b[0m\u001b[0;34m\u001b[0m\u001b[0m\n\u001b[0m\u001b[1;32m   3081\u001b[0m             \u001b[0;32mreturn\u001b[0m \u001b[0mColumn\u001b[0m\u001b[0;34m(\u001b[0m\u001b[0mjc\u001b[0m\u001b[0;34m)\u001b[0m\u001b[0;34m\u001b[0m\u001b[0;34m\u001b[0m\u001b[0m\n\u001b[1;32m   3082\u001b[0m         \u001b[0;32melif\u001b[0m \u001b[0misinstance\u001b[0m\u001b[0;34m(\u001b[0m\u001b[0mitem\u001b[0m\u001b[0;34m,\u001b[0m \u001b[0mColumn\u001b[0m\u001b[0;34m)\u001b[0m\u001b[0;34m:\u001b[0m\u001b[0;34m\u001b[0m\u001b[0;34m\u001b[0m\u001b[0m\n",
            "\u001b[0;32m/usr/local/lib/python3.10/dist-packages/py4j/java_gateway.py\u001b[0m in \u001b[0;36m__call__\u001b[0;34m(self, *args)\u001b[0m\n\u001b[1;32m   1320\u001b[0m \u001b[0;34m\u001b[0m\u001b[0m\n\u001b[1;32m   1321\u001b[0m         \u001b[0manswer\u001b[0m \u001b[0;34m=\u001b[0m \u001b[0mself\u001b[0m\u001b[0;34m.\u001b[0m\u001b[0mgateway_client\u001b[0m\u001b[0;34m.\u001b[0m\u001b[0msend_command\u001b[0m\u001b[0;34m(\u001b[0m\u001b[0mcommand\u001b[0m\u001b[0;34m)\u001b[0m\u001b[0;34m\u001b[0m\u001b[0;34m\u001b[0m\u001b[0m\n\u001b[0;32m-> 1322\u001b[0;31m         return_value = get_return_value(\n\u001b[0m\u001b[1;32m   1323\u001b[0m             answer, self.gateway_client, self.target_id, self.name)\n\u001b[1;32m   1324\u001b[0m \u001b[0;34m\u001b[0m\u001b[0m\n",
            "\u001b[0;32m/usr/local/lib/python3.10/dist-packages/pyspark/errors/exceptions/captured.py\u001b[0m in \u001b[0;36mdeco\u001b[0;34m(*a, **kw)\u001b[0m\n\u001b[1;32m    183\u001b[0m                 \u001b[0;31m# Hide where the exception came from that shows a non-Pythonic\u001b[0m\u001b[0;34m\u001b[0m\u001b[0;34m\u001b[0m\u001b[0m\n\u001b[1;32m    184\u001b[0m                 \u001b[0;31m# JVM exception message.\u001b[0m\u001b[0;34m\u001b[0m\u001b[0;34m\u001b[0m\u001b[0m\n\u001b[0;32m--> 185\u001b[0;31m                 \u001b[0;32mraise\u001b[0m \u001b[0mconverted\u001b[0m \u001b[0;32mfrom\u001b[0m \u001b[0;32mNone\u001b[0m\u001b[0;34m\u001b[0m\u001b[0;34m\u001b[0m\u001b[0m\n\u001b[0m\u001b[1;32m    186\u001b[0m             \u001b[0;32melse\u001b[0m\u001b[0;34m:\u001b[0m\u001b[0;34m\u001b[0m\u001b[0;34m\u001b[0m\u001b[0m\n\u001b[1;32m    187\u001b[0m                 \u001b[0;32mraise\u001b[0m\u001b[0;34m\u001b[0m\u001b[0;34m\u001b[0m\u001b[0m\n",
            "\u001b[0;31mAnalysisException\u001b[0m: Syntax error in attribute name: Pos.."
          ]
        }
      ]
    },
    {
      "cell_type": "markdown",
      "source": [
        "Renomear a coluna \"Pos.\" pq ela tem um ponto. O for não roda direito onde tem o \".\""
      ],
      "metadata": {
        "id": "LKYheH0zN9qK"
      }
    },
    {
      "cell_type": "code",
      "source": [
        "df = df.withColumnRenamed('Pos.','Position')"
      ],
      "metadata": {
        "id": "0-8jBd_xNp1t"
      },
      "execution_count": null,
      "outputs": []
    },
    {
      "cell_type": "code",
      "source": [
        "df.show(5)"
      ],
      "metadata": {
        "colab": {
          "base_uri": "https://localhost:8080/"
        },
        "id": "HumOWkkrOI9j",
        "outputId": "66a6ff00-ac1f-4e9c-d023-4729788db192"
      },
      "execution_count": 15,
      "outputs": [
        {
          "output_type": "stream",
          "name": "stdout",
          "text": [
            "+---------+---+--------+------------------+----------+----------+--------------------+------+------+\n",
            "|     Team|  #|Position| FIFA Popular Name|Birth Date|Shirt Name|                Club|Height|Weight|\n",
            "+---------+---+--------+------------------+----------+----------+--------------------+------+------+\n",
            "|Argentina|  3|      DF|TAGLIAFICO Nicolas|31.08.1992|TAGLIAFICO|      AFC Ajax (NED)|   169|    65|\n",
            "|Argentina| 22|      MF|    PAVON Cristian|21.01.1996|     PAVÓN|CA Boca Juniors (...|   169|    65|\n",
            "|Argentina| 15|      MF|    LANZINI Manuel|15.02.1993|   LANZINI|West Ham United F...|   167|    66|\n",
            "|Argentina| 18|      DF|    SALVIO Eduardo|13.07.1990|    SALVIO|    SL Benfica (POR)|   167|    69|\n",
            "|Argentina| 10|      FW|      MESSI Lionel|24.06.1987|     MESSI|  FC Barcelona (ESP)|   170|    72|\n",
            "+---------+---+--------+------------------+----------+----------+--------------------+------+------+\n",
            "only showing top 5 rows\n",
            "\n"
          ]
        }
      ]
    },
    {
      "cell_type": "code",
      "source": [
        "df.count()\n",
        "#não entendi o que está contando aqui"
      ],
      "metadata": {
        "colab": {
          "base_uri": "https://localhost:8080/"
        },
        "id": "7QXu7wcZOX9T",
        "outputId": "5865966e-df49-49a9-cd01-3860cf3101d2"
      },
      "execution_count": 16,
      "outputs": [
        {
          "output_type": "execute_result",
          "data": {
            "text/plain": [
              "736"
            ]
          },
          "metadata": {},
          "execution_count": 16
        }
      ]
    },
    {
      "cell_type": "markdown",
      "source": [
        "Selecionar colunas\n"
      ],
      "metadata": {
        "id": "xzDhg7QrPDrL"
      }
    },
    {
      "cell_type": "code",
      "source": [
        "df.select('Team').show(5)"
      ],
      "metadata": {
        "colab": {
          "base_uri": "https://localhost:8080/"
        },
        "id": "T07GHi1wO0N-",
        "outputId": "28b0237f-9ada-4e2b-8ab5-9e98f0948ddb"
      },
      "execution_count": 17,
      "outputs": [
        {
          "output_type": "stream",
          "name": "stdout",
          "text": [
            "+---------+\n",
            "|     Team|\n",
            "+---------+\n",
            "|Argentina|\n",
            "|Argentina|\n",
            "|Argentina|\n",
            "|Argentina|\n",
            "|Argentina|\n",
            "+---------+\n",
            "only showing top 5 rows\n",
            "\n"
          ]
        }
      ]
    },
    {
      "cell_type": "code",
      "source": [
        "df.select('Team').count()\n",
        "#Ok. Agora eu entendi o count lá de cima."
      ],
      "metadata": {
        "colab": {
          "base_uri": "https://localhost:8080/"
        },
        "id": "LL3gL4LtO6dJ",
        "outputId": "8b9157ca-6f8d-4600-c1ea-fcaa27d4ddb3"
      },
      "execution_count": 18,
      "outputs": [
        {
          "output_type": "execute_result",
          "data": {
            "text/plain": [
              "736"
            ]
          },
          "metadata": {},
          "execution_count": 18
        }
      ]
    },
    {
      "cell_type": "code",
      "source": [
        "df.select('Team','Position').show(5)"
      ],
      "metadata": {
        "colab": {
          "base_uri": "https://localhost:8080/"
        },
        "id": "YVDtcL3fPRrn",
        "outputId": "3bb6fa61-e718-4108-dd35-af8dd4114364"
      },
      "execution_count": 19,
      "outputs": [
        {
          "output_type": "stream",
          "name": "stdout",
          "text": [
            "+---------+--------+\n",
            "|     Team|Position|\n",
            "+---------+--------+\n",
            "|Argentina|      DF|\n",
            "|Argentina|      MF|\n",
            "|Argentina|      MF|\n",
            "|Argentina|      DF|\n",
            "|Argentina|      FW|\n",
            "+---------+--------+\n",
            "only showing top 5 rows\n",
            "\n"
          ]
        }
      ]
    },
    {
      "cell_type": "code",
      "source": [
        "df.select(col('Team')).show(5)"
      ],
      "metadata": {
        "colab": {
          "base_uri": "https://localhost:8080/"
        },
        "id": "9-YIuDIUPbCB",
        "outputId": "6dcc0e00-20ce-4682-f2bd-84164c86f5da"
      },
      "execution_count": 20,
      "outputs": [
        {
          "output_type": "stream",
          "name": "stdout",
          "text": [
            "+---------+\n",
            "|     Team|\n",
            "+---------+\n",
            "|Argentina|\n",
            "|Argentina|\n",
            "|Argentina|\n",
            "|Argentina|\n",
            "|Argentina|\n",
            "+---------+\n",
            "only showing top 5 rows\n",
            "\n"
          ]
        }
      ]
    },
    {
      "cell_type": "code",
      "source": [
        "from pyspark.sql.functions import * # import the col function from the pyspark.sql.functions module\n",
        "\n",
        "df.select(col('Team')).show(5)\n",
        "#Tenho que adicionar isso aqui lá em cima!\n",
        "\n"
      ],
      "metadata": {
        "colab": {
          "base_uri": "https://localhost:8080/"
        },
        "id": "YpaaL9RqQNdz",
        "outputId": "5669e9cc-18cd-4ff9-92f3-653215dae613"
      },
      "execution_count": 21,
      "outputs": [
        {
          "output_type": "stream",
          "name": "stdout",
          "text": [
            "+---------+\n",
            "|     Team|\n",
            "+---------+\n",
            "|Argentina|\n",
            "|Argentina|\n",
            "|Argentina|\n",
            "|Argentina|\n",
            "|Argentina|\n",
            "+---------+\n",
            "only showing top 5 rows\n",
            "\n"
          ]
        }
      ]
    },
    {
      "cell_type": "markdown",
      "source": [
        "Selecionar colunas com o ALIAS  - Lhegal !\n"
      ],
      "metadata": {
        "id": "t8ddFGUjRKuT"
      }
    },
    {
      "cell_type": "code",
      "source": [
        "df.select(col('team').alias('time')).show(5)"
      ],
      "metadata": {
        "colab": {
          "base_uri": "https://localhost:8080/"
        },
        "id": "z92GOZGWQxgO",
        "outputId": "76b11c96-da66-4037-d026-26353b594594"
      },
      "execution_count": 22,
      "outputs": [
        {
          "output_type": "stream",
          "name": "stdout",
          "text": [
            "+---------+\n",
            "|     time|\n",
            "+---------+\n",
            "|Argentina|\n",
            "|Argentina|\n",
            "|Argentina|\n",
            "|Argentina|\n",
            "|Argentina|\n",
            "+---------+\n",
            "only showing top 5 rows\n",
            "\n"
          ]
        }
      ]
    },
    {
      "cell_type": "code",
      "source": [
        "df.show(5)"
      ],
      "metadata": {
        "colab": {
          "base_uri": "https://localhost:8080/"
        },
        "id": "hf_LNNA6RWub",
        "outputId": "3f81197b-de17-453d-ee2d-2f59a1670270"
      },
      "execution_count": 23,
      "outputs": [
        {
          "output_type": "stream",
          "name": "stdout",
          "text": [
            "+---------+---+--------+------------------+----------+----------+--------------------+------+------+\n",
            "|     Team|  #|Position| FIFA Popular Name|Birth Date|Shirt Name|                Club|Height|Weight|\n",
            "+---------+---+--------+------------------+----------+----------+--------------------+------+------+\n",
            "|Argentina|  3|      DF|TAGLIAFICO Nicolas|31.08.1992|TAGLIAFICO|      AFC Ajax (NED)|   169|    65|\n",
            "|Argentina| 22|      MF|    PAVON Cristian|21.01.1996|     PAVÓN|CA Boca Juniors (...|   169|    65|\n",
            "|Argentina| 15|      MF|    LANZINI Manuel|15.02.1993|   LANZINI|West Ham United F...|   167|    66|\n",
            "|Argentina| 18|      DF|    SALVIO Eduardo|13.07.1990|    SALVIO|    SL Benfica (POR)|   167|    69|\n",
            "|Argentina| 10|      FW|      MESSI Lionel|24.06.1987|     MESSI|  FC Barcelona (ESP)|   170|    72|\n",
            "+---------+---+--------+------------------+----------+----------+--------------------+------+------+\n",
            "only showing top 5 rows\n",
            "\n"
          ]
        }
      ]
    },
    {
      "cell_type": "markdown",
      "source": [
        "Organizar tipo faz no SQL"
      ],
      "metadata": {
        "id": "zT-6Jx8sRoVy"
      }
    },
    {
      "cell_type": "code",
      "source": [
        "df.select('Shirt Name','Team','Position').show(5)"
      ],
      "metadata": {
        "colab": {
          "base_uri": "https://localhost:8080/"
        },
        "id": "oySm05wiRYhF",
        "outputId": "bb24a2dd-4ec6-4342-fba7-f771e020c98b"
      },
      "execution_count": 24,
      "outputs": [
        {
          "output_type": "stream",
          "name": "stdout",
          "text": [
            "+----------+---------+--------+\n",
            "|Shirt Name|     Team|Position|\n",
            "+----------+---------+--------+\n",
            "|TAGLIAFICO|Argentina|      DF|\n",
            "|     PAVÓN|Argentina|      MF|\n",
            "|   LANZINI|Argentina|      MF|\n",
            "|    SALVIO|Argentina|      DF|\n",
            "|     MESSI|Argentina|      FW|\n",
            "+----------+---------+--------+\n",
            "only showing top 5 rows\n",
            "\n"
          ]
        }
      ]
    },
    {
      "cell_type": "markdown",
      "source": [
        "Filtrar DF"
      ],
      "metadata": {
        "id": "4TdDh7DjR-Yz"
      }
    },
    {
      "cell_type": "code",
      "source": [
        "df.filter('Team = \"Brazil\"').show(23)\n",
        "#seleção ridícula, bicho"
      ],
      "metadata": {
        "colab": {
          "base_uri": "https://localhost:8080/"
        },
        "id": "Wpa4XohgRvTo",
        "outputId": "1962e94b-0c60-4cec-87f9-d69aa0adae8f"
      },
      "execution_count": 25,
      "outputs": [
        {
          "output_type": "stream",
          "name": "stdout",
          "text": [
            "+------+---+--------+-----------------+----------+-----------+--------------------+------+------+\n",
            "|  Team|  #|Position|FIFA Popular Name|Birth Date| Shirt Name|                Club|Height|Weight|\n",
            "+------+---+--------+-----------------+----------+-----------+--------------------+------+------+\n",
            "|Brazil| 18|      MF|             FRED|05.03.1993|       FRED|FC Shakhtar Donet...|   169|    64|\n",
            "|Brazil| 21|      FW|           TAISON|13.01.1988|     TAISON|FC Shakhtar Donet...|   172|    64|\n",
            "|Brazil| 17|      MF|      FERNANDINHO|04.05.1985|FERNANDINHO|Manchester City F...|   179|    67|\n",
            "|Brazil| 22|      DF|           FAGNER|11.06.1989|     FAGNER|SC Corinthians (BRA)|   168|    67|\n",
            "|Brazil| 10|      FW|           NEYMAR|05.02.1992|  NEYMAR JR|Paris Saint-Germa...|   175|    68|\n",
            "|Brazil| 11|      MF|PHILIPPE COUTINHO|12.06.1992|P. COUTINHO|  FC Barcelona (ESP)|   172|    68|\n",
            "|Brazil|  7|      FW|    DOUGLAS COSTA|14.09.1990|   D. COSTA|   Juventus FC (ITA)|   182|    70|\n",
            "|Brazil|  6|      DF|      FILIPE LUIS|09.08.1985|FILIPE LUIS|Atletico Madrid (...|   182|    73|\n",
            "|Brazil|  9|      FW|    GABRIEL JESUS|03.04.1997|   G. JESUS|Manchester City F...|   175|    73|\n",
            "|Brazil| 13|      DF|       MARQUINHOS|14.05.1994| MARQUINHOS|Paris Saint-Germa...|   183|    75|\n",
            "|Brazil| 20|      FW|  ROBERTO FIRMINO|02.10.1991|    FIRMINO|  Liverpool FC (ENG)|   181|    76|\n",
            "|Brazil| 19|      MF|          WILLIAN|09.08.1988|    WILLIAN|    Chelsea FC (ENG)|   175|    77|\n",
            "|Brazil|  3|      DF|          MIRANDA|07.09.1984|    MIRANDA|FC Internazionale...|   186|    78|\n",
            "|Brazil| 14|      DF|           DANILO|15.07.1991|     DANILO|Manchester City F...|   184|    78|\n",
            "|Brazil|  2|      DF|     THIAGO SILVA|22.09.1984|   T. SILVA|Paris Saint-Germa...|   183|    79|\n",
            "|Brazil| 12|      DF|          MARCELO|12.05.1988|    MARCELO|Real Madrid CF (ESP)|   174|    80|\n",
            "|Brazil| 15|      MF|         PAULINHO|25.07.1988|   PAULINHO|  FC Barcelona (ESP)|   181|    81|\n",
            "|Brazil|  4|      DF|    PEDRO GEROMEL|21.09.1985|    GEROMEL|   Grêmio FBPA (BRA)|   190|    84|\n",
            "|Brazil|  5|      MF|         CASEMIRO|23.02.1992|   CASEMIRO|Real Madrid CF (ESP)|   185|    84|\n",
            "|Brazil|  8|      MF|   RENATO AUGUSTO|08.02.1988| R. AUGUSTO| Beijing Guoan (CHN)|   186|    86|\n",
            "|Brazil| 23|      GK|          EDERSON|17.08.1993|    EDERSON|Manchester City F...|   188|    86|\n",
            "|Brazil|  1|      GK|          ALISSON|02.10.1992|  A. BECKER|       AS Roma (ITA)|   193|    91|\n",
            "|Brazil| 16|      GK|           CASSIO|06.06.1987|     CASSIO|SC Corinthians (BRA)|   195|    92|\n",
            "+------+---+--------+-----------------+----------+-----------+--------------------+------+------+\n",
            "\n"
          ]
        }
      ]
    },
    {
      "cell_type": "code",
      "source": [
        "df.filter('Team = \"Brazil\"').count()"
      ],
      "metadata": {
        "colab": {
          "base_uri": "https://localhost:8080/"
        },
        "id": "gwLrAIFYSDlW",
        "outputId": "6cb5c16a-06af-4712-da68-8f87933083e8"
      },
      "execution_count": 26,
      "outputs": [
        {
          "output_type": "execute_result",
          "data": {
            "text/plain": [
              "23"
            ]
          },
          "metadata": {},
          "execution_count": 26
        }
      ]
    },
    {
      "cell_type": "code",
      "source": [
        "df.filter(col(\"Shirt Name\") == \"FRED\").show()"
      ],
      "metadata": {
        "id": "8J6DoG00SY7G",
        "colab": {
          "base_uri": "https://localhost:8080/"
        },
        "outputId": "059986fe-af45-4aa4-8b27-0faa40710e44"
      },
      "execution_count": 27,
      "outputs": [
        {
          "output_type": "stream",
          "name": "stdout",
          "text": [
            "+------+---+--------+-----------------+----------+----------+--------------------+------+------+\n",
            "|  Team|  #|Position|FIFA Popular Name|Birth Date|Shirt Name|                Club|Height|Weight|\n",
            "+------+---+--------+-----------------+----------+----------+--------------------+------+------+\n",
            "|Brazil| 18|      MF|             FRED|05.03.1993|      FRED|FC Shakhtar Donet...|   169|    64|\n",
            "+------+---+--------+-----------------+----------+----------+--------------------+------+------+\n",
            "\n"
          ]
        }
      ]
    },
    {
      "cell_type": "markdown",
      "source": [
        "Filtrar o DF com duas condições ( And / &)"
      ],
      "metadata": {
        "id": "Wtf508qXq6f4"
      }
    },
    {
      "cell_type": "code",
      "source": [
        "df.filter((col(\"Team\") == \"Brazil\") & (col(\"Position\") == \"DF\")).show()"
      ],
      "metadata": {
        "colab": {
          "base_uri": "https://localhost:8080/"
        },
        "id": "HQ4Wjx2doPtb",
        "outputId": "7d6a98e9-760b-4230-ef76-b92186979d60"
      },
      "execution_count": 28,
      "outputs": [
        {
          "output_type": "stream",
          "name": "stdout",
          "text": [
            "+------+---+--------+-----------------+----------+-----------+--------------------+------+------+\n",
            "|  Team|  #|Position|FIFA Popular Name|Birth Date| Shirt Name|                Club|Height|Weight|\n",
            "+------+---+--------+-----------------+----------+-----------+--------------------+------+------+\n",
            "|Brazil| 22|      DF|           FAGNER|11.06.1989|     FAGNER|SC Corinthians (BRA)|   168|    67|\n",
            "|Brazil|  6|      DF|      FILIPE LUIS|09.08.1985|FILIPE LUIS|Atletico Madrid (...|   182|    73|\n",
            "|Brazil| 13|      DF|       MARQUINHOS|14.05.1994| MARQUINHOS|Paris Saint-Germa...|   183|    75|\n",
            "|Brazil|  3|      DF|          MIRANDA|07.09.1984|    MIRANDA|FC Internazionale...|   186|    78|\n",
            "|Brazil| 14|      DF|           DANILO|15.07.1991|     DANILO|Manchester City F...|   184|    78|\n",
            "|Brazil|  2|      DF|     THIAGO SILVA|22.09.1984|   T. SILVA|Paris Saint-Germa...|   183|    79|\n",
            "|Brazil| 12|      DF|          MARCELO|12.05.1988|    MARCELO|Real Madrid CF (ESP)|   174|    80|\n",
            "|Brazil|  4|      DF|    PEDRO GEROMEL|21.09.1985|    GEROMEL|   Grêmio FBPA (BRA)|   190|    84|\n",
            "+------+---+--------+-----------------+----------+-----------+--------------------+------+------+\n",
            "\n"
          ]
        }
      ]
    },
    {
      "cell_type": "markdown",
      "source": [
        "Agora, vamos selecionar por OR/|"
      ],
      "metadata": {
        "id": "O1zKTvTDrogN"
      }
    },
    {
      "cell_type": "markdown",
      "source": [
        "\\"
      ],
      "metadata": {
        "id": "rFAeQosMsABc"
      }
    },
    {
      "cell_type": "code",
      "source": [
        "df.filter((col('Height') >= 190) | (col('Weight') >= 90)).show()"
      ],
      "metadata": {
        "colab": {
          "base_uri": "https://localhost:8080/"
        },
        "id": "TgTPVpvcrIZG",
        "outputId": "54863118-76e8-4d9b-bfbc-9719b2d1323f"
      },
      "execution_count": 29,
      "outputs": [
        {
          "output_type": "stream",
          "name": "stdout",
          "text": [
            "+----------+---+--------+-----------------+----------+----------+--------------------+------+------+\n",
            "|      Team|  #|Position|FIFA Popular Name|Birth Date|Shirt Name|                Club|Height|Weight|\n",
            "+----------+---+--------+-----------------+----------+----------+--------------------+------+------+\n",
            "| Argentina|  6|      DF|   FAZIO Federico|17.03.1987|     FAZIO|       AS Roma (ITA)|   199|    85|\n",
            "| Argentina|  1|      GK|    GUZMAN Nahuel|10.02.1986|    GUZMÁN|   Tigres UANL (MEX)|   192|    90|\n",
            "| Australia|  9|      FW|       JURIC Tomi|22.07.1991|     JURIC|     FC Luzern (SUI)|   190|    80|\n",
            "| Australia|  6|      DF|   JURMAN Matthew|08.12.1989|    JURMAN|Suwon Samsung Blu...|   190|    83|\n",
            "| Australia| 12|      GK|       JONES Brad|19.03.1982|     JONES|Feyenoord Rotterd...|   193|    87|\n",
            "| Australia| 18|      GK|    VUKOVIC Danny|27.03.1985|   VUKOVIC|      KRC Genk (BEL)|   187|    94|\n",
            "|   Belgium|  4|      DF|  KOMPANY Vincent|10.04.1986|   KOMPANY|Manchester City F...|   190|    85|\n",
            "|   Belgium|  8|      MF|FELLAINI Marouane|22.11.1987|  FELLAINI|Manchester United...|   194|    85|\n",
            "|   Belgium| 13|      GK|    CASTEELS Koen|25.06.1992|  CASTEELS| VfL Wolfsburg (GER)|   197|    86|\n",
            "|   Belgium| 12|      GK|   MIGNOLET Simon|06.03.1988|  MIGNOLET|  Liverpool FC (ENG)|   193|    87|\n",
            "|   Belgium| 15|      DF|   MEUNIER Thomas|12.09.1991|   MEUNIER|Paris Saint-Germa...|   190|    88|\n",
            "|   Belgium|  1|      GK| COURTOIS Thibaut|11.05.1992|  COURTOIS|    Chelsea FC (ENG)|   199|    91|\n",
            "|   Belgium|  9|      FW|    LUKAKU Romelu|13.05.1993| R. LUKAKU|Manchester United...|   190|    94|\n",
            "|    Brazil|  4|      DF|    PEDRO GEROMEL|21.09.1985|   GEROMEL|   Grêmio FBPA (BRA)|   190|    84|\n",
            "|    Brazil|  1|      GK|          ALISSON|02.10.1992| A. BECKER|       AS Roma (ITA)|   193|    91|\n",
            "|    Brazil| 16|      GK|           CASSIO|06.06.1987|    CASSIO|SC Corinthians (BRA)|   195|    92|\n",
            "|  Colombia| 13|      DF|       MINA Yerry|23.09.1994|   Y. MINA|  FC Barcelona (ESP)|   194|    95|\n",
            "|Costa Rica| 19|      DF|   WASTON Kendall|01.01.1988| K. WASTON|Vancouver Whiteca...|   196|    87|\n",
            "|   Croatia|  5|      DF|   CORLUKA Vedran|05.02.1986|   ĆORLUKA|FC Lokomotiv Mosc...|   192|    84|\n",
            "|   Croatia| 23|      GK|  SUBASIC Danijel|27.10.1984|   SUBAŠIĆ|     AS Monaco (FRA)|   191|    84|\n",
            "+----------+---+--------+-----------------+----------+----------+--------------------+------+------+\n",
            "only showing top 20 rows\n",
            "\n"
          ]
        }
      ]
    },
    {
      "cell_type": "markdown",
      "source": [
        "Podemos, inclusive, combinar ambos. AND e também OR."
      ],
      "metadata": {
        "id": "FeLktoLossrW"
      }
    },
    {
      "cell_type": "code",
      "source": [
        "df.filter((col('Height') >= 190) & (col('Weight') >= 80) & (col(\"Team\") =='Belgium')).show()"
      ],
      "metadata": {
        "colab": {
          "base_uri": "https://localhost:8080/"
        },
        "id": "6XKkT3wpsFwn",
        "outputId": "9f5ab1aa-9e0a-4ea4-8aeb-14b1f7c58dbb"
      },
      "execution_count": 30,
      "outputs": [
        {
          "output_type": "stream",
          "name": "stdout",
          "text": [
            "+-------+---+--------+-----------------+----------+----------+--------------------+------+------+\n",
            "|   Team|  #|Position|FIFA Popular Name|Birth Date|Shirt Name|                Club|Height|Weight|\n",
            "+-------+---+--------+-----------------+----------+----------+--------------------+------+------+\n",
            "|Belgium|  4|      DF|  KOMPANY Vincent|10.04.1986|   KOMPANY|Manchester City F...|   190|    85|\n",
            "|Belgium|  8|      MF|FELLAINI Marouane|22.11.1987|  FELLAINI|Manchester United...|   194|    85|\n",
            "|Belgium| 13|      GK|    CASTEELS Koen|25.06.1992|  CASTEELS| VfL Wolfsburg (GER)|   197|    86|\n",
            "|Belgium| 12|      GK|   MIGNOLET Simon|06.03.1988|  MIGNOLET|  Liverpool FC (ENG)|   193|    87|\n",
            "|Belgium| 15|      DF|   MEUNIER Thomas|12.09.1991|   MEUNIER|Paris Saint-Germa...|   190|    88|\n",
            "|Belgium|  1|      GK| COURTOIS Thibaut|11.05.1992|  COURTOIS|    Chelsea FC (ENG)|   199|    91|\n",
            "|Belgium|  9|      FW|    LUKAKU Romelu|13.05.1993| R. LUKAKU|Manchester United...|   190|    94|\n",
            "+-------+---+--------+-----------------+----------+----------+--------------------+------+------+\n",
            "\n"
          ]
        }
      ]
    },
    {
      "cell_type": "markdown",
      "source": [
        "Agora, nós podemos criar novas colunas (usando a função lit)"
      ],
      "metadata": {
        "id": "ha-30WzztKrv"
      }
    },
    {
      "cell_type": "code",
      "source": [
        "df = df.withColumn('WorldCup Year', lit('2018'))"
      ],
      "metadata": {
        "id": "y-T3iMd_tKFq"
      },
      "execution_count": 31,
      "outputs": []
    },
    {
      "cell_type": "code",
      "source": [
        "df.show(5)"
      ],
      "metadata": {
        "colab": {
          "base_uri": "https://localhost:8080/"
        },
        "id": "1C4T8ga9tHdo",
        "outputId": "aca1ee73-bfc7-4db0-ebff-db744d427e9c"
      },
      "execution_count": 32,
      "outputs": [
        {
          "output_type": "stream",
          "name": "stdout",
          "text": [
            "+---------+---+--------+------------------+----------+----------+--------------------+------+------+-------------+\n",
            "|     Team|  #|Position| FIFA Popular Name|Birth Date|Shirt Name|                Club|Height|Weight|WorldCup Year|\n",
            "+---------+---+--------+------------------+----------+----------+--------------------+------+------+-------------+\n",
            "|Argentina|  3|      DF|TAGLIAFICO Nicolas|31.08.1992|TAGLIAFICO|      AFC Ajax (NED)|   169|    65|         2018|\n",
            "|Argentina| 22|      MF|    PAVON Cristian|21.01.1996|     PAVÓN|CA Boca Juniors (...|   169|    65|         2018|\n",
            "|Argentina| 15|      MF|    LANZINI Manuel|15.02.1993|   LANZINI|West Ham United F...|   167|    66|         2018|\n",
            "|Argentina| 18|      DF|    SALVIO Eduardo|13.07.1990|    SALVIO|    SL Benfica (POR)|   167|    69|         2018|\n",
            "|Argentina| 10|      FW|      MESSI Lionel|24.06.1987|     MESSI|  FC Barcelona (ESP)|   170|    72|         2018|\n",
            "+---------+---+--------+------------------+----------+----------+--------------------+------+------+-------------+\n",
            "only showing top 5 rows\n",
            "\n"
          ]
        }
      ]
    },
    {
      "cell_type": "markdown",
      "source": [
        "VOLTAR AQUI DEPOIS PARA RESOLVER\n"
      ],
      "metadata": {
        "id": "EH2DD8UiyPo9"
      }
    },
    {
      "cell_type": "code",
      "source": [
        "for coluna in df.columns:\n",
        "  df.withColumn('Country', lit((\"Team\").rstrip(3))).show(5)"
      ],
      "metadata": {
        "colab": {
          "base_uri": "https://localhost:8080/",
          "height": 159
        },
        "id": "t949v3GVuCcx",
        "outputId": "94676142-72c0-4eec-a7d6-76c88af01de1"
      },
      "execution_count": 33,
      "outputs": [
        {
          "output_type": "error",
          "ename": "TypeError",
          "evalue": "rstrip arg must be None or str",
          "traceback": [
            "\u001b[0;31m---------------------------------------------------------------------------\u001b[0m",
            "\u001b[0;31mTypeError\u001b[0m                                 Traceback (most recent call last)",
            "\u001b[0;32m<ipython-input-33-5b32992ee699>\u001b[0m in \u001b[0;36m<cell line: 1>\u001b[0;34m()\u001b[0m\n\u001b[1;32m      1\u001b[0m \u001b[0;32mfor\u001b[0m \u001b[0mcoluna\u001b[0m \u001b[0;32min\u001b[0m \u001b[0mdf\u001b[0m\u001b[0;34m.\u001b[0m\u001b[0mcolumns\u001b[0m\u001b[0;34m:\u001b[0m\u001b[0;34m\u001b[0m\u001b[0;34m\u001b[0m\u001b[0m\n\u001b[0;32m----> 2\u001b[0;31m   \u001b[0mdf\u001b[0m\u001b[0;34m.\u001b[0m\u001b[0mwithColumn\u001b[0m\u001b[0;34m(\u001b[0m\u001b[0;34m'Country'\u001b[0m\u001b[0;34m,\u001b[0m \u001b[0mlit\u001b[0m\u001b[0;34m(\u001b[0m\u001b[0;34m(\u001b[0m\u001b[0;34m\"Team\"\u001b[0m\u001b[0;34m)\u001b[0m\u001b[0;34m.\u001b[0m\u001b[0mrstrip\u001b[0m\u001b[0;34m(\u001b[0m\u001b[0;36m3\u001b[0m\u001b[0;34m)\u001b[0m\u001b[0;34m)\u001b[0m\u001b[0;34m)\u001b[0m\u001b[0;34m.\u001b[0m\u001b[0mshow\u001b[0m\u001b[0;34m(\u001b[0m\u001b[0;36m5\u001b[0m\u001b[0;34m)\u001b[0m\u001b[0;34m\u001b[0m\u001b[0;34m\u001b[0m\u001b[0m\n\u001b[0m",
            "\u001b[0;31mTypeError\u001b[0m: rstrip arg must be None or str"
          ]
        }
      ]
    },
    {
      "cell_type": "markdown",
      "source": [
        "CRIAR COLUNA CONDICIONAL ( USANDO A FUNÇÃO SUBSTRING)"
      ],
      "metadata": {
        "id": "qd8xvoyNyTUd"
      }
    },
    {
      "cell_type": "code",
      "source": [
        "\n",
        "df = df.withColumn('Country', substring('Team',1,3))"
      ],
      "metadata": {
        "id": "d5P1RJtWwZfq"
      },
      "execution_count": 34,
      "outputs": []
    },
    {
      "cell_type": "code",
      "source": [
        "df.filter(col(\"Country\") == \"Arg\").show(5)"
      ],
      "metadata": {
        "colab": {
          "base_uri": "https://localhost:8080/"
        },
        "id": "LVUp39sAy1LM",
        "outputId": "d5e8e9c3-b9a8-4cd7-ca1f-07a26afeac87"
      },
      "execution_count": 35,
      "outputs": [
        {
          "output_type": "stream",
          "name": "stdout",
          "text": [
            "+---------+---+--------+------------------+----------+----------+--------------------+------+------+-------------+-------+\n",
            "|     Team|  #|Position| FIFA Popular Name|Birth Date|Shirt Name|                Club|Height|Weight|WorldCup Year|Country|\n",
            "+---------+---+--------+------------------+----------+----------+--------------------+------+------+-------------+-------+\n",
            "|Argentina|  3|      DF|TAGLIAFICO Nicolas|31.08.1992|TAGLIAFICO|      AFC Ajax (NED)|   169|    65|         2018|    Arg|\n",
            "|Argentina| 22|      MF|    PAVON Cristian|21.01.1996|     PAVÓN|CA Boca Juniors (...|   169|    65|         2018|    Arg|\n",
            "|Argentina| 15|      MF|    LANZINI Manuel|15.02.1993|   LANZINI|West Ham United F...|   167|    66|         2018|    Arg|\n",
            "|Argentina| 18|      DF|    SALVIO Eduardo|13.07.1990|    SALVIO|    SL Benfica (POR)|   167|    69|         2018|    Arg|\n",
            "|Argentina| 10|      FW|      MESSI Lionel|24.06.1987|     MESSI|  FC Barcelona (ESP)|   170|    72|         2018|    Arg|\n",
            "+---------+---+--------+------------------+----------+----------+--------------------+------+------+-------------+-------+\n",
            "only showing top 5 rows\n",
            "\n"
          ]
        }
      ]
    },
    {
      "cell_type": "code",
      "source": [
        "df = df.withColumn('Year', substring('Birth Date',-4,4))"
      ],
      "metadata": {
        "id": "1bkxEvLyzDuG"
      },
      "execution_count": 36,
      "outputs": []
    },
    {
      "cell_type": "code",
      "source": [
        "df.show(5)"
      ],
      "metadata": {
        "colab": {
          "base_uri": "https://localhost:8080/"
        },
        "id": "UVDNgvwn1KBp",
        "outputId": "54395bf9-f743-497c-d15c-e1b3215c0d4d"
      },
      "execution_count": 37,
      "outputs": [
        {
          "output_type": "stream",
          "name": "stdout",
          "text": [
            "+---------+---+--------+------------------+----------+----------+--------------------+------+------+-------------+-------+----+\n",
            "|     Team|  #|Position| FIFA Popular Name|Birth Date|Shirt Name|                Club|Height|Weight|WorldCup Year|Country|Year|\n",
            "+---------+---+--------+------------------+----------+----------+--------------------+------+------+-------------+-------+----+\n",
            "|Argentina|  3|      DF|TAGLIAFICO Nicolas|31.08.1992|TAGLIAFICO|      AFC Ajax (NED)|   169|    65|         2018|    Arg|1992|\n",
            "|Argentina| 22|      MF|    PAVON Cristian|21.01.1996|     PAVÓN|CA Boca Juniors (...|   169|    65|         2018|    Arg|1996|\n",
            "|Argentina| 15|      MF|    LANZINI Manuel|15.02.1993|   LANZINI|West Ham United F...|   167|    66|         2018|    Arg|1993|\n",
            "|Argentina| 18|      DF|    SALVIO Eduardo|13.07.1990|    SALVIO|    SL Benfica (POR)|   167|    69|         2018|    Arg|1990|\n",
            "|Argentina| 10|      FW|      MESSI Lionel|24.06.1987|     MESSI|  FC Barcelona (ESP)|   170|    72|         2018|    Arg|1987|\n",
            "+---------+---+--------+------------------+----------+----------+--------------------+------+------+-------------+-------+----+\n",
            "only showing top 5 rows\n",
            "\n"
          ]
        }
      ]
    },
    {
      "cell_type": "markdown",
      "source": [
        "Criar coluna condicional juntando duas colunas ( no caso, vou usar o concat/Concat_ws). É muito bom para criar chaves fortes, por exemplo."
      ],
      "metadata": {
        "id": "j0wPM0c22vZg"
      }
    },
    {
      "cell_type": "code",
      "source": [
        "df = df.withColumn('Key', concat(col('Team'),col('Year'),col('Shirt Name')))"
      ],
      "metadata": {
        "id": "Drn78HwW2sKU"
      },
      "execution_count": 38,
      "outputs": []
    },
    {
      "cell_type": "code",
      "source": [
        "df.withColumn('Key', concat(col('Team'),col('Year'),col('Shirt Name'))).show(5)"
      ],
      "metadata": {
        "colab": {
          "base_uri": "https://localhost:8080/"
        },
        "id": "DwbniUW13A-i",
        "outputId": "9a3de7f1-ac50-45b6-b9d5-31acc4ee0914"
      },
      "execution_count": 39,
      "outputs": [
        {
          "output_type": "stream",
          "name": "stdout",
          "text": [
            "+---------+---+--------+------------------+----------+----------+--------------------+------+------+-------------+-------+----+--------------------+\n",
            "|     Team|  #|Position| FIFA Popular Name|Birth Date|Shirt Name|                Club|Height|Weight|WorldCup Year|Country|Year|                 Key|\n",
            "+---------+---+--------+------------------+----------+----------+--------------------+------+------+-------------+-------+----+--------------------+\n",
            "|Argentina|  3|      DF|TAGLIAFICO Nicolas|31.08.1992|TAGLIAFICO|      AFC Ajax (NED)|   169|    65|         2018|    Arg|1992|Argentina1992TAGL...|\n",
            "|Argentina| 22|      MF|    PAVON Cristian|21.01.1996|     PAVÓN|CA Boca Juniors (...|   169|    65|         2018|    Arg|1996|  Argentina1996PAVÓN|\n",
            "|Argentina| 15|      MF|    LANZINI Manuel|15.02.1993|   LANZINI|West Ham United F...|   167|    66|         2018|    Arg|1993|Argentina1993LANZINI|\n",
            "|Argentina| 18|      DF|    SALVIO Eduardo|13.07.1990|    SALVIO|    SL Benfica (POR)|   167|    69|         2018|    Arg|1990| Argentina1990SALVIO|\n",
            "|Argentina| 10|      FW|      MESSI Lionel|24.06.1987|     MESSI|  FC Barcelona (ESP)|   170|    72|         2018|    Arg|1987|  Argentina1987MESSI|\n",
            "+---------+---+--------+------------------+----------+----------+--------------------+------+------+-------------+-------+----+--------------------+\n",
            "only showing top 5 rows\n",
            "\n"
          ]
        }
      ]
    },
    {
      "cell_type": "markdown",
      "source": [
        "Alterar tipo de coluna"
      ],
      "metadata": {
        "id": "Dfr19aQv6tZ5"
      }
    },
    {
      "cell_type": "code",
      "source": [
        "df.printSchema()"
      ],
      "metadata": {
        "colab": {
          "base_uri": "https://localhost:8080/"
        },
        "id": "35iY2L2I6kT5",
        "outputId": "5200f26d-5896-4b51-f060-d3e299f8eb6e"
      },
      "execution_count": 40,
      "outputs": [
        {
          "output_type": "stream",
          "name": "stdout",
          "text": [
            "root\n",
            " |-- Team: string (nullable = true)\n",
            " |-- #: integer (nullable = true)\n",
            " |-- Position: string (nullable = true)\n",
            " |-- FIFA Popular Name: string (nullable = true)\n",
            " |-- Birth Date: string (nullable = true)\n",
            " |-- Shirt Name: string (nullable = true)\n",
            " |-- Club: string (nullable = true)\n",
            " |-- Height: integer (nullable = true)\n",
            " |-- Weight: integer (nullable = true)\n",
            " |-- WorldCup Year: string (nullable = false)\n",
            " |-- Country: string (nullable = true)\n",
            " |-- Year: string (nullable = true)\n",
            " |-- Key: string (nullable = true)\n",
            "\n"
          ]
        }
      ]
    },
    {
      "cell_type": "markdown",
      "source": [
        "Já que a coluna Ano veio como string, a gente vai transformar ele em data"
      ],
      "metadata": {
        "id": "gPh6fG3N7KBl"
      }
    },
    {
      "cell_type": "code",
      "source": [
        "df = df.withColumn('Year', to_date(col('Year'),'yyyy'))"
      ],
      "metadata": {
        "id": "2btl40SC7HZh"
      },
      "execution_count": 41,
      "outputs": []
    },
    {
      "cell_type": "code",
      "source": [
        "df.withColumn('Year', to_date(col('Year'),'yyyy')).printSchema()"
      ],
      "metadata": {
        "colab": {
          "base_uri": "https://localhost:8080/"
        },
        "id": "29TKvNyg7W0_",
        "outputId": "047b6b52-24b9-4bd4-e010-3f884af08ca5"
      },
      "execution_count": 42,
      "outputs": [
        {
          "output_type": "stream",
          "name": "stdout",
          "text": [
            "root\n",
            " |-- Team: string (nullable = true)\n",
            " |-- #: integer (nullable = true)\n",
            " |-- Position: string (nullable = true)\n",
            " |-- FIFA Popular Name: string (nullable = true)\n",
            " |-- Birth Date: string (nullable = true)\n",
            " |-- Shirt Name: string (nullable = true)\n",
            " |-- Club: string (nullable = true)\n",
            " |-- Height: integer (nullable = true)\n",
            " |-- Weight: integer (nullable = true)\n",
            " |-- WorldCup Year: string (nullable = false)\n",
            " |-- Country: string (nullable = true)\n",
            " |-- Year: date (nullable = true)\n",
            " |-- Key: string (nullable = true)\n",
            "\n"
          ]
        }
      ]
    },
    {
      "cell_type": "code",
      "source": [
        "df.show(5)"
      ],
      "metadata": {
        "id": "P9toGeXI7rPd",
        "colab": {
          "base_uri": "https://localhost:8080/"
        },
        "outputId": "941ccb1e-0508-4e8f-9e87-a79fa17a7890"
      },
      "execution_count": 43,
      "outputs": [
        {
          "output_type": "stream",
          "name": "stdout",
          "text": [
            "+---------+---+--------+------------------+----------+----------+--------------------+------+------+-------------+-------+----------+--------------------+\n",
            "|     Team|  #|Position| FIFA Popular Name|Birth Date|Shirt Name|                Club|Height|Weight|WorldCup Year|Country|      Year|                 Key|\n",
            "+---------+---+--------+------------------+----------+----------+--------------------+------+------+-------------+-------+----------+--------------------+\n",
            "|Argentina|  3|      DF|TAGLIAFICO Nicolas|31.08.1992|TAGLIAFICO|      AFC Ajax (NED)|   169|    65|         2018|    Arg|1992-01-01|Argentina1992TAGL...|\n",
            "|Argentina| 22|      MF|    PAVON Cristian|21.01.1996|     PAVÓN|CA Boca Juniors (...|   169|    65|         2018|    Arg|1996-01-01|  Argentina1996PAVÓN|\n",
            "|Argentina| 15|      MF|    LANZINI Manuel|15.02.1993|   LANZINI|West Ham United F...|   167|    66|         2018|    Arg|1993-01-01|Argentina1993LANZINI|\n",
            "|Argentina| 18|      DF|    SALVIO Eduardo|13.07.1990|    SALVIO|    SL Benfica (POR)|   167|    69|         2018|    Arg|1990-01-01| Argentina1990SALVIO|\n",
            "|Argentina| 10|      FW|      MESSI Lionel|24.06.1987|     MESSI|  FC Barcelona (ESP)|   170|    72|         2018|    Arg|1987-01-01|  Argentina1987MESSI|\n",
            "+---------+---+--------+------------------+----------+----------+--------------------+------+------+-------------+-------+----------+--------------------+\n",
            "only showing top 5 rows\n",
            "\n"
          ]
        }
      ]
    },
    {
      "cell_type": "code",
      "source": [
        "dia = udf(lambda x: x.split('.')[0])"
      ],
      "metadata": {
        "id": "lpH-ipYl-YOM"
      },
      "execution_count": 55,
      "outputs": []
    },
    {
      "cell_type": "code",
      "source": [
        "mes = udf(lambda x: x.split('.')[1])"
      ],
      "metadata": {
        "id": "Zc87Jt5uAOQk"
      },
      "execution_count": 60,
      "outputs": []
    },
    {
      "cell_type": "code",
      "source": [
        "ano = udf(lambda x: x.split('.')[2])"
      ],
      "metadata": {
        "id": "UZ_Q8KK7AmO2"
      },
      "execution_count": 62,
      "outputs": []
    },
    {
      "cell_type": "markdown",
      "source": [],
      "metadata": {
        "id": "ArtcMzKmAlZD"
      }
    },
    {
      "cell_type": "code",
      "source": [
        "df = df.withColumn('Day', dia(col('Birth Date')))"
      ],
      "metadata": {
        "id": "zjZ6nNH4-f-f"
      },
      "execution_count": 64,
      "outputs": []
    },
    {
      "cell_type": "code",
      "source": [
        "df = df.withColumn('Month', mes(col('Birth Date')))"
      ],
      "metadata": {
        "id": "4iB1ocv9AT4O"
      },
      "execution_count": 65,
      "outputs": []
    },
    {
      "cell_type": "code",
      "source": [
        "df = df.withColumn('Year', ano(col('Birth Date')))"
      ],
      "metadata": {
        "id": "RPObWFmM-k9O"
      },
      "execution_count": 66,
      "outputs": []
    },
    {
      "cell_type": "code",
      "source": [
        "df.show(5)"
      ],
      "metadata": {
        "colab": {
          "base_uri": "https://localhost:8080/"
        },
        "id": "tGfgX2W1ArVk",
        "outputId": "f4d851c9-3279-476b-8aa3-635155593167"
      },
      "execution_count": 67,
      "outputs": [
        {
          "output_type": "stream",
          "name": "stdout",
          "text": [
            "+---------+---+--------+------------------+----------+----------+--------------------+------+------+-------------+-------+----+--------------------+---+-----+\n",
            "|     Team|  #|Position| FIFA Popular Name|Birth Date|Shirt Name|                Club|Height|Weight|WorldCup Year|Country|Year|                 Key|Day|Month|\n",
            "+---------+---+--------+------------------+----------+----------+--------------------+------+------+-------------+-------+----+--------------------+---+-----+\n",
            "|Argentina|  3|      DF|TAGLIAFICO Nicolas|31.08.1992|TAGLIAFICO|      AFC Ajax (NED)|   169|    65|         2018|    Arg|1992|Argentina1992TAGL...| 31|   08|\n",
            "|Argentina| 22|      MF|    PAVON Cristian|21.01.1996|     PAVÓN|CA Boca Juniors (...|   169|    65|         2018|    Arg|1996|  Argentina1996PAVÓN| 21|   01|\n",
            "|Argentina| 15|      MF|    LANZINI Manuel|15.02.1993|   LANZINI|West Ham United F...|   167|    66|         2018|    Arg|1993|Argentina1993LANZINI| 15|   02|\n",
            "|Argentina| 18|      DF|    SALVIO Eduardo|13.07.1990|    SALVIO|    SL Benfica (POR)|   167|    69|         2018|    Arg|1990| Argentina1990SALVIO| 13|   07|\n",
            "|Argentina| 10|      FW|      MESSI Lionel|24.06.1987|     MESSI|  FC Barcelona (ESP)|   170|    72|         2018|    Arg|1987|  Argentina1987MESSI| 24|   06|\n",
            "+---------+---+--------+------------------+----------+----------+--------------------+------+------+-------------+-------+----+--------------------+---+-----+\n",
            "only showing top 5 rows\n",
            "\n"
          ]
        }
      ]
    },
    {
      "cell_type": "code",
      "source": [
        "df = df.withColumn('Year_month_Day', concat_ws('-',col('Year'),col('Month'),col('Day')))"
      ],
      "metadata": {
        "colab": {
          "base_uri": "https://localhost:8080/"
        },
        "id": "5ueIJopkBCWO",
        "outputId": "b7253703-c1a5-47e5-8ebd-09d278eb18d5"
      },
      "execution_count": 70,
      "outputs": [
        {
          "output_type": "stream",
          "name": "stdout",
          "text": [
            "+---------+---+--------+------------------+----------+----------+--------------------+------+------+-------------+-------+----+--------------------+---+-----+--------------+\n",
            "|     Team|  #|Position| FIFA Popular Name|Birth Date|Shirt Name|                Club|Height|Weight|WorldCup Year|Country|Year|                 Key|Day|Month|Year_month_Day|\n",
            "+---------+---+--------+------------------+----------+----------+--------------------+------+------+-------------+-------+----+--------------------+---+-----+--------------+\n",
            "|Argentina|  3|      DF|TAGLIAFICO Nicolas|31.08.1992|TAGLIAFICO|      AFC Ajax (NED)|   169|    65|         2018|    Arg|1992|Argentina1992TAGL...| 31|   08|    1992-08-31|\n",
            "|Argentina| 22|      MF|    PAVON Cristian|21.01.1996|     PAVÓN|CA Boca Juniors (...|   169|    65|         2018|    Arg|1996|  Argentina1996PAVÓN| 21|   01|    1996-01-21|\n",
            "|Argentina| 15|      MF|    LANZINI Manuel|15.02.1993|   LANZINI|West Ham United F...|   167|    66|         2018|    Arg|1993|Argentina1993LANZINI| 15|   02|    1993-02-15|\n",
            "|Argentina| 18|      DF|    SALVIO Eduardo|13.07.1990|    SALVIO|    SL Benfica (POR)|   167|    69|         2018|    Arg|1990| Argentina1990SALVIO| 13|   07|    1990-07-13|\n",
            "|Argentina| 10|      FW|      MESSI Lionel|24.06.1987|     MESSI|  FC Barcelona (ESP)|   170|    72|         2018|    Arg|1987|  Argentina1987MESSI| 24|   06|    1987-06-24|\n",
            "+---------+---+--------+------------------+----------+----------+--------------------+------+------+-------------+-------+----+--------------------+---+-----+--------------+\n",
            "only showing top 5 rows\n",
            "\n"
          ]
        }
      ]
    },
    {
      "cell_type": "code",
      "source": [],
      "metadata": {
        "id": "YLvlke04BUCl"
      },
      "execution_count": null,
      "outputs": []
    }
  ]
}